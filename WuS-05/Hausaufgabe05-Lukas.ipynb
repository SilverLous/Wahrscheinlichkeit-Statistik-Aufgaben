{
 "cells": [
  {
   "cell_type": "markdown",
   "metadata": {
    "deletable": false,
    "editable": false,
    "nbassignment": {
     "type": "header"
    },
    "nbgrader": {
     "cell_type": "markdown",
     "checksum": "eade112863ee249bd218e9abc1192ca0",
     "grade": false,
     "grade_id": "template_01e63c03_0",
     "locked": true,
     "schema_version": 3,
     "solution": false,
     "task": false
    }
   },
   "source": [
    "<div class=\"alert alert-block alert-info\">\n",
    "    <h1>Wahrscheinlichkeitstheorie und Statistik</h1>\n",
    "    <h2>WS 2020 / 2021</h2>\n",
    "    <h2>Intervallschätzer</h2>\n",
    "    <h3>Allgemeine Informationen:</h3>\n",
    "    <p>Schreiben Sie Ihre Antwort an die Stelle <i>YOUR ANSWER HERE</i>.</p>\n",
    "    <p>Wenn Sie eine Zelle bearbeiten, löschen Sie die Zeile <i>raise NotImplementedError()</i>.</p>\n",
    "    <p>Fügen Sie keine neuen Zellen hinzu oder löschen Zellen.</p>\n",
    "    <h3>Abgabetermin</h3>\n",
    "    <p>Die Abgabe der Hausaufgabe ist immer Dienstags um <strong>12:00 Uhr mittags</strong>! Vergessen Sie nicht Ihre Übung abzugeben.</p>\n",
    "    <h2>Viel Erfolg!</h2>   \n",
    "</div>"
   ]
  },
  {
   "cell_type": "markdown",
   "metadata": {
    "deletable": false,
    "editable": false,
    "nbassignment": {
     "type": "header"
    },
    "nbgrader": {
     "cell_type": "markdown",
     "checksum": "d168e673227861de0755d36f6fbe5c4f",
     "grade": false,
     "grade_id": "template_1c702a0c_0",
     "locked": true,
     "schema_version": 3,
     "solution": false,
     "task": false
    }
   },
   "source": [
    "<div class=\"alert alert-block alert-warning\">\n",
    "    <h2>Hinweise zur Bearbeitung der Übung</h2>\n",
    "    <h3>Angabe von Ergebnissen</h3>\n",
    "    <ul>\n",
    "        <li>Sie müssen nicht runden. Wir testen ob Ihr Ergebnis um maximal $5\\%$ vom exaktem Wert abweicht. $f_{rel }= \\frac{|x_{exakt} - x_{Studi}|}{x_{exakt}} \\leq 0.05$</li>\n",
    "        <li>Prozentzahlen werden immer als Zahl zwischen 0 und 1 angegeben. 30% wird somit als 0.3 angegeben.</li>\n",
    "        <li>Fließkommazahlen werden mit einem Dezimalpunkt angegeben, nicht mit einem Komma. $\\frac{1}{4} \\rightarrow 0.25$.</li>\n",
    "    </ul>\n",
    "    <h3>Programmcode</h3>\n",
    "    <ul>\n",
    "        <li>Benutzen Sie nur die in der nächsten Zelle angegebenen Bibliotheken mit den dort benutzten Namen. Wenn Sie also etwas aus der Bibliothek <i>random</i> nutzen wollen, verwenden Sie den Namen <i>rd</i>.</li>\n",
    "        <li>Das Ergebnis einer Funktion muss mittels <i>return</i> zurückgegeben werden. Ein <i>print</i> Statement ist keine gültige Rückgabe.</li>\n",
    "        <li>Stellen Sie sicher, dass sich Ihr Code ausführen lässt. Code der nicht läuft kann nicht automatisch bewertet werden.</li>\n",
    "        <li><strong>Bevor Sie abgeben:</strong> Klicken Sie im Menü auf Kernel > Restart & Run All. Damit führen Sie das Notebook von oben nach unten aus. Alle Fehler die dann auftreten, treten auch beim Bewerten auf.</li>\n",
    "        <li>Entfernen Sie die Zeilen <i>raise NotImplementedError()</i> wenn Sie eine Aufgabe bearbeiten. Ansonsten wird beim Bewerten eine Exception ausgelöst die uns sagt, dass Sie die Aufgabe nicht bearbeitet haben!</li>\n",
    "    </ul>\n",
    "    <h3>Plots</h3>\n",
    "    <ul>\n",
    "        <li>Jeder Plot soll eine Achsenbeschriftung, einen Titel, eine Legende und ein Grid haben.</li>\n",
    "    </ul>\n",
    "    \n",
    "</div>"
   ]
  },
  {
   "cell_type": "code",
   "execution_count": 2,
   "metadata": {
    "deletable": false,
    "editable": false,
    "nbassignment": {
     "type": "header"
    },
    "nbgrader": {
     "cell_type": "code",
     "checksum": "f5edb8833af4775e55993dc3a8c3fc53",
     "grade": false,
     "grade_id": "template_8864c0f3_0",
     "locked": true,
     "schema_version": 3,
     "solution": false,
     "task": false
    }
   },
   "outputs": [],
   "source": [
    "import math\n",
    "import collections\n",
    "import itertools        \n",
    "import glob\n",
    "import numpy as np\n",
    "import random as rd\n",
    "import pandas as pd        \n",
    "import matplotlib.pyplot as plt\n",
    "from scipy import stats"
   ]
  },
  {
   "cell_type": "markdown",
   "metadata": {
    "deletable": false,
    "editable": false,
    "nbgrader": {
     "cell_type": "markdown",
     "checksum": "315dcda09d7f858217d6b66f02ebde94",
     "grade": false,
     "grade_id": "Standard_Error_of_the_Mean_AStandard_Error_of_the_Mean_BStandard_Error_of_the_Mean_CStandard_Error_of_the_Mean_DStandard_Error_of_the_Mean_EStandard_Error_of_the_Mean_F_Header",
     "locked": true,
     "schema_version": 3,
     "solution": false
    }
   },
   "source": [
    "## Stichprobenfehler für den Mittelwert [70 Punkte]\n",
    "\n",
    "Diese Übungsaufgabe behandelt das Phänomen des Enthaltenseins mittels Intervallschätzung.\n",
    "\n",
    "Wir wollen den Mittelwert einer Verteilung schätzen und damit die Bedeutung eines Konfidenzintervalls illustrieren. \n",
    "\n",
    "Gegeben sei der aus den vorigen Übungen bekannte Datensatz ```health_cleaned.csv``` mit der Spalte ```Groesse```. \n",
    "\n",
    "Wenn wir eine Stichprobe einer bestimmten Größe ziehen und den Mittelwert berechnen, können wir mit einem Konfidenzintervall angeben, in wievielen Fällen das Konfidenzintervall den wahren Mittelwert durchschnittlich  enthält.\n"
   ]
  },
  {
   "cell_type": "markdown",
   "metadata": {
    "deletable": false,
    "editable": false,
    "nbgrader": {
     "cell_type": "markdown",
     "checksum": "07b342b1420ea99c900e9806f149bcda",
     "grade": false,
     "grade_id": "Standard_Error_of_the_Mean_A_Description0",
     "locked": true,
     "schema_version": 3,
     "solution": false
    }
   },
   "source": [
    "### Stichprobenfehler a) [10 Punkte]\n",
    "\n",
    "Schreiben Sie eine Funktion die aus einer Liste von Daten eine Stichprobe (mit Zurücklegen) zieht, den Mittelwert bildet und dieses Experiment $n$ mal wiederholt. Die Rückgabe der Funktion sind dann $n$ Mittelwerte als Liste."
   ]
  },
  {
   "cell_type": "code",
   "execution_count": 3,
   "metadata": {
    "deletable": false,
    "nbgrader": {
     "cell_type": "code",
     "checksum": "c43f2f5ef11a53b7189d917bd6c7c90f",
     "grade": true,
     "grade_id": "Standard_Error_of_the_Mean_A",
     "locked": false,
     "points": 10,
     "schema_version": 3,
     "solution": true
    }
   },
   "outputs": [],
   "source": [
    "def stichprobe(daten: [float], stichprobengroesse: int, wiederholungen: int) -> [float]:\n",
    "    \"\"\"\n",
    "    Ziehe eine Stichprobe und bilde den Mittelwert,\n",
    "    wiederhole n mal\n",
    "    \n",
    "    Arguments:\n",
    "        daten              -- Liste mit Fließkommazahlen\n",
    "        stichprobengroesse -- Anzahl der Werte aus denen der Mittelwert gebildet wird\n",
    "        wiederholungen     -- Wie oft soll das Experiment wiederholt werden\n",
    "    Returns:\n",
    "        mittelwerte        -- Eine Liste der Stichprobenmittelwerte\n",
    "    \"\"\"\n",
    "    # YOUR CODE HERE\n",
    "    n=0\n",
    "    nl=[]\n",
    "    for i in range(wiederholungen):\n",
    "        for i in range(stichprobengroesse):\n",
    "            n+=daten[rd.randint(0,len(daten)-1)]\n",
    "        nl.append( n/stichprobengroesse)\n",
    "        n=0\n",
    "    return nl\n",
    "#print(stichprobe(range(1,7),200,20))\n",
    "    # raise NotImplementedError()"
   ]
  },
  {
   "cell_type": "markdown",
   "metadata": {
    "deletable": false,
    "editable": false,
    "nbgrader": {
     "cell_type": "markdown",
     "checksum": "d86c10256977c7d73d8cd83a13bfc6b2",
     "grade": false,
     "grade_id": "Standard_Error_of_the_Mean_B_Description0",
     "locked": true,
     "schema_version": 3,
     "solution": false
    }
   },
   "source": [
    "### Stichprobenfehler b)  [10 Punkte]\n",
    "\n",
    "Schreiben Sie eine Funktion die die Länge des Konfidenzintervalls (zweiseitiger Test) berechnet."
   ]
  },
  {
   "cell_type": "code",
   "execution_count": 4,
   "metadata": {
    "deletable": false,
    "nbgrader": {
     "cell_type": "code",
     "checksum": "ffef2ec5880c0098c25f006f230e3d10",
     "grade": false,
     "grade_id": "Standard_Error_of_the_Mean_B",
     "locked": false,
     "schema_version": 3,
     "solution": true
    }
   },
   "outputs": [
    {
     "data": {
      "text/plain": [
       "1.3158829015611777"
      ]
     },
     "execution_count": 4,
     "metadata": {},
     "output_type": "execute_result"
    }
   ],
   "source": [
    "def konfidenzintervall(stichprobengroesse: int, varianz: float, konfidenz: float) -> float:\n",
    "    \"\"\"\n",
    "    Berechne das Konfidenzintervall\n",
    "    \n",
    "    Arguments:\n",
    "        stichprobengroesse -- Anzahl der Werte in der Stichprobe\n",
    "        varianz            -- Varianz der Grundgesamtheit\n",
    "        konfidenz          -- Konfidenzniveau\n",
    "    Returns:\n",
    "        laenge             -- Laenge des Konfidenzintervalls\n",
    "                              (obere Grenze - untere Grenze)\n",
    "    \"\"\"\n",
    "    # YOUR CODE HERE\n",
    "    # raise NotImplementedError()\n",
    "    \"\"\"mu = sum(range(stichprobengroesse))/stichprobengroesse\n",
    "    math.sqrt((1/(stichprobengroesse-1)*sum(range(stichprobengroesse))))\"\"\"\n",
    "    return (stats.norm.ppf(konfidenz)*math.sqrt(varianz)/math.sqrt(stichprobengroesse))*2\n",
    "    \n",
    "konfidenzintervall(25, 4, 0.95) # Erwartet: ungefähr 1.31"
   ]
  },
  {
   "cell_type": "code",
   "execution_count": null,
   "metadata": {
    "deletable": false,
    "editable": false,
    "nbgrader": {
     "cell_type": "code",
     "checksum": "c2d1f6dd9572c438474fdf24c66fa694",
     "grade": true,
     "grade_id": "test_Standard_Error_of_the_Mean_B0",
     "locked": true,
     "points": 10,
     "schema_version": 3,
     "solution": false
    }
   },
   "outputs": [],
   "source": []
  },
  {
   "cell_type": "markdown",
   "metadata": {
    "deletable": false,
    "editable": false,
    "nbgrader": {
     "cell_type": "markdown",
     "checksum": "dce399c57f20f58a068f04c1f2d102ad",
     "grade": false,
     "grade_id": "Standard_Error_of_the_Mean_C_Description0",
     "locked": true,
     "schema_version": 3,
     "solution": false
    }
   },
   "source": [
    "### Stichprobenfehler c)  [25 Punkte]\n",
    "\n",
    "Laden Sie den Datensatz ```health_cleaned.csv``` in einen Pandas Dataframe. \n",
    "\n",
    "Wir wollen nun Stichproben mit verschiedenen Größen für das Merkmal ```Groesse``` ziehen. \\\n",
    "Die vorgegeben Stichprobengrößen sind ```[9, 16, 25, 36, 49, 64, 81, 100, 121, 144]```. \\\n",
    "Für jede Stichprobengröße ziehen wir ```100``` Stichproben und erhalten so ```100``` Mittelwerte.\n",
    "\n",
    "Zusätzlich benötigen wir das 95% Konfidenzintervall für jede Stichprobengröße (vgl die Vorlesung ```Intervall Schätzer, Folie So berechnen: Konfidenzintervall für den Mittelwert bei bekanntem ```$\\sigma$ .). Die wiederholte Bestimmung des Mittelwerts aus der Stichprobe produziert eine Verteilung von Mittelwerten. \n",
    "\n",
    "Berechnen Sie für jede Stichprobengröße das Intervall um den echten Mittelwert (normalerweise nicht bekannt) mit der Länge des 95% Konfidenzintervalls (<span style=\"color:red\"><i><b>Achtung:</b></i></span> normalerweise liegt dieses Konfidenzintervall um den Schätzwert und nicht um den nicht bekannten Mittelwert der Grundgesamtheit).\n",
    "\n",
    "Plotten Sie für jede Stichprobengröße folgende Daten:\n",
    "\n",
    "- Einen Boxplot für die Stichproben der gegebenen Größe mit Mittelwert und Median\n",
    "- Das Konfidenzintervall für die Stichprobe um den **echten** Mittelwert\n",
    "\n",
    "*Hinweis:* Das folgende Bild zeigt einen Ausschnitt des Plots den Sie erstellen sollen (Konfidenzintervall für die Stichprobengröße 9 in blau).\n",
    "\n",
    "<img src='img/error_plot.png' width='15%'>\n",
    "\n",
    "Für die Labels der Boxplots können Sie den Parameter *labels* der Funktion ```plt.boxplot``` nutzen.\\\n",
    "Für das Konfidenzintervall können Sie die Funktion ```plt.errorbar``` nutzen."
   ]
  },
  {
   "cell_type": "code",
   "execution_count": 13,
   "metadata": {
    "deletable": false,
    "nbgrader": {
     "cell_type": "code",
     "checksum": "76d7cc2e330b2b3a7c1b056a70c0bc03",
     "grade": true,
     "grade_id": "Standard_Error_of_the_Mean_C",
     "locked": false,
     "points": 25,
     "schema_version": 3,
     "solution": true
    }
   },
   "outputs": [
    {
     "data": {
      "image/png": "[encoded data removed]",
      "text/plain": [
       "<Figure size 432x288 with 1 Axes>"
      ]
     },
     "metadata": {
      "needs_background": "light"
     },
     "output_type": "display_data"
    }
   ],
   "source": [
    "daten = pd.read_csv('data/health_cleaned.csv')\n",
    "\n",
    "slist = [9, 16, 25, 36, 49, 64, 81, 100, 121, 144]\n",
    "mwlist = []\n",
    "konflist=[]\n",
    "xkonflist=[]\n",
    "mw = 0\n",
    "l = len(daten[\"Groesse\"])\n",
    "std = daten[\"Groesse\"].std()\n",
    "mean = daten[\"Groesse\"].mean()\n",
    "for i in slist:\n",
    "    mw = np.array(stichprobe(daten[\"Groesse\"],i,100))\n",
    "    mwlist.append(mw)\n",
    "    #print(mw+stats.norm.ppf(0.95)*std/math.sqrt(i))\n",
    "    tx = tuple((mw.mean()+stats.norm.ppf(0.95)*std/math.sqrt(i),mw.mean()-stats.norm.ppf(0.95)*std/math.sqrt(i)))\n",
    "    xkonflist.append(tx)\n",
    "    \n",
    "#plt.boxplot(xkonflist,labels=slist,autorange=True,whis=[0,100])\n",
    "plt.boxplot(mwlist,conf_intervals = xkonflist,labels=slist,showmeans=True,\n",
    "           medianprops={'color': 'orange', 'linewidth': 2, 'linestyle': ':'},\n",
    "           meanprops={'marker': '^'})\n",
    "xkonflist = np.array(xkonflist)\n",
    "for i,j in zip(slist,range(len(slist))):\n",
    "    #plt.errorbar(1.6+j,(mean+stats.norm.ppf(0.95)*std/math.sqrt(i),mean-stats.norm.ppf(0.95)*std/math.sqrt(i)))\n",
    "    plt.errorbar(1.5+j,(mean+(konfidenzintervall(i,std**2,0.95))/2,mean-(konfidenzintervall(i,std**2,0.95))/2,))\n",
    "#print((mean+stats.norm.ppf(0.95)*std/math.sqrt(l),mean-stats.norm.ppf(0.95)*std/math.sqrt(l)))\n",
    "#print(np.mean(mwlist),np.median(mwlist))\n",
    "plt.grid()\n",
    "plt.show()\n",
    "# YOUR CODE HERE\n",
    "#raise NotImplementedError()"
   ]
  },
  {
   "cell_type": "markdown",
   "metadata": {
    "deletable": false,
    "editable": false,
    "nbgrader": {
     "cell_type": "markdown",
     "checksum": "34781025d072b6ff0b676b2cbe2658a3",
     "grade": false,
     "grade_id": "Standard_Error_of_the_Mean_D_Description0",
     "locked": true,
     "schema_version": 3,
     "solution": false
    }
   },
   "source": [
    "### Stichprobenfehler d)  [5 Punkte]\n",
    "\n",
    "Interpretieren Sie den Plot. Was ist Unterschied zwischen dem grünem Dreieck und roter Linie in den Boxplots?"
   ]
  },
  {
   "cell_type": "markdown",
   "metadata": {
    "deletable": false,
    "nbgrader": {
     "cell_type": "markdown",
     "checksum": "fb137a4efa6284fe419c026ee130fce1",
     "grade": true,
     "grade_id": "Standard_Error_of_the_Mean_D",
     "locked": false,
     "points": 5,
     "schema_version": 3,
     "solution": true
    }
   },
   "source": [
    "Die rote Linie ist der median und das grüne Dreieck ist der Mittelwert von den Groessen."
   ]
  },
  {
   "cell_type": "markdown",
   "metadata": {
    "deletable": false,
    "editable": false,
    "nbgrader": {
     "cell_type": "markdown",
     "checksum": "b515fee3869c2c305ed6e2b437463c93",
     "grade": false,
     "grade_id": "Standard_Error_of_the_Mean_E_Description0",
     "locked": true,
     "schema_version": 3,
     "solution": false
    }
   },
   "source": [
    "### Stichprobenfehler e)  [10 Punkte]\n",
    "\n",
    "Wie repräsentiert sich der Zufall im Diagramm?\n",
    "\n",
    "Was ist die Ursache für den Zufall?"
   ]
  },
  {
   "cell_type": "markdown",
   "metadata": {
    "deletable": false,
    "nbgrader": {
     "cell_type": "markdown",
     "checksum": "2a5f7a8241412336c606f7baa1898718",
     "grade": true,
     "grade_id": "Standard_Error_of_the_Mean_E",
     "locked": false,
     "points": 10,
     "schema_version": 3,
     "solution": true
    }
   },
   "source": [
    "Es werden immer nur zufällige Stichproben genommen, randint."
   ]
  },
  {
   "cell_type": "markdown",
   "metadata": {
    "deletable": false,
    "editable": false,
    "nbgrader": {
     "cell_type": "markdown",
     "checksum": "c207b80c49dfb74af14948bb91326586",
     "grade": false,
     "grade_id": "Standard_Error_of_the_Mean_F_Description0",
     "locked": true,
     "schema_version": 3,
     "solution": false
    }
   },
   "source": [
    "### Stichprobenfehler f)  [10 Punkte]\n",
    "\n",
    "Zählen Sie pro Stichprobenexperiment wie häufig der Stichprobenmittelwert ausserhalb des erwarteten theoretisch vorhergesagten Intervalls um den Mittelwert der Grundgesamtheit liegt (bestätigen Sie die 95% Konfidenzregel).\n",
    "\n",
    "Speichern Sie diese Anzahl (als *value*) für jede Stichprobengröße (als *key*) im Dictionary ```anzahl_ausserhalb```\n"
   ]
  },
  {
   "cell_type": "code",
   "execution_count": 17,
   "metadata": {
    "deletable": false,
    "nbgrader": {
     "cell_type": "code",
     "checksum": "68b5c47797e23ebbe234af0097ec0a86",
     "grade": true,
     "grade_id": "Standard_Error_of_the_Mean_F",
     "locked": false,
     "points": 10,
     "schema_version": 3,
     "solution": true
    }
   },
   "outputs": [
    {
     "name": "stdout",
     "output_type": "stream",
     "text": [
      "{9: 11, 16: 6, 25: 9, 36: 6, 49: 2, 64: 3, 81: 7, 100: 1, 121: 5, 144: 6}\n"
     ]
    }
   ],
   "source": [
    "anzahl_ausserhalb = dict()\n",
    "xmean = np.mean(daten[\"Groesse\"])\n",
    "xvar = np.var(daten[\"Groesse\"])\n",
    "for i,j in zip(slist,range(len(slist))):\n",
    "    k=0\n",
    "    x = stichprobe(daten[\"Groesse\"],i,100)\n",
    "    fehler = konfidenzintervall(i,xvar,0.975)\n",
    "    #print(fehler)\n",
    "    for j in x:\n",
    "        if j>xmean+fehler/2 or j<xmean-fehler/2:\n",
    "            k+=1\n",
    "    anzahl_ausserhalb.update({(i):k})\n",
    "# YOUR CODE HERE\n",
    "# raise NotImplementedError()\n",
    "\n",
    "print(anzahl_ausserhalb)"
   ]
  },
  {
   "cell_type": "code",
   "execution_count": null,
   "metadata": {},
   "outputs": [],
   "source": []
  },
  {
   "cell_type": "code",
   "execution_count": null,
   "metadata": {},
   "outputs": [],
   "source": []
  },
  {
   "cell_type": "code",
   "execution_count": null,
   "metadata": {},
   "outputs": [],
   "source": []
  }
 ],
 "metadata": {
  "kernelspec": {
   "display_name": "ExamKernel",
   "language": "python",
   "name": "exam_kernel"
  },
  "language_info": {
   "extension": ".py",
   "mimetype": "text/plain",
   "name": "python"
  }
 },
 "nbformat": 4,
 "nbformat_minor": 4
}
