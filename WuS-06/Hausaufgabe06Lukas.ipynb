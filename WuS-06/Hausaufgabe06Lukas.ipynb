{
 "cells": [
  {
   "cell_type": "markdown",
   "metadata": {
    "deletable": false,
    "editable": false,
    "nbassignment": {
     "type": "header"
    },
    "nbgrader": {
     "cell_type": "markdown",
     "checksum": "f40f1da56d7c7d9486bcc8d03b5184c6",
     "grade": false,
     "grade_id": "template_01e63c03_0",
     "locked": true,
     "schema_version": 3,
     "solution": false,
     "task": false
    }
   },
   "source": [
    "<div class=\"alert alert-block alert-info\">\n",
    "    <h1>Wahrscheinlichkeitstheorie und Statistik</h1>\n",
    "    <h2>WS 2020 / 2021</h2>\n",
    "    <h2>Tests</h2>\n",
    "    <h3>Allgemeine Informationen:</h3>\n",
    "    <p>Schreiben Sie Ihre Antwort an die Stelle <i>YOUR ANSWER HERE</i>.</p>\n",
    "    <p>Wenn Sie eine Zelle bearbeiten, löschen Sie die Zeile <i>raise NotImplementedError()</i>.</p>\n",
    "    <p>Fügen Sie keine neuen Zellen hinzu oder löschen Zellen.</p>\n",
    "    <h3>Abgabetermin</h3>\n",
    "    <p>Die Abgabe der Hausaufgabe ist immer Dienstags um <strong>12:00 Uhr mittags</strong>! Vergessen Sie nicht Ihre Übung abzugeben.</p>\n",
    "    <h2>Viel Erfolg!</h2>   \n",
    "</div>"
   ]
  },
  {
   "cell_type": "markdown",
   "metadata": {
    "deletable": false,
    "editable": false,
    "nbassignment": {
     "type": "header"
    },
    "nbgrader": {
     "cell_type": "markdown",
     "checksum": "d168e673227861de0755d36f6fbe5c4f",
     "grade": false,
     "grade_id": "template_1c702a0c_0",
     "locked": true,
     "schema_version": 3,
     "solution": false,
     "task": false
    }
   },
   "source": [
    "<div class=\"alert alert-block alert-warning\">\n",
    "    <h2>Hinweise zur Bearbeitung der Übung</h2>\n",
    "    <h3>Angabe von Ergebnissen</h3>\n",
    "    <ul>\n",
    "        <li>Sie müssen nicht runden. Wir testen ob Ihr Ergebnis um maximal $5\\%$ vom exaktem Wert abweicht. $f_{rel }= \\frac{|x_{exakt} - x_{Studi}|}{x_{exakt}} \\leq 0.05$</li>\n",
    "        <li>Prozentzahlen werden immer als Zahl zwischen 0 und 1 angegeben. 30% wird somit als 0.3 angegeben.</li>\n",
    "        <li>Fließkommazahlen werden mit einem Dezimalpunkt angegeben, nicht mit einem Komma. $\\frac{1}{4} \\rightarrow 0.25$.</li>\n",
    "    </ul>\n",
    "    <h3>Programmcode</h3>\n",
    "    <ul>\n",
    "        <li>Benutzen Sie nur die in der nächsten Zelle angegebenen Bibliotheken mit den dort benutzten Namen. Wenn Sie also etwas aus der Bibliothek <i>random</i> nutzen wollen, verwenden Sie den Namen <i>rd</i>.</li>\n",
    "        <li>Das Ergebnis einer Funktion muss mittels <i>return</i> zurückgegeben werden. Ein <i>print</i> Statement ist keine gültige Rückgabe.</li>\n",
    "        <li>Stellen Sie sicher, dass sich Ihr Code ausführen lässt. Code der nicht läuft kann nicht automatisch bewertet werden.</li>\n",
    "        <li><strong>Bevor Sie abgeben:</strong> Klicken Sie im Menü auf Kernel > Restart & Run All. Damit führen Sie das Notebook von oben nach unten aus. Alle Fehler die dann auftreten, treten auch beim Bewerten auf.</li>\n",
    "        <li>Entfernen Sie die Zeilen <i>raise NotImplementedError()</i> wenn Sie eine Aufgabe bearbeiten. Ansonsten wird beim Bewerten eine Exception ausgelöst die uns sagt, dass Sie die Aufgabe nicht bearbeitet haben!</li>\n",
    "    </ul>\n",
    "    <h3>Plots</h3>\n",
    "    <ul>\n",
    "        <li>Jeder Plot soll eine Achsenbeschriftung, einen Titel, eine Legende und ein Grid haben.</li>\n",
    "    </ul>\n",
    "    \n",
    "</div>"
   ]
  },
  {
   "cell_type": "code",
   "execution_count": 9,
   "metadata": {
    "deletable": false,
    "editable": false,
    "nbassignment": {
     "type": "header"
    },
    "nbgrader": {
     "cell_type": "code",
     "checksum": "f5edb8833af4775e55993dc3a8c3fc53",
     "grade": false,
     "grade_id": "template_8864c0f3_0",
     "locked": true,
     "schema_version": 3,
     "solution": false,
     "task": false
    }
   },
   "outputs": [],
   "source": [
    "import math\n",
    "import collections\n",
    "import itertools        \n",
    "import glob\n",
    "import numpy as np\n",
    "import random as rd\n",
    "import pandas as pd        \n",
    "import matplotlib.pyplot as plt\n",
    "from scipy import stats"
   ]
  },
  {
   "cell_type": "markdown",
   "metadata": {
    "deletable": false,
    "editable": false,
    "nbgrader": {
     "cell_type": "markdown",
     "checksum": "5c0862a0d1182ee886e42ddbaae48677",
     "grade": false,
     "grade_id": "Gummibaerchen_AGummibaerchen_BGummibaerchen_CGummibaerchen_DGummibaerchen_E_Header",
     "locked": true,
     "schema_version": 3,
     "solution": false,
     "task": false
    }
   },
   "source": [
    "\n",
    "# Gummibärchen [30 Punkte]\n",
    "\n",
    "Sie essen gerne Gummibärchen. In einer Packung gibt es die Sorten Ananas, Himbeer, Apfel, Erdbeer, Orange und Zitrone. Jede Packung enthält ungefähr 150 Gummibärchen.\n",
    "\n",
    "Wir interessieren uns für die Verteilung der Sorten (bspw. ob eine Sorte öfter vorkommt) und wollen diese mit einem $\\chi^2$-Test überprüfen.\n",
    "\n",
    "Dazu kaufen wir 5 Packungen Gummibärchen mit insgesamt 750 Gummibärchen.\n",
    "\n",
    "Nach dem Zählen der Gummibärchen ergibt sich folgende Häufigkeitsverteilung:\n",
    "\n",
    "| Farbe  | Ananas | Himbeer | Apfel | Erdbeere | Orange | Zitrone |\n",
    "|--------|-----|------|------|------|--------|-------|\n",
    "| Anzahl | 135  | 114   | 130  | 141  | 105    | 125    |"
   ]
  },
  {
   "cell_type": "markdown",
   "metadata": {
    "deletable": false,
    "editable": false,
    "nbgrader": {
     "cell_type": "markdown",
     "checksum": "58555ae56655c7e1c03f43d52e8904c6",
     "grade": false,
     "grade_id": "Gummibaerchen_A_Description0",
     "locked": true,
     "schema_version": 3,
     "solution": false,
     "task": false
    }
   },
   "source": [
    "### Gummibärchen a) [5 Punkte]\n",
    "\n",
    "Stellen Sie die H0-Hypothese auf."
   ]
  },
  {
   "cell_type": "markdown",
   "metadata": {
    "deletable": false,
    "nbgrader": {
     "cell_type": "markdown",
     "checksum": "1e7ad77fb8c442ac8d9729f68c9f8ad0",
     "grade": true,
     "grade_id": "Gummibaerchen_A",
     "locked": false,
     "points": 5,
     "schema_version": 3,
     "solution": true,
     "task": false
    }
   },
   "source": [
    "Alle Gummibärchen kommen durchschnittlich gleich oft vor."
   ]
  },
  {
   "cell_type": "markdown",
   "metadata": {
    "deletable": false,
    "editable": false,
    "nbgrader": {
     "cell_type": "markdown",
     "checksum": "a775b09267bb5d168d9b9a28a7bb2cd9",
     "grade": false,
     "grade_id": "Gummibaerchen_B_Description0",
     "locked": true,
     "schema_version": 3,
     "solution": false,
     "task": false
    }
   },
   "source": [
    "### Gummibärchen b) [5 Punkte]\n",
    "\n",
    "Erstellen Sie zuerst einen pandas DataFrame mit den Spalten Sorte, Beobachtet, Erwartet.\n",
    "\n",
    "- Die Spalte Sorte enthalte den Namen der Sorte\n",
    "- Die Spalte Beobachtet enthalte die beobachtete Häufigkeit (s. Tabelle oben)\n",
    "- Die Spalte Erwartet enthalte die erwartete Häufigkeit für die H0 Hypothese\n",
    "\n",
    "Nennen Sie Ihren DataFrame ```gummibaerchen```"
   ]
  },
  {
   "cell_type": "code",
   "execution_count": 10,
   "metadata": {
    "deletable": false,
    "nbgrader": {
     "cell_type": "code",
     "checksum": "1624a95c49b3699382bc2387c3077f24",
     "grade": false,
     "grade_id": "Gummibaerchen_B",
     "locked": false,
     "schema_version": 3,
     "solution": true,
     "task": false
    }
   },
   "outputs": [
    {
     "data": {
      "text/plain": "      Sorte  Anzahl  Erwartet\n0    Ananas     135       125\n1   Himbeer     114       125\n2     Apfel     130       125\n3  Erdbeere     141       125\n4    Orange     105       125\n5   Zitrone     125       125",
      "text/html": "<div>\n<style scoped>\n    .dataframe tbody tr th:only-of-type {\n        vertical-align: middle;\n    }\n\n    .dataframe tbody tr th {\n        vertical-align: top;\n    }\n\n    .dataframe thead th {\n        text-align: right;\n    }\n</style>\n<table border=\"1\" class=\"dataframe\">\n  <thead>\n    <tr style=\"text-align: right;\">\n      <th></th>\n      <th>Sorte</th>\n      <th>Anzahl</th>\n      <th>Erwartet</th>\n    </tr>\n  </thead>\n  <tbody>\n    <tr>\n      <th>0</th>\n      <td>Ananas</td>\n      <td>135</td>\n      <td>125</td>\n    </tr>\n    <tr>\n      <th>1</th>\n      <td>Himbeer</td>\n      <td>114</td>\n      <td>125</td>\n    </tr>\n    <tr>\n      <th>2</th>\n      <td>Apfel</td>\n      <td>130</td>\n      <td>125</td>\n    </tr>\n    <tr>\n      <th>3</th>\n      <td>Erdbeere</td>\n      <td>141</td>\n      <td>125</td>\n    </tr>\n    <tr>\n      <th>4</th>\n      <td>Orange</td>\n      <td>105</td>\n      <td>125</td>\n    </tr>\n    <tr>\n      <th>5</th>\n      <td>Zitrone</td>\n      <td>125</td>\n      <td>125</td>\n    </tr>\n  </tbody>\n</table>\n</div>"
     },
     "execution_count": 10,
     "metadata": {},
     "output_type": "execute_result"
    }
   ],
   "source": [
    "import pandas as pd\n",
    "\n",
    "gummibaerchen = pd.DataFrame({\"Sorte\":[\"Ananas\",\"Himbeer\",\"Apfel\",\"Erdbeere\",\"Orange\",\"Zitrone\"],\"Anzahl\":[135,114,130,141,105,125],\"Erwartet\":[125]*6})\n",
    "# YOUR CODE HERE\n",
    "# raise NotImplementedError()\n",
    "gummibaerchen"
   ]
  },
  {
   "cell_type": "code",
   "execution_count": 10,
   "metadata": {
    "deletable": false,
    "editable": false,
    "nbgrader": {
     "cell_type": "code",
     "checksum": "4c4850d641c076bd58465b8da24c2b2b",
     "grade": true,
     "grade_id": "test_Gummibaerchen_B0",
     "locked": true,
     "points": 5,
     "schema_version": 3,
     "solution": false,
     "task": false
    }
   },
   "outputs": [],
   "source": []
  },
  {
   "cell_type": "markdown",
   "metadata": {
    "deletable": false,
    "editable": false,
    "nbgrader": {
     "cell_type": "markdown",
     "checksum": "5c6cf40aabed0c7b01e05663437589a4",
     "grade": false,
     "grade_id": "Gummibaerchen_C_Description0",
     "locked": true,
     "schema_version": 3,
     "solution": false,
     "task": false
    }
   },
   "source": [
    "### Gummibärchen c) [5 Punkte]\n",
    "\n",
    "Rechnen Sie die Prüfgröße $\\chi^2$ für den Test aus. Speichern Sie Ihre Lösung in der Variablen chi."
   ]
  },
  {
   "cell_type": "code",
   "execution_count": 11,
   "metadata": {
    "deletable": false,
    "nbgrader": {
     "cell_type": "code",
     "checksum": "a860bae4f912d8602f9763e508b9eb1e",
     "grade": false,
     "grade_id": "Gummibaerchen_C",
     "locked": false,
     "schema_version": 3,
     "solution": true,
     "task": false
    }
   },
   "outputs": [
    {
     "data": {
      "text/plain": "7.216"
     },
     "execution_count": 11,
     "metadata": {},
     "output_type": "execute_result"
    }
   ],
   "source": [
    "chi = sum(((x-125)**2)/125 for x in gummibaerchen[\"Anzahl\"])\n",
    "chi2 = stats.chisquare( gummibaerchen[\"Anzahl\"], gummibaerchen[\"Erwartet\"])\n",
    "# YOUR CODE HERE\n",
    "#raise NotImplementedError()\n",
    "chi"
   ]
  },
  {
   "cell_type": "code",
   "execution_count": 11,
   "metadata": {},
   "outputs": [],
   "source": []
  },
  {
   "cell_type": "code",
   "execution_count": 11,
   "metadata": {
    "deletable": false,
    "editable": false,
    "nbgrader": {
     "cell_type": "code",
     "checksum": "8dd3a5fae4a1662854aae86ee4e9bafa",
     "grade": true,
     "grade_id": "test_Gummibaerchen_C0",
     "locked": true,
     "points": 5,
     "schema_version": 3,
     "solution": false,
     "task": false
    }
   },
   "outputs": [],
   "source": []
  },
  {
   "cell_type": "markdown",
   "metadata": {
    "deletable": false,
    "editable": false,
    "nbgrader": {
     "cell_type": "markdown",
     "checksum": "c9086f0bf8129c09cff752c1908b4ef7",
     "grade": false,
     "grade_id": "Gummibaerchen_D_Description0",
     "locked": true,
     "schema_version": 3,
     "solution": false,
     "task": false
    }
   },
   "source": [
    "### Gummibärchen d) [5 Punkte]\n",
    "\n",
    "Benutzen Sie den $\\chi^2$ Test mit einem Signifikanzniveau von $\\alpha = 1 \\%$ um die Hypothese anzunehmen oder abzulehnen.\n",
    "\n",
    "Berechnen Sie die untere und obere Grenze für den Annahmebereich der H0 Hypothese.\n",
    "\n",
    "Speichern Sie Ihre Lösung in den Variablen untereGrenze und obereGrenze.\n",
    "\n",
    "Nehmen Sie die H0 Hypothese an? Speichern Sie Ihre Lösung als Boolean (True, False) in der Variablen ```h0angenommen```.\n"
   ]
  },
  {
   "cell_type": "code",
   "execution_count": 12,
   "metadata": {
    "deletable": false,
    "nbgrader": {
     "cell_type": "code",
     "checksum": "1369987af53bace7a70c7b8d778ebc80",
     "grade": false,
     "grade_id": "Gummibaerchen_D",
     "locked": false,
     "schema_version": 3,
     "solution": true,
     "task": false
    }
   },
   "outputs": [
    {
     "name": "stdout",
     "output_type": "stream",
     "text": [
      "Die Grenzen für den Annahmebereich sind (93.75, 0.99)\n",
      "Die H0 Hypothese wird abgelehnt\n"
     ]
    }
   ],
   "source": [
    "alpha = 0.01\n",
    "untereGrenze = stats.norm.ppf(alpha,loc = gummibaerchen[\"Anzahl\"].mean(),scale = gummibaerchen[\"Anzahl\"].std(),)\n",
    "obereGrenze = 1-alpha/2\n",
    "h0angenommen = chi2.pvalue > untereGrenze and chi2.pvalue < obereGrenze\n",
    "# YOUR CODE HERE\n",
    "#raise NotImplementedError()\n",
    "\n",
    "print('Die Grenzen für den Annahmebereich sind ({:.2f}, {:.2f})'.format(untereGrenze, obereGrenze))\n",
    "if h0angenommen:\n",
    "    print('Die H0 Hypothese wird angenommen')\n",
    "else:\n",
    "    print('Die H0 Hypothese wird abgelehnt')"
   ]
  },
  {
   "cell_type": "code",
   "execution_count": 13,
   "metadata": {
    "deletable": false,
    "editable": false,
    "nbgrader": {
     "cell_type": "code",
     "checksum": "ab4e9a8ae91f472bf63803f6dddaf14b",
     "grade": true,
     "grade_id": "test_Gummibaerchen_D0",
     "locked": true,
     "points": 5,
     "schema_version": 3,
     "solution": false,
     "task": false
    }
   },
   "outputs": [],
   "source": [
    "# Dies ist eine Testzelle, bitte ignorieren Sie diese"
   ]
  },
  {
   "cell_type": "markdown",
   "metadata": {
    "deletable": false,
    "editable": false,
    "nbgrader": {
     "cell_type": "markdown",
     "checksum": "d7edf7bf05c1540a33295a2b74352949",
     "grade": false,
     "grade_id": "Gummibaerchen_E_Description0",
     "locked": true,
     "schema_version": 3,
     "solution": false,
     "task": false
    }
   },
   "source": [
    "### Gummibärchen e) [10 Punkte]\n",
    "\n",
    "Erstellen Sie einen Plot für die Dichtefunktion der $\\chi^2$ Verteilung in den Grenzen von 0 bis 20.\n",
    "\n",
    "Zeichnen Sie die untere Grenze des Annahmebereichs und die obere Grenze des Annahmebereichs als vertikale Linie ein.\n",
    "\n",
    "Zeichnen Sie eine vertikale Linie für die Prüfgröße.\n",
    "\n",
    "Stellen Sie sicher, das der Wert der oberen und unteren, sowie der Prüfgröße im Plot ablesbar ist (siehe ```plt.xticks```).\n"
   ]
  },
  {
   "cell_type": "code",
   "execution_count": 14,
   "metadata": {
    "deletable": false,
    "nbgrader": {
     "cell_type": "code",
     "checksum": "163c49d4f9f839ab9ba23f4e4b671a7a",
     "grade": true,
     "grade_id": "Gummibaerchen_E",
     "locked": false,
     "points": 10,
     "schema_version": 3,
     "solution": true,
     "task": false
    }
   },
   "outputs": [
    {
     "data": {
      "text/plain": "<Figure size 432x288 with 1 Axes>",
      "image/png": "[encoded data removed]"
     },
     "metadata": {
      "needs_background": "light"
     },
     "output_type": "display_data"
    }
   ],
   "source": [
    "import matplotlib.pyplot as plt\n",
    "import numpy as np\n",
    "from scipy.stats import chi2\n",
    "arr = range(21)\n",
    "line = chi2.pdf(arr,chi)\n",
    "plt.plot(arr,line)\n",
    "plt.yticks()\n",
    "plt.xticks([obereGrenze*20,untereGrenze*20,chi],[\"obereGrenze\",\"untereGrenze\",\"Chi2\"])\n",
    "plt.grid()\n",
    "plt.show()\n",
    "# YOUR CODE HERE\n",
    "# raise NotImplementedError()\n",
    "\n",
    "# TEXT für vertikale Linien (oben, unten)"
   ]
  },
  {
   "cell_type": "markdown",
   "metadata": {
    "deletable": false,
    "editable": false,
    "nbgrader": {
     "cell_type": "markdown",
     "checksum": "cf0ae15c8daf4538b55932e0fec67976",
     "grade": false,
     "grade_id": "Massnahmen_Krankheit_A_Header",
     "locked": true,
     "schema_version": 3,
     "solution": false,
     "task": false
    }
   },
   "source": [
    "\n",
    "# Krankheit [30 Punkte]\n",
    "\n",
    "Ein Wissenschaftler hat verschiedene Maßnahmen gegen eine Krankheit getestet und möchte deren Wirksamkeit nun statistisch belegen.\n"
   ]
  },
  {
   "cell_type": "markdown",
   "metadata": {
    "deletable": false,
    "editable": false,
    "nbgrader": {
     "cell_type": "markdown",
     "checksum": "15d206dfeec6d3b7d4483b05619f403d",
     "grade": false,
     "grade_id": "Massnahmen_Krankheit_A_Description0",
     "locked": true,
     "schema_version": 3,
     "solution": false,
     "task": false
    }
   },
   "source": [
    "### Krankheit a) [30 Punkte]\n",
    "\n",
    "Implementieren Sie die Funktion ```kontingenztafel_test```, die eine Kontingenztafel erhält (bspw. Vierfeldertafel) und den Chi-Quadrat Test durchführt.\n",
    "\n",
    "Die Funktion soll die Prüfgröße, die Anzahl der Freiheitsgerade, sowie den p-Wert zurückgeben.\n",
    "\n",
    "Für die Anwendbarkeit des Chi-Quadrat Tests gibt es eine Faustformel. Sollte die Anwendbarkeit des Tests nicht gegeben sein, geben Sie zusätzlich eine Warnung aus. Dies können Sie mit dem Befehl ```print('Dies ist meine Warnung!')``` machen (ändern Sie den Text). "
   ]
  },
  {
   "cell_type": "code",
   "execution_count": 15,
   "metadata": {
    "deletable": false,
    "nbgrader": {
     "cell_type": "code",
     "checksum": "2b129b738ae1f326aa80d8c75f95bac4",
     "grade": false,
     "grade_id": "Massnahmen_Krankheit_A",
     "locked": false,
     "schema_version": 3,
     "solution": true,
     "task": false
    }
   },
   "outputs": [
    {
     "ename": "NotImplementedError",
     "evalue": "",
     "output_type": "error",
     "traceback": [
      "\u001B[1;31m---------------------------------------------------------------------------\u001B[0m",
      "\u001B[1;31mNotImplementedError\u001B[0m                       Traceback (most recent call last)",
      "\u001B[1;32m<ipython-input-15-c59cf72be428>\u001B[0m in \u001B[0;36m<module>\u001B[1;34m\u001B[0m\n\u001B[0;32m     21\u001B[0m \u001B[1;33m\u001B[0m\u001B[0m\n\u001B[0;32m     22\u001B[0m \u001B[1;31m# Aufruf mit Beispiel aus der Vorlesung\u001B[0m\u001B[1;33m\u001B[0m\u001B[1;33m\u001B[0m\u001B[1;33m\u001B[0m\u001B[0m\n\u001B[1;32m---> 23\u001B[1;33m \u001B[0mpruefgroesse\u001B[0m\u001B[1;33m,\u001B[0m \u001B[0mfreihheitsgrade\u001B[0m\u001B[1;33m,\u001B[0m \u001B[0mp_Wert\u001B[0m \u001B[1;33m=\u001B[0m \u001B[0mkontingenztafel_test\u001B[0m\u001B[1;33m(\u001B[0m\u001B[1;33m[\u001B[0m\u001B[1;33m[\u001B[0m\u001B[1;36m17\u001B[0m\u001B[1;33m,\u001B[0m \u001B[1;36m38\u001B[0m\u001B[1;33m]\u001B[0m\u001B[1;33m,\u001B[0m \u001B[1;33m[\u001B[0m\u001B[1;36m18\u001B[0m\u001B[1;33m,\u001B[0m \u001B[1;36m7\u001B[0m\u001B[1;33m]\u001B[0m\u001B[1;33m]\u001B[0m\u001B[1;33m)\u001B[0m\u001B[1;33m\u001B[0m\u001B[1;33m\u001B[0m\u001B[0m\n\u001B[0m\u001B[0;32m     24\u001B[0m \u001B[1;33m\u001B[0m\u001B[0m\n\u001B[0;32m     25\u001B[0m \u001B[0mprint\u001B[0m\u001B[1;33m(\u001B[0m\u001B[0mpruefgroesse\u001B[0m\u001B[1;33m,\u001B[0m \u001B[0mfreihheitsgrade\u001B[0m\u001B[1;33m,\u001B[0m \u001B[0mp_Wert\u001B[0m\u001B[1;33m)\u001B[0m\u001B[1;33m\u001B[0m\u001B[1;33m\u001B[0m\u001B[0m\n",
      "\u001B[1;32m<ipython-input-15-c59cf72be428>\u001B[0m in \u001B[0;36mkontingenztafel_test\u001B[1;34m(kontingenztafel)\u001B[0m\n\u001B[0;32m     18\u001B[0m     \u001B[0mfreiheitsgrade\u001B[0m \u001B[1;33m=\u001B[0m \u001B[1;36m0\u001B[0m\u001B[1;33m\u001B[0m\u001B[1;33m\u001B[0m\u001B[0m\n\u001B[0;32m     19\u001B[0m     \u001B[1;31m# YOUR CODE HERE\u001B[0m\u001B[1;33m\u001B[0m\u001B[1;33m\u001B[0m\u001B[1;33m\u001B[0m\u001B[0m\n\u001B[1;32m---> 20\u001B[1;33m     \u001B[1;32mraise\u001B[0m \u001B[0mNotImplementedError\u001B[0m\u001B[1;33m(\u001B[0m\u001B[1;33m)\u001B[0m\u001B[1;33m\u001B[0m\u001B[1;33m\u001B[0m\u001B[0m\n\u001B[0m\u001B[0;32m     21\u001B[0m \u001B[1;33m\u001B[0m\u001B[0m\n\u001B[0;32m     22\u001B[0m \u001B[1;31m# Aufruf mit Beispiel aus der Vorlesung\u001B[0m\u001B[1;33m\u001B[0m\u001B[1;33m\u001B[0m\u001B[1;33m\u001B[0m\u001B[0m\n",
      "\u001B[1;31mNotImplementedError\u001B[0m: "
     ]
    }
   ],
   "source": [
    "from typing import Tuple\n",
    "import numpy as np\n",
    "from scipy.stats import chisquare, chi2\n",
    "\n",
    "def kontingenztafel_test(kontingenztafel: [[float]]) -> Tuple[float, float, float]:\n",
    "    '''\n",
    "    Führe einen Chi-Quadrat-Test mit der Kontingenztafel durch\n",
    "    \n",
    "    Arguments:\n",
    "        kontingenztafel -- Die Kontingenztafel (bspw. Vierfeldertafel)\n",
    "    Returns:\n",
    "        pruefgroesse    -- Die Prüfgröße des Chi-Quadrat-Tests\n",
    "        freiheitsgrade  -- Die Anzahl der Freiheitsgrade\n",
    "        p_Wert          -- Der aus dem Chi-Quadrat-Test ermittelte p-Wert\n",
    "    '''\n",
    "    pruefgroesse = 0\n",
    "    p_Wert = 0\n",
    "    freiheitsgrade = 0\n",
    "    # YOUR CODE HERE\n",
    "    raise NotImplementedError()\n",
    "    \n",
    "# Aufruf mit Beispiel aus der Vorlesung\n",
    "pruefgroesse, freihheitsgrade, p_Wert = kontingenztafel_test([[17, 38], [18, 7]])\n",
    "\n",
    "print(pruefgroesse, freihheitsgrade, p_Wert)"
   ]
  },
  {
   "cell_type": "code",
   "execution_count": null,
   "metadata": {
    "deletable": false,
    "editable": false,
    "nbgrader": {
     "cell_type": "code",
     "checksum": "8b877c2579f16f2d5d460d7b9d23166f",
     "grade": true,
     "grade_id": "test_Massnahmen_Krankheit_A0",
     "locked": true,
     "points": 30,
     "schema_version": 3,
     "solution": false,
     "task": false
    }
   },
   "outputs": [],
   "source": []
  },
  {
   "cell_type": "markdown",
   "metadata": {
    "deletable": false,
    "editable": false,
    "nbgrader": {
     "cell_type": "markdown",
     "checksum": "3ca01ce1cf0b30462236fd96e134afe3",
     "grade": false,
     "grade_id": "Fisher_A_Header",
     "locked": true,
     "schema_version": 3,
     "solution": false,
     "task": false
    }
   },
   "source": [
    "\n",
    "# Exakter Test nach Fisher [30 Punkte]\n",
    "\n",
    "Der Fisher-Test ist ein Signifikanztest auf Unabhängigkeit in Kontingenztafeln.\n"
   ]
  },
  {
   "cell_type": "markdown",
   "metadata": {
    "deletable": false,
    "editable": false,
    "nbgrader": {
     "cell_type": "markdown",
     "checksum": "d2af8347ae9c1dec8d1f95ba624d9f10",
     "grade": false,
     "grade_id": "Fisher_A_Description0",
     "locked": true,
     "schema_version": 3,
     "solution": false,
     "task": false
    }
   },
   "source": [
    "### Exakter Test nach Fisher a)\n",
    "\n",
    "Implementieren Sie den zweiseitigen Fisher-Test. Benutzen Sie hierfür nicht die Funktion ```stats.fisher_exact```!\n",
    "\n",
    "Die Funktion ```fisher_exakt``` erhält eine Vierfeldertafel und berechnet den zugehörigen p Wert."
   ]
  },
  {
   "cell_type": "code",
   "execution_count": 16,
   "metadata": {
    "deletable": false,
    "nbgrader": {
     "cell_type": "code",
     "checksum": "6a0fa1daee8fa2b5b3640a9d186cf6b8",
     "grade": false,
     "grade_id": "Fisher_A",
     "locked": false,
     "schema_version": 3,
     "solution": true,
     "task": false
    },
    "scrolled": false
   },
   "outputs": [
    {
     "name": "stdout",
     "output_type": "stream",
     "text": [
      "0.11904761904761904\n",
      "0.35714285714285715\n",
      "0.047619047619047616\n"
     ]
    },
    {
     "data": {
      "text/plain": "(0.5238095238095237, (4.0, 0.5238095238095241))"
     },
     "execution_count": 16,
     "metadata": {},
     "output_type": "execute_result"
    }
   ],
   "source": [
    "import math\n",
    "\n",
    "def fisher_exakt(vierfeldertafel) -> float:\n",
    "    '''\n",
    "    Führe den zweiseitigen Fisher-Test für eine Vierfeldertafel aus\n",
    "    \n",
    "    Arguments:\n",
    "        vierfeldertafel -- Die Vierfeldertafel\n",
    "    Returns:\n",
    "        p_Wert          -- Der p-Wert \n",
    "    '''\n",
    "    f = math.factorial\n",
    "    \n",
    "    v = vierfeldertafel\n",
    "    a,b,c,d = v[0][0], v[0][1], v[1][0], v[1][1]\n",
    "    obenkleinstesR = int(b<a)\n",
    "    untenkleinstesR = int(d<c)\n",
    "    kleinster = (1,untenkleinstesR)\n",
    "    if v[0][obenkleinstesR] < v[1][untenkleinstesR]:\n",
    "        kleinster = (0,obenkleinstesR)\n",
    "    p_Wert = 0\n",
    "    p_Wertx = f(a+b)*f(c+d)*f(a+c)*f(b+d)/(f(a+b+c+d)*f(a)*f(b)*f(c)*f(d))\n",
    "    \"\"\"for i in range(v[kleinster[0]][kleinster[1]]+1):\n",
    "        if kleinster[0]==kleinster[1]:\n",
    "            a,b,c,d = v[0][0]-i, v[1][0]+i, v[0][1]+i, v[1][1]-i\n",
    "        else:\n",
    "            a,b,c,d = v[0][0]+i, v[1][0]-i, v[0][1]-i, v[1][1]+i\n",
    "        x = f(a+b)*f(c+d)*f(a+c)*f(b+d)/(f(a+b+c+d)*f(a)*f(b)*f(c)*f(d))\n",
    "        print(\"\",a,c,\"\\n\",b,d,\"\\n\",x)\n",
    "        p_Wertx += x\"\"\"\n",
    "        \n",
    "    otherlow = (0,1)\n",
    "    if v[1][0] < v[0][1]: otherlow = (1,0) \n",
    "    if kleinster[0]!=kleinster[1]:\n",
    "        if v[1][1] < v[0][0]: otherlow = (1,1) \n",
    "        else: otherlow = (0,0)\n",
    "            \n",
    "    j = v[otherlow[0]][otherlow[1]]\n",
    "    \"\"\"\n",
    "    for i in range(v[otherlow[0]][otherlow[1]]+1):\n",
    "        if otherlow[0]==otherlow[1]:\n",
    "            a,b,c,d = v[0][0]-i, v[1][0]+i, v[0][1]+i, v[1][1]-i\n",
    "        else:\n",
    "            a,b,c,d = v[0][0]+i, v[1][0]-i, v[0][1]-i, v[1][1]+i\n",
    "        print(\"\",a,c,\"\\n\",b,d)\n",
    "        arr.append(f(a+b)*f(c+d)*f(a+c)*f(b+d)/(f(a+b+c+d)*f(a)*f(b)*f(c)*f(d)))\n",
    "    p_Wert += sum(arr[::-1][:v[kleinster[0]][kleinster[1]]])\n",
    "    \n",
    "    \"\"\"\n",
    "    \n",
    "    \n",
    "    for i in range(v[kleinster[0]][kleinster[1]]+j+1):\n",
    "        \n",
    "        if otherlow[0]==otherlow[1]:\n",
    "            a,b,c,d = v[0][0]+i-j, v[1][0]-i+j, v[0][1]-i+j, v[1][1]+i-j\n",
    "        else:\n",
    "            a,b,c,d = v[0][0]-i+j, v[1][0]+i-j, v[0][1]+i-j, v[1][1]-i+j\n",
    "        x = f(a+b)*f(c+d)*f(a+c)*f(b+d)/(f(a+b+c+d)*f(a)*f(b)*f(c)*f(d))\n",
    "        if p_Wertx >= x:\n",
    "            print(x)\n",
    "            p_Wert += x\n",
    "    return p_Wert\n",
    "\n",
    "# YOUR CODE HERE\n",
    "#raise NotImplementedError()\n",
    "\n",
    "    \n",
    "vierfeldertafel = [[4, 1], \n",
    "                   [2, 2]]\n",
    "\n",
    "fisher_exakt(vierfeldertafel), stats.fisher_exact(vierfeldertafel)"
   ]
  },
  {
   "cell_type": "code",
   "execution_count": null,
   "metadata": {
    "deletable": false,
    "editable": false,
    "nbgrader": {
     "cell_type": "code",
     "checksum": "84947881d65c75f30edb7ef010ea6fcc",
     "grade": true,
     "grade_id": "test_Fisher_A0",
     "locked": true,
     "points": 30,
     "schema_version": 3,
     "solution": false,
     "task": false
    }
   },
   "outputs": [],
   "source": []
  }
 ],
 "metadata": {
  "kernelspec": {
   "name": "python3",
   "language": "python",
   "display_name": "Python 3"
  },
  "language_info": {
   "extension": ".py",
   "mimetype": "text/plain",
   "name": "python"
  }
 },
 "nbformat": 4,
 "nbformat_minor": 4
}