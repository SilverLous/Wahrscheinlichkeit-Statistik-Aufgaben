{
 "cells": [
  {
   "cell_type": "markdown",
   "metadata": {
    "deletable": false,
    "editable": false,
    "nbassignment": {
     "type": "header"
    },
    "nbgrader": {
     "cell_type": "markdown",
     "checksum": "b4515dda7e4f3adf0b2dc682ef545b43",
     "grade": false,
     "grade_id": "template_01e63c03_0",
     "locked": true,
     "schema_version": 3,
     "solution": false,
     "task": false
    }
   },
   "source": [
    "<div class=\"alert alert-block alert-info\">\n",
    "    <h1>Wahrscheinlichkeitstheorie und Statistik</h1>\n",
    "    <h2>WS 2020 / 2021</h2>\n",
    "    <h2>Übung 4</h2>\n",
    "    <h3>Allgemeine Informationen:</h3>\n",
    "    <p>Schreiben Sie Ihre Antwort an die Stelle <i>YOUR ANSWER HERE</i>.</p>\n",
    "    <p>Wenn Sie eine Zelle bearbeiten, löschen Sie die Zeile <i>raise NotImplementedError()</i>.</p>\n",
    "    <p>Fügen Sie keine neuen Zellen hinzu oder löschen Zellen.</p>\n",
    "    <h3>Abgabetermin</h3>\n",
    "    <p>Die Abgabe der Hausaufgabe ist am 5.01.2021 um <strong>12:00 Uhr mittags</strong>! Vergessen Sie nicht Ihre Übung abzugeben.</p>\n",
    "    <h2>Viel Erfolg!</h2>   \n",
    "</div>"
   ]
  },
  {
   "cell_type": "markdown",
   "metadata": {
    "deletable": false,
    "editable": false,
    "nbassignment": {
     "type": "header"
    },
    "nbgrader": {
     "cell_type": "markdown",
     "checksum": "d168e673227861de0755d36f6fbe5c4f",
     "grade": false,
     "grade_id": "template_1c702a0c_0",
     "locked": true,
     "schema_version": 3,
     "solution": false,
     "task": false
    }
   },
   "source": [
    "<div class=\"alert alert-block alert-warning\">\n",
    "    <h2>Hinweise zur Bearbeitung der Übung</h2>\n",
    "    <h3>Angabe von Ergebnissen</h3>\n",
    "    <ul>\n",
    "        <li>Sie müssen nicht runden. Wir testen ob Ihr Ergebnis um maximal $5\\%$ vom exaktem Wert abweicht. $f_{rel }= \\frac{|x_{exakt} - x_{Studi}|}{x_{exakt}} \\leq 0.05$</li>\n",
    "        <li>Prozentzahlen werden immer als Zahl zwischen 0 und 1 angegeben. 30% wird somit als 0.3 angegeben.</li>\n",
    "        <li>Fließkommazahlen werden mit einem Dezimalpunkt angegeben, nicht mit einem Komma. $\\frac{1}{4} \\rightarrow 0.25$.</li>\n",
    "    </ul>\n",
    "    <h3>Programmcode</h3>\n",
    "    <ul>\n",
    "        <li>Benutzen Sie nur die in der nächsten Zelle angegebenen Bibliotheken mit den dort benutzten Namen. Wenn Sie also etwas aus der Bibliothek <i>random</i> nutzen wollen, verwenden Sie den Namen <i>rd</i>.</li>\n",
    "        <li>Das Ergebnis einer Funktion muss mittels <i>return</i> zurückgegeben werden. Ein <i>print</i> Statement ist keine gültige Rückgabe.</li>\n",
    "        <li>Stellen Sie sicher, dass sich Ihr Code ausführen lässt. Code der nicht läuft kann nicht automatisch bewertet werden.</li>\n",
    "        <li><strong>Bevor Sie abgeben:</strong> Klicken Sie im Menü auf Kernel > Restart & Run All. Damit führen Sie das Notebook von oben nach unten aus. Alle Fehler die dann auftreten, treten auch beim Bewerten auf.</li>\n",
    "        <li>Entfernen Sie die Zeilen <i>raise NotImplementedError()</i> wenn Sie eine Aufgabe bearbeiten. Ansonsten wird beim Bewerten eine Exception ausgelöst die uns sagt, dass Sie die Aufgabe nicht bearbeitet haben!</li>\n",
    "    </ul>\n",
    "    <h3>Plots</h3>\n",
    "    <ul>\n",
    "        <li>Jeder Plot soll eine Achsenbeschriftung, einen Titel, eine Legende und ein Grid haben.</li>\n",
    "    </ul>\n",
    "    \n",
    "</div>"
   ]
  },
  {
   "cell_type": "code",
   "execution_count": 2,
   "metadata": {
    "deletable": false,
    "editable": false,
    "nbassignment": {
     "type": "header"
    },
    "nbgrader": {
     "cell_type": "code",
     "checksum": "f5edb8833af4775e55993dc3a8c3fc53",
     "grade": false,
     "grade_id": "template_8864c0f3_0",
     "locked": true,
     "schema_version": 3,
     "solution": false,
     "task": false
    }
   },
   "outputs": [],
   "source": [
    "import math\n",
    "import collections\n",
    "import itertools        \n",
    "import glob\n",
    "import numpy as np\n",
    "import random as rd\n",
    "import pandas as pd        \n",
    "import matplotlib.pyplot as plt\n",
    "from scipy import stats"
   ]
  },
  {
   "cell_type": "markdown",
   "metadata": {
    "deletable": false,
    "editable": false,
    "nbgrader": {
     "cell_type": "markdown",
     "checksum": "21f3adab61c49d9608cb98c8b7223e05",
     "grade": false,
     "grade_id": "pandas",
     "locked": true,
     "schema_version": 3,
     "solution": false,
     "task": false
    }
   },
   "source": [
    "# Pandas\n",
    "\n",
    "In dieser Übung benutzen wir die Python Bibliothek ```pandas```. Eine kurze Einführung dazu finden Sie hier im Jupyterhub im Ordner ```Materials/01-Pandas/Intro-to-Pandas```. Dieser Ordner befindet sich im Hauptverzeichnis des Jupyterhubs."
   ]
  },
  {
   "cell_type": "markdown",
   "metadata": {
    "deletable": false,
    "editable": false,
    "nbgrader": {
     "cell_type": "markdown",
     "checksum": "6270123e45cf327e58f25bf057280632",
     "grade": false,
     "grade_id": "Gewicht_AGewicht_BGewicht_CGewicht_DGewicht_EGewicht_FGewicht_GGewicht_HGewicht_IGewicht_JGewicht_KGewicht_LGewicht_MGewicht_NGewicht_OGewicht_P_Header",
     "locked": true,
     "schema_version": 3,
     "solution": false
    }
   },
   "source": [
    "# Gewicht / Größe\n",
    "\n",
    "Zusätzlich zu diesem Notebook wurde Ihnen die Datei ```health.csv``` im Ordner ```data``` zur Verfügung gestellt.\n",
    "\n",
    "Dieser Datensatz enthält Umfrageergebnisse einer Gesundheitsumfrage unter Jugendlichen und jungen Erwachsenen aus den USA (https://www.icpsr.umich.edu/icpsrweb/DSDR/studies/21600).\n",
    "\n",
    "Im Rahmen der National Longitudinal Study of Adolescent to Adult Health wurden 20000 Teilnehmer zu verschiedensten Themen rund um die Gesundheit befragt. Der Datensatz ```health.csv``` enthält einen Auszug der Fragen und Antworten von ca. 5000 Teilnehmern.\n",
    "\n",
    "Der Datensatz enthält folgende Werte:\n",
    "\n",
    "- AID - Pseudonym für jeden Teilnehmer\n",
    "- H4WGT - Gewicht der Teilnehmer\n",
    "- H4HGT - Größe der Teilnehmer\n",
    "- BIO_SEX4 - Geschlecht der Teilnehmer\n",
    "- H4OD1Y - Das Geburtsjahr der Teilnehmer"
   ]
  },
  {
   "cell_type": "markdown",
   "metadata": {
    "deletable": false,
    "editable": false,
    "nbgrader": {
     "cell_type": "markdown",
     "checksum": "c54b30a1361bf52aa8ccbf1608f6a469",
     "grade": false,
     "grade_id": "Gewicht_A_Description0",
     "locked": true,
     "schema_version": 3,
     "solution": false
    }
   },
   "source": [
    "## Gewicht / Größe a) [5 Punkte]\n",
    "\n",
    "Laden Sie die Daten in einen pandas *DataFrame* und benennen Sie die Spalten wie folgt um:\n",
    "\n",
    "- H4WGT - Gewicht\n",
    "- H4HGT - Groesse\n",
    "- BIO_SEX4 - Geschlecht\n",
    "- H4OD1Y - Geburtsjahr\n",
    "\n",
    "Nennen Sie den neuen *DataFrame* ```health```"
   ]
  },
  {
   "cell_type": "code",
   "execution_count": 3,
   "metadata": {
    "deletable": false,
    "nbgrader": {
     "cell_type": "code",
     "checksum": "cad961f8a0a45ab9abb67045bf14d214",
     "grade": false,
     "grade_id": "Gewicht_A",
     "locked": false,
     "schema_version": 3,
     "solution": true
    }
   },
   "outputs": [
    {
     "data": {
      "text/html": [
       "<div>\n",
       "<style scoped>\n",
       "    .dataframe tbody tr th:only-of-type {\n",
       "        vertical-align: middle;\n",
       "    }\n",
       "\n",
       "    .dataframe tbody tr th {\n",
       "        vertical-align: top;\n",
       "    }\n",
       "\n",
       "    .dataframe thead th {\n",
       "        text-align: right;\n",
       "    }\n",
       "</style>\n",
       "<table border=\"1\" class=\"dataframe\">\n",
       "  <thead>\n",
       "    <tr style=\"text-align: right;\">\n",
       "      <th></th>\n",
       "      <th>AID</th>\n",
       "      <th>Gewicht</th>\n",
       "      <th>Groesse</th>\n",
       "      <th>Geschlecht</th>\n",
       "      <th>Geburtsjahr</th>\n",
       "    </tr>\n",
       "  </thead>\n",
       "  <tbody>\n",
       "    <tr>\n",
       "      <th>0</th>\n",
       "      <td>57101310</td>\n",
       "      <td>113.9</td>\n",
       "      <td>180.0</td>\n",
       "      <td>Female</td>\n",
       "      <td>1976</td>\n",
       "    </tr>\n",
       "    <tr>\n",
       "      <th>1</th>\n",
       "      <td>57103869</td>\n",
       "      <td>107.8</td>\n",
       "      <td>202.0</td>\n",
       "      <td>Male</td>\n",
       "      <td>1976</td>\n",
       "    </tr>\n",
       "    <tr>\n",
       "      <th>2</th>\n",
       "      <td>57109625</td>\n",
       "      <td>68.0</td>\n",
       "      <td>161.0</td>\n",
       "      <td>Male</td>\n",
       "      <td>1981</td>\n",
       "    </tr>\n",
       "    <tr>\n",
       "      <th>3</th>\n",
       "      <td>57111071</td>\n",
       "      <td>89.4</td>\n",
       "      <td>177.0</td>\n",
       "      <td>Male</td>\n",
       "      <td>1981</td>\n",
       "    </tr>\n",
       "    <tr>\n",
       "      <th>4</th>\n",
       "      <td>57113943</td>\n",
       "      <td>150.6</td>\n",
       "      <td>185.5</td>\n",
       "      <td>Male</td>\n",
       "      <td>1979</td>\n",
       "    </tr>\n",
       "    <tr>\n",
       "      <th>...</th>\n",
       "      <td>...</td>\n",
       "      <td>...</td>\n",
       "      <td>...</td>\n",
       "      <td>...</td>\n",
       "      <td>...</td>\n",
       "    </tr>\n",
       "    <tr>\n",
       "      <th>5109</th>\n",
       "      <td>99719930</td>\n",
       "      <td>58.6</td>\n",
       "      <td>167.5</td>\n",
       "      <td>Female</td>\n",
       "      <td>1982</td>\n",
       "    </tr>\n",
       "    <tr>\n",
       "      <th>5110</th>\n",
       "      <td>99719939</td>\n",
       "      <td>97.0</td>\n",
       "      <td>174.5</td>\n",
       "      <td>Male</td>\n",
       "      <td>1981</td>\n",
       "    </tr>\n",
       "    <tr>\n",
       "      <th>5111</th>\n",
       "      <td>99719970</td>\n",
       "      <td>80.6</td>\n",
       "      <td>178.0</td>\n",
       "      <td>Male</td>\n",
       "      <td>1981</td>\n",
       "    </tr>\n",
       "    <tr>\n",
       "      <th>5112</th>\n",
       "      <td>99719976</td>\n",
       "      <td>75.3</td>\n",
       "      <td>165.0</td>\n",
       "      <td>Female</td>\n",
       "      <td>1980</td>\n",
       "    </tr>\n",
       "    <tr>\n",
       "      <th>5113</th>\n",
       "      <td>99719978</td>\n",
       "      <td>78.2</td>\n",
       "      <td>180.0</td>\n",
       "      <td>Male</td>\n",
       "      <td>1981</td>\n",
       "    </tr>\n",
       "  </tbody>\n",
       "</table>\n",
       "<p>5114 rows × 5 columns</p>\n",
       "</div>"
      ],
      "text/plain": [
       "           AID  Gewicht  Groesse Geschlecht  Geburtsjahr\n",
       "0     57101310    113.9    180.0     Female         1976\n",
       "1     57103869    107.8    202.0       Male         1976\n",
       "2     57109625     68.0    161.0       Male         1981\n",
       "3     57111071     89.4    177.0       Male         1981\n",
       "4     57113943    150.6    185.5       Male         1979\n",
       "...        ...      ...      ...        ...          ...\n",
       "5109  99719930     58.6    167.5     Female         1982\n",
       "5110  99719939     97.0    174.5       Male         1981\n",
       "5111  99719970     80.6    178.0       Male         1981\n",
       "5112  99719976     75.3    165.0     Female         1980\n",
       "5113  99719978     78.2    180.0       Male         1981\n",
       "\n",
       "[5114 rows x 5 columns]"
      ]
     },
     "execution_count": 3,
     "metadata": {},
     "output_type": "execute_result"
    }
   ],
   "source": [
    "health = pd.read_csv(\"data/health.csv\",names = (\"AID\",\"Gewicht\",\"Groesse\",\"Geschlecht\",\"Geburtsjahr\"),header = 0)\n",
    "health\n",
    "# YOUR CODE HERE\n",
    "# raise NotImplementedError()"
   ]
  },
  {
   "cell_type": "code",
   "execution_count": null,
   "metadata": {
    "deletable": false,
    "editable": false,
    "nbgrader": {
     "cell_type": "code",
     "checksum": "31611838bff6fa4c0b7bc8829c7394ea",
     "grade": true,
     "grade_id": "test_Gewicht_A0",
     "locked": true,
     "points": 5,
     "schema_version": 3,
     "solution": false
    }
   },
   "outputs": [],
   "source": []
  },
  {
   "cell_type": "markdown",
   "metadata": {
    "deletable": false,
    "editable": false,
    "nbgrader": {
     "cell_type": "markdown",
     "checksum": "1598a7396c05f4d676ba494d4a1b03bc",
     "grade": false,
     "grade_id": "Gewicht_B_Description0",
     "locked": true,
     "schema_version": 3,
     "solution": false
    }
   },
   "source": [
    "## Gewicht / Größe b) [5 Punkte]\n",
    "\n",
    "Plotten Sie Gewicht (x-Achse) und Größe (y-Achse) der Teilnehmer in einem Scatterplot. "
   ]
  },
  {
   "cell_type": "code",
   "execution_count": 4,
   "metadata": {
    "deletable": false,
    "nbgrader": {
     "cell_type": "code",
     "checksum": "953e77d096717496b79926344faa2ee2",
     "grade": true,
     "grade_id": "Gewicht_B",
     "locked": false,
     "points": 5,
     "schema_version": 3,
     "solution": true
    }
   },
   "outputs": [
    {
     "data": {
      "image/png": "[encoded data removed]",
      "text/plain": [
       "<Figure size 432x288 with 1 Axes>"
      ]
     },
     "metadata": {
      "needs_background": "light"
     },
     "output_type": "display_data"
    }
   ],
   "source": [
    "# YOUR CODE HERE\n",
    "\n",
    "plt.scatter(health[\"Gewicht\"], health[\"Groesse\"],label = \"Eine Person\",s=3)\n",
    "\n",
    "plt.legend(loc='center right', shadow=True, )\n",
    "plt.xlabel('Gewicht')\n",
    "plt.ylabel('Größe')\n",
    "plt.grid(True)\n",
    "plt.title(\"Verteilung von Größe und Gewicht\")\n",
    "plt.show()\n",
    "# raise NotImplementedError()"
   ]
  },
  {
   "cell_type": "markdown",
   "metadata": {
    "deletable": false,
    "editable": false,
    "nbgrader": {
     "cell_type": "markdown",
     "checksum": "d3350e2cd7d13c5b4be5809e0bef406e",
     "grade": false,
     "grade_id": "Gewicht_C_Description0",
     "locked": true,
     "schema_version": 3,
     "solution": false
    }
   },
   "source": [
    "## Gewicht / Größe c) [10 Punkte]\n",
    "\n",
    "Anscheinend haben einige Teilnehmer Fantasieangaben zu Größe und Gewicht gemacht. Entfernen Sie alle Einträge die keinen Sinn ergeben (Gewicht > 250kg und Größe > 300cm). Speichern Sie Ihr Ergebnis wieder in der Variablen ```health_cleaned```.\n",
    "\n",
    "Plotten Sie das Ergebnis erneut."
   ]
  },
  {
   "cell_type": "code",
   "execution_count": 5,
   "metadata": {
    "deletable": false,
    "nbgrader": {
     "cell_type": "code",
     "checksum": "2961546bebe0064fe926e7796781657e",
     "grade": true,
     "grade_id": "Gewicht_C",
     "locked": false,
     "points": 5,
     "schema_version": 3,
     "solution": true
    }
   },
   "outputs": [],
   "source": [
    "health_cleaned = health\n",
    "toDrop = []\n",
    "for i in health_cleaned:\n",
    "    for j,o in enumerate(health_cleaned[i]):\n",
    "        if (i == \"Groesse\" and o>250) or (i == \"Gewicht\" and o>300):\n",
    "            toDrop.append(health_cleaned.index[j])\n",
    "            \n",
    "for i in set(toDrop):\n",
    "    health_cleaned = health_cleaned.drop(i)\n",
    "\n",
    "# YOUR CODE HERE\n",
    "# raise NotImplementedError()"
   ]
  },
  {
   "cell_type": "code",
   "execution_count": null,
   "metadata": {
    "deletable": false,
    "editable": false,
    "nbgrader": {
     "cell_type": "code",
     "checksum": "907d14891302f44641aa5754621f8e05",
     "grade": true,
     "grade_id": "test_Gewicht_C0",
     "locked": true,
     "points": 5,
     "schema_version": 3,
     "solution": false
    }
   },
   "outputs": [],
   "source": []
  },
  {
   "cell_type": "markdown",
   "metadata": {
    "deletable": false,
    "editable": false,
    "nbgrader": {
     "cell_type": "markdown",
     "checksum": "67e4aee68e45a92fb08e9f9c332f7489",
     "grade": false,
     "grade_id": "Gewicht_D_Description0",
     "locked": true,
     "schema_version": 3,
     "solution": false
    }
   },
   "source": [
    "## Gewicht / Größe d) [10 Punkte]\n",
    "\n",
    "Teilen Sie die Daten auf in Frauen und Männer. Plotten Sie für beide das Gewicht und die Größe in dem selben Plot mit verschiedenen Farben.\n",
    "\n",
    "Speichern Sie die Daten für die Männer im DataFrame ```men```.\n",
    "\n",
    "Speichern Sie die Daten für die Frauen im DataFrame ```women```."
   ]
  },
  {
   "cell_type": "code",
   "execution_count": 6,
   "metadata": {
    "deletable": false,
    "nbgrader": {
     "cell_type": "code",
     "checksum": "39cf20f479245c0d924b74cf2e263951",
     "grade": true,
     "grade_id": "Gewicht_D",
     "locked": false,
     "points": 5,
     "schema_version": 3,
     "solution": true
    }
   },
   "outputs": [
    {
     "data": {
      "image/png": "[encoded data removed]",
      "text/plain": [
       "<Figure size 432x288 with 1 Axes>"
      ]
     },
     "metadata": {
      "needs_background": "light"
     },
     "output_type": "display_data"
    }
   ],
   "source": [
    "men = health_cleaned[health_cleaned.Geschlecht == \"Male\"]\n",
    "women = health_cleaned[health_cleaned.Geschlecht == \"Female\"]\n",
    "\n",
    "plt.scatter(men[\"Gewicht\"], men[\"Groesse\"],label='Männer',s=3)\n",
    "plt.scatter(women[\"Gewicht\"], women[\"Groesse\"],label='Frauen',s=3)\n",
    "\n",
    "plt.legend(loc='lower right', shadow=True, )\n",
    "plt.xlabel('Gewicht')\n",
    "plt.ylabel('Größe')\n",
    "plt.grid(True)\n",
    "plt.title(\"Daten aufgeteilt auf männlich/weiblich\")\n",
    "plt.show()\n",
    "# YOUR CODE HERE\n",
    "# raise NotImplementedError()"
   ]
  },
  {
   "cell_type": "code",
   "execution_count": null,
   "metadata": {
    "deletable": false,
    "editable": false,
    "nbgrader": {
     "cell_type": "code",
     "checksum": "1140bf397d79e5b6f0b838c1b0bce90c",
     "grade": true,
     "grade_id": "test_Gewicht_D0",
     "locked": true,
     "points": 5,
     "schema_version": 3,
     "solution": false
    }
   },
   "outputs": [],
   "source": []
  },
  {
   "cell_type": "markdown",
   "metadata": {
    "deletable": false,
    "editable": false,
    "nbgrader": {
     "cell_type": "markdown",
     "checksum": "80689ea154cff336286e63406a8aa9c1",
     "grade": false,
     "grade_id": "Gewicht_E_Description0",
     "locked": true,
     "schema_version": 3,
     "solution": false
    }
   },
   "source": [
    "## Gewicht / Größe e) [12 Punkte]\n",
    "\n",
    "Erstellen Sie einen neuen Pandas *DataFrame* (analog zu untenstehender Tabelle) der die charakteristischen Werte der Verteilungen angibt. Nennen Sie Ihren *DateFrame* ```verteilungen```.\n",
    "\n",
    "| Merkmal | Geschlecht | Mittelwert | Median | Standardabweichung | Varianz |\n",
    "|---------|------------|------------|--------|--------------------|---------|\n",
    "| Gewicht | Male       |            |        |                    |         |\n",
    "| Gewicht | Female     |            |        |                    |         |\n",
    "| Gewicht | beide      |            |        |                    |         |\n",
    "| Groesse | Male       |            |        |                    |         |\n",
    "| Groesse | Female     |            |        |                    |         |\n",
    "| Groesse | beide      |            |        |                    |         |"
   ]
  },
  {
   "cell_type": "code",
   "execution_count": 7,
   "metadata": {
    "deletable": false,
    "nbgrader": {
     "cell_type": "code",
     "checksum": "198bf3773b69d622cc405d618f40674e",
     "grade": false,
     "grade_id": "Gewicht_E",
     "locked": false,
     "schema_version": 3,
     "solution": true
    }
   },
   "outputs": [
    {
     "data": {
      "text/html": [
       "<div>\n",
       "<style scoped>\n",
       "    .dataframe tbody tr th:only-of-type {\n",
       "        vertical-align: middle;\n",
       "    }\n",
       "\n",
       "    .dataframe tbody tr th {\n",
       "        vertical-align: top;\n",
       "    }\n",
       "\n",
       "    .dataframe thead th {\n",
       "        text-align: right;\n",
       "    }\n",
       "</style>\n",
       "<table border=\"1\" class=\"dataframe\">\n",
       "  <thead>\n",
       "    <tr style=\"text-align: right;\">\n",
       "      <th></th>\n",
       "      <th>Merkmal</th>\n",
       "      <th>Geschlecht</th>\n",
       "      <th>Mittelwert</th>\n",
       "      <th>Median</th>\n",
       "      <th>Standardabweichung</th>\n",
       "      <th>Varianz</th>\n",
       "    </tr>\n",
       "  </thead>\n",
       "  <tbody>\n",
       "    <tr>\n",
       "      <th>0</th>\n",
       "      <td>Gewicht</td>\n",
       "      <td>Male</td>\n",
       "      <td>91.311092</td>\n",
       "      <td>87.4</td>\n",
       "      <td>21.816752</td>\n",
       "      <td>475.970650</td>\n",
       "    </tr>\n",
       "    <tr>\n",
       "      <th>1</th>\n",
       "      <td>Gewicht</td>\n",
       "      <td>Female</td>\n",
       "      <td>78.868954</td>\n",
       "      <td>73.9</td>\n",
       "      <td>22.733735</td>\n",
       "      <td>516.822692</td>\n",
       "    </tr>\n",
       "    <tr>\n",
       "      <th>2</th>\n",
       "      <td>Gewicht</td>\n",
       "      <td>beide</td>\n",
       "      <td>84.586612</td>\n",
       "      <td>81.0</td>\n",
       "      <td>23.160469</td>\n",
       "      <td>536.407309</td>\n",
       "    </tr>\n",
       "    <tr>\n",
       "      <th>3</th>\n",
       "      <td>Groesse</td>\n",
       "      <td>Male</td>\n",
       "      <td>177.584592</td>\n",
       "      <td>178.0</td>\n",
       "      <td>7.702354</td>\n",
       "      <td>59.326252</td>\n",
       "    </tr>\n",
       "    <tr>\n",
       "      <th>4</th>\n",
       "      <td>Groesse</td>\n",
       "      <td>Female</td>\n",
       "      <td>163.943560</td>\n",
       "      <td>164.0</td>\n",
       "      <td>6.921287</td>\n",
       "      <td>47.904214</td>\n",
       "    </tr>\n",
       "    <tr>\n",
       "      <th>5</th>\n",
       "      <td>Groesse</td>\n",
       "      <td>beide</td>\n",
       "      <td>170.212158</td>\n",
       "      <td>170.0</td>\n",
       "      <td>9.968268</td>\n",
       "      <td>99.366365</td>\n",
       "    </tr>\n",
       "  </tbody>\n",
       "</table>\n",
       "</div>"
      ],
      "text/plain": [
       "   Merkmal Geschlecht  Mittelwert  Median  Standardabweichung     Varianz\n",
       "0  Gewicht       Male   91.311092    87.4           21.816752  475.970650\n",
       "1  Gewicht     Female   78.868954    73.9           22.733735  516.822692\n",
       "2  Gewicht      beide   84.586612    81.0           23.160469  536.407309\n",
       "3  Groesse       Male  177.584592   178.0            7.702354   59.326252\n",
       "4  Groesse     Female  163.943560   164.0            6.921287   47.904214\n",
       "5  Groesse      beide  170.212158   170.0            9.968268   99.366365"
      ]
     },
     "execution_count": 7,
     "metadata": {},
     "output_type": "execute_result"
    }
   ],
   "source": [
    "import numpy as np\n",
    "\n",
    "# Füllen Sie folgendes Dictionary mit Werten auf\n",
    "data = dict({\n",
    "    'Merkmal': ['Gewicht', 'Gewicht', 'Gewicht', 'Groesse', 'Groesse', 'Groesse'],\n",
    "    'Geschlecht': ['Male', 'Female', 'beide', 'Male', 'Female', 'beide'],\n",
    "    'Mittelwert': [men[\"Gewicht\"].mean(),women[\"Gewicht\"].mean(),health_cleaned[\"Gewicht\"].mean(),men[\"Groesse\"].mean(),women[\"Groesse\"].mean(),health_cleaned[\"Groesse\"].mean(),],\n",
    "    'Median': [men[\"Gewicht\"].median(),women[\"Gewicht\"].median(),health_cleaned[\"Gewicht\"].median(),men[\"Groesse\"].median(),women[\"Groesse\"].median(),health_cleaned[\"Groesse\"].median(),],\n",
    "    'Standardabweichung': [men[\"Gewicht\"].std(),women[\"Gewicht\"].std(),health_cleaned[\"Gewicht\"].std(),men[\"Groesse\"].std(),women[\"Groesse\"].std(),health_cleaned[\"Groesse\"].std(),],\n",
    "    'Varianz': [men[\"Gewicht\"].var(),women[\"Gewicht\"].var(),health_cleaned[\"Gewicht\"].var(),men[\"Groesse\"].var(),women[\"Groesse\"].var(),health_cleaned[\"Groesse\"].var(),]\n",
    "})\n",
    "\n",
    "# YOUR CODE HERE\n",
    "# Erstelle DataFrame aus data\n",
    "verteilungen = pd.DataFrame(data)\n",
    "verteilungen"
   ]
  },
  {
   "cell_type": "code",
   "execution_count": 8,
   "metadata": {
    "deletable": false,
    "editable": false,
    "nbgrader": {
     "cell_type": "code",
     "checksum": "425ba8da6b762d4729665f0b76889caf",
     "grade": true,
     "grade_id": "test_Gewicht_E0",
     "locked": true,
     "points": 12,
     "schema_version": 3,
     "solution": false
    }
   },
   "outputs": [],
   "source": [
    "# Dies ist eine Testzelle, bitte ignorieren Sie diese!"
   ]
  },
  {
   "cell_type": "markdown",
   "metadata": {
    "deletable": false,
    "editable": false,
    "nbgrader": {
     "cell_type": "markdown",
     "checksum": "6985dcaf6bdcc0b125e5aeb6c1c6f146",
     "grade": false,
     "grade_id": "Gewicht_F_Description0",
     "locked": true,
     "schema_version": 3,
     "solution": false
    }
   },
   "source": [
    "## Gewicht / Größe f) [10 Punkte]\n",
    "\n",
    "Beantworten Sie folgende Fragen:\n",
    "\n",
    "1. Wieviel Prozent der Männer sind schwerer als der Durchschnitt der Männer?\n",
    "\n",
    "   Speichern Sie Ihre Lösung in ```maenner_schwerer_als_Durchschnitt```\n",
    "   \n",
    "   \n",
    "2. Wieviel Prozent der Frauen sind schwerer als der Durchschnitt der Frauen?\n",
    "\n",
    "   Speichern Sie Ihre Lösung in ```frauen_schwerer_als_Durchschnitt```\n",
    "   \n",
    "   \n",
    "3. Wieviel Prozent der Frauen sind schwerer als der durchschnittliche Mann?\n",
    "\n",
    "   Speichern Sie Ihre Lösung in ```frauen_schwerer_als_Durchschnittsmann```\n",
    "   \n",
    "   \n",
    "4. Wieviel Prozent der Frauen sind größer als 50% der Männer?\n",
    "\n",
    "   Speichern Sie Ihre Lösung in ```frauen_groesser_als_Maenner```\n",
    "   \n",
    "   \n",
    "5. Wieviel Prozent der Männer sind größer als 50% der Frauen?\n",
    "\n",
    "   Speichern Sie Ihre Lösung in ```maenner_groesser_als_Frauen```\n",
    "   \n",
    "   \n",
    "*Hinweis:* Wenn die Lösung 30% lautet, speichern Sie den Wert als Fließkommazahl 0.3\n"
   ]
  },
  {
   "cell_type": "code",
   "execution_count": 18,
   "metadata": {
    "deletable": false,
    "nbgrader": {
     "cell_type": "code",
     "checksum": "7c2ca6ff81e82d0c35f8dc0b7c6e0c27",
     "grade": false,
     "grade_id": "Gewicht_F",
     "locked": false,
     "schema_version": 3,
     "solution": true
    }
   },
   "outputs": [
    {
     "name": "stdout",
     "output_type": "stream",
     "text": [
      "0.4208027621924903 0.41577981651376145 0.25688073394495414 0.01577981651376147 0.9607250755287009\n"
     ]
    }
   ],
   "source": [
    "maenner_schwerer_als_Durchschnitt = len(men[men.Gewicht>data[\"Mittelwert\"][0]])/len(men)\n",
    "frauen_schwerer_als_Durchschnitt = len(women[women.Gewicht>data[\"Mittelwert\"][1]])/len(women)\n",
    "frauen_schwerer_als_Durchschnittsmann = len(women[women.Gewicht>data[\"Mittelwert\"][0]])/len(women)\n",
    "frauen_groesser_als_Maenner = len(women[women.Groesse>data[\"Median\"][3]])/len(women)\n",
    "maenner_groesser_als_Frauen = len(men[men.Groesse>data[\"Median\"][4]])/len(men)\n",
    "\n",
    "print(maenner_schwerer_als_Durchschnitt,frauen_schwerer_als_Durchschnitt,frauen_schwerer_als_Durchschnittsmann,frauen_groesser_als_Maenner,maenner_groesser_als_Frauen)\n",
    "\n",
    "# YOUR CODE HERE\n",
    "#raise NotImplementedError()"
   ]
  },
  {
   "cell_type": "code",
   "execution_count": null,
   "metadata": {
    "deletable": false,
    "editable": false,
    "nbgrader": {
     "cell_type": "code",
     "checksum": "b77b37a11ffcc0aaef62b93ca3130445",
     "grade": true,
     "grade_id": "test_Gewicht_F0",
     "locked": true,
     "points": 10,
     "schema_version": 3,
     "solution": false
    }
   },
   "outputs": [],
   "source": []
  },
  {
   "attachments": {
    "ausgleichsgerade2.png": {
     "image/png": "[encoded data removed]"
    }
   },
   "cell_type": "markdown",
   "metadata": {
    "deletable": false,
    "editable": false,
    "nbgrader": {
     "cell_type": "markdown",
     "checksum": "6e29cf6c41ec6c2018d30daae780368d",
     "grade": false,
     "grade_id": "Gewicht_G_Description0",
     "locked": true,
     "schema_version": 3,
     "solution": false
    }
   },
   "source": [
    "## Gewicht / Größe g) [15 Punkte]\n",
    "\n",
    "Wir möchten versuchen das Gewicht einer Person in Abhängigkeit seiner Größe vorherzusagen. Dazu können wir eine Ausgleichsgerade durch die Punkte legen. \n",
    "\n",
    "Eine Ausgleichsgerade ist eine Gerade die den mittleren quadratischen Abstand (das Quadrat der Residuen) zwischen der Gerade und den realen Datenpunkten minimiert. \n",
    "\n",
    "![ausgleichsgerade2.png](attachment:ausgleichsgerade2.png)\n",
    "\n",
    "Implementieren Sie die Funktion ```fitLine(x_observed, y_observed)``` die für beobachtete X und Y Werte eine Ausgleichsgerade berechnet. Die Rückgabe der Funktion ist die Steigung und der Y-Achsenabschnitt der Geraden als Tupel.\n",
    "\n",
    "*Hinweis:* Benutzen Sie keine bereits implementierten Funktionen für die Bestimmung der Ausgleichsgerade. Sie brauchen nur den Mittelwert (numpy.mean)."
   ]
  },
  {
   "cell_type": "code",
   "execution_count": 10,
   "metadata": {
    "deletable": false,
    "nbgrader": {
     "cell_type": "code",
     "checksum": "2c052424c7ae7ff3c0eb3a46ee299c7a",
     "grade": false,
     "grade_id": "Gewicht_G",
     "locked": false,
     "schema_version": 3,
     "solution": true
    },
    "scrolled": true
   },
   "outputs": [],
   "source": [
    "def fitLine(x_observed: [float], y_observed: [float]) -> (float, float):\n",
    "    '''\n",
    "    Berechne eine Ausgleichsgerade der Form:\n",
    "    f(x) = m * x + b\n",
    "    \n",
    "    Arguments:\n",
    "        x_observed -- x Werte\n",
    "        y_observed -- y Werte\n",
    "    Returns:\n",
    "        m          -- Steigung\n",
    "        b          -- Achsenabschnitt\n",
    "    '''\n",
    "    # YOUR CODE HERE\n",
    "    x_observed = np.array(x_observed)\n",
    "    y_observed = np.array(y_observed)\n",
    "    var = 0\n",
    "    x_std = 0\n",
    "    y_std = 0\n",
    "    \n",
    "    x_m = x_observed.mean()\n",
    "    y_m = y_observed.mean()\n",
    "    for i in range(len(x_observed)):\n",
    "        var += (x_observed[i]-x_m)*(y_observed[i]-y_m)\n",
    "        x_std += (x_observed[i]-x_m)**2\n",
    "    \n",
    "    m = var/x_std\n",
    "    b = y_m - m * x_m\n",
    "    return (m,b)\n",
    "\n",
    "    \"\"\"x_observed = np.array(x_observed)\n",
    "    y_observed = np.array(y_observed)\n",
    "    x_m = x_observed.mean()\n",
    "    y_m = y_observed.mean()\n",
    "    m = y_m/x_m\n",
    "    b = y_m - m * x_m\n",
    "    return m,b\"\"\"\n",
    "# print(fitLine([0,2.6,5.6,8.3,11.25],[2,1.8,3,6.2,11.25]))\n",
    "# print(fitLine([1,2,3,4],[2,4,6,8]))\n",
    "#    raise NotImplementedError()"
   ]
  },
  {
   "cell_type": "code",
   "execution_count": null,
   "metadata": {
    "deletable": false,
    "editable": false,
    "nbgrader": {
     "cell_type": "code",
     "checksum": "0b5fe6785b6ca1d9d5ec34fa66ad0b09",
     "grade": true,
     "grade_id": "test_Gewicht_G0",
     "locked": true,
     "points": 15,
     "schema_version": 3,
     "solution": false
    }
   },
   "outputs": [],
   "source": []
  },
  {
   "cell_type": "markdown",
   "metadata": {
    "deletable": false,
    "editable": false,
    "nbgrader": {
     "cell_type": "markdown",
     "checksum": "f363bd12292258d3ef63bab5512e2bf1",
     "grade": false,
     "grade_id": "Gewicht_H_Description0",
     "locked": true,
     "schema_version": 3,
     "solution": false
    }
   },
   "source": [
    "## Gewicht / Größe h) [5 Punkte]\n",
    "\n",
    "Berechnen Sie folgende Ausgleichsgeraden für die Frauen:\n",
    "\n",
    "1. Vorhersage des Gewichts mittels der Größe\n",
    "2. Vorhersage der Größe mittels des Gewichts\n",
    "\n",
    "Speichern Sie Ihre Lösung in den Variablen ```steigung1, achsenabschnitt1``` sowie ```steigung2, achsenabschnitt2```."
   ]
  },
  {
   "cell_type": "code",
   "execution_count": 11,
   "metadata": {
    "deletable": false,
    "nbgrader": {
     "cell_type": "code",
     "checksum": "f919d92341554cdee195d0697aad9150",
     "grade": false,
     "grade_id": "Gewicht_H",
     "locked": false,
     "schema_version": 3,
     "solution": true
    }
   },
   "outputs": [
    {
     "data": {
      "text/plain": [
       "(0.822869697911858, -56.03523326138367)"
      ]
     },
     "execution_count": 11,
     "metadata": {},
     "output_type": "execute_result"
    }
   ],
   "source": [
    "steigung1 = fitLine(women.Gewicht,women.Groesse)[0]\n",
    "achsenabschnitt1 = fitLine(women.Gewicht,women.Groesse)[1]\n",
    "steigung2 = fitLine(women.Groesse,women.Gewicht)[0]\n",
    "achsenabschnitt2 = fitLine(women.Groesse,women.Gewicht)[1]\n",
    "# YOUR CODE HERE\n",
    "#raise NotImplementedError()\n",
    "\n",
    "steigung2, achsenabschnitt2"
   ]
  },
  {
   "cell_type": "code",
   "execution_count": null,
   "metadata": {
    "deletable": false,
    "editable": false,
    "nbgrader": {
     "cell_type": "code",
     "checksum": "beefc6a4fd31ee2dae02d70529932529",
     "grade": true,
     "grade_id": "test_Gewicht_H0",
     "locked": true,
     "points": 5,
     "schema_version": 3,
     "solution": false
    }
   },
   "outputs": [],
   "source": []
  },
  {
   "cell_type": "markdown",
   "metadata": {
    "deletable": false,
    "editable": false,
    "nbgrader": {
     "cell_type": "markdown",
     "checksum": "9e17c315d2d04432318982dfbd2893e4",
     "grade": false,
     "grade_id": "Gewicht_I_Description0",
     "locked": true,
     "schema_version": 3,
     "solution": false
    }
   },
   "source": [
    "## Gewicht / Größe i) [10 Punkte]\n",
    "\n",
    "Plotten Sie die Verteilung der Größe vs Gewicht für die Frauen und zeichnen die oben berechneten Geraden ein."
   ]
  },
  {
   "cell_type": "code",
   "execution_count": 12,
   "metadata": {
    "deletable": false,
    "nbgrader": {
     "cell_type": "code",
     "checksum": "594a9d2187d51bbc50cd355cc17cb95b",
     "grade": true,
     "grade_id": "Gewicht_I",
     "locked": false,
     "points": 10,
     "schema_version": 3,
     "solution": true
    }
   },
   "outputs": [
    {
     "data": {
      "image/png": "[encoded data removed]",
      "text/plain": [
       "<Figure size 432x288 with 1 Axes>"
      ]
     },
     "metadata": {
      "needs_background": "light"
     },
     "output_type": "display_data"
    }
   ],
   "source": [
    "import matplotlib.pyplot as plt\n",
    "\n",
    "\n",
    "\n",
    "plt.scatter(women.Gewicht,women.Groesse, s=3, linestyle='solid',label='Frauen')\n",
    "x = range(200)\n",
    "y = range(120,200)\n",
    "plt.plot(x, x * steigung1 + achsenabschnitt1, linewidth=1.5,label='Gewicht zu Größe',color = 'red')\n",
    "plt.plot(y * steigung2 + achsenabschnitt2, y, linewidth=1.5,label='Größe zu Gewicht',color = 'orange')\n",
    "\n",
    "plt.legend(loc='lower right', shadow=True, )\n",
    "plt.xlabel('Gewicht')\n",
    "plt.ylabel('Größe')\n",
    "plt.grid(True)\n",
    "plt.title(\"Gewichts- und Größenverteilung\\nunter Us-Amerikanischen Frauen\")\n",
    "plt.show()\n",
    "\n",
    "# YOUR CODE HERE\n",
    "# raise NotImplementedError()"
   ]
  },
  {
   "cell_type": "markdown",
   "metadata": {
    "deletable": false,
    "editable": false,
    "nbgrader": {
     "cell_type": "markdown",
     "checksum": "54f1cf4f6c8bf6416d2f97e3bbe0fdc9",
     "grade": false,
     "grade_id": "Gewicht_J_Description0",
     "locked": true,
     "schema_version": 3,
     "solution": false
    }
   },
   "source": [
    "## Gewicht / Größe j) [10 Punkte]\n",
    "\n",
    "Implementieren Sie die Funktion ```correlation(x, y)``` welche den Korrelationskoeffizienten zwischen den Datenpunkten ```x``` und ```y``` berechnet.\n",
    "\n",
    "*Hinweis:* Benutzen Sie keine vordefinierten Funktionen wie ```scipy.stats.pearsonr``` sondern implementieren Sie die Funktion selbst. Sie können selbstverständlich Funktionen wie ```numpy.mean``` oder ```numpy.sqrt``` benutzen.\n",
    "\n",
    "Sollten Sie diese Teilaufgabe nicht lösen, können Sie im Folgenden mit der Funktion ```scipy.stats.pearsonr``` arbeiten."
   ]
  },
  {
   "cell_type": "code",
   "execution_count": 13,
   "metadata": {
    "deletable": false,
    "nbgrader": {
     "cell_type": "code",
     "checksum": "27833b3c524d82c546a86ce0a94d958b",
     "grade": false,
     "grade_id": "Gewicht_J",
     "locked": false,
     "schema_version": 3,
     "solution": true
    }
   },
   "outputs": [],
   "source": [
    "def correlation(x: [float], y: [float]) -> float:\n",
    "    '''\n",
    "    Berechne den Pearson Korrelationskoeffizienten\n",
    "    \n",
    "    Args:\n",
    "        x    -- Eine Liste mit x Werten\n",
    "        y    -- Eine Liste mit y Werten\n",
    "    Returns:\n",
    "        corr -- Korrelationskoeffizient\n",
    "    '''\n",
    "    # YOUR CODE HERE\n",
    "    x = np.array(x)\n",
    "    y = np.array(y)\n",
    "    var = 0\n",
    "    x_std = 0\n",
    "    y_std = 0\n",
    "    \n",
    "    x_m = x.mean()\n",
    "    y_m = y.mean()\n",
    "    for i in range(len(x)):\n",
    "        var += (x[i]-x_m)*(y[i]-y_m)\n",
    "        x_std += (x[i]-x_m)**2\n",
    "        y_std += (y[i]-y_m)**2\n",
    "    \n",
    "    return var/((x_std*y_std)**0.5)\n",
    "\n",
    "#raise NotImplementedError()"
   ]
  },
  {
   "cell_type": "code",
   "execution_count": null,
   "metadata": {
    "deletable": false,
    "editable": false,
    "nbgrader": {
     "cell_type": "code",
     "checksum": "96c6e0bc0d48ab87cbe6459a85506fdc",
     "grade": true,
     "grade_id": "test_Gewicht_J0",
     "locked": true,
     "points": 10,
     "schema_version": 3,
     "solution": false
    }
   },
   "outputs": [],
   "source": []
  },
  {
   "cell_type": "markdown",
   "metadata": {
    "deletable": false,
    "editable": false,
    "nbgrader": {
     "cell_type": "markdown",
     "checksum": "9049b820c3b9e2e1acbc4568d549923d",
     "grade": false,
     "grade_id": "Gewicht_K_Description0",
     "locked": true,
     "schema_version": 3,
     "solution": false,
     "task": false
    }
   },
   "source": [
    "## Gewicht / Größe k) [5 Punkte]\n",
    "\n",
    "Berechnen Sie den Korrelationskoeffizienten für Größe und Gewicht der Frauen und speichern Sie Ihre Lösung in der Variablen ```korrelation```. "
   ]
  },
  {
   "cell_type": "code",
   "execution_count": 14,
   "metadata": {
    "deletable": false,
    "nbgrader": {
     "cell_type": "code",
     "checksum": "3aabd7bd51c0053f495e5d6740c8f549",
     "grade": false,
     "grade_id": "Gewicht_K",
     "locked": false,
     "schema_version": 3,
     "solution": true,
     "task": false
    }
   },
   "outputs": [
    {
     "name": "stdout",
     "output_type": "stream",
     "text": [
      "Der Korrelationskoeffizient für die Größe und das Gewicht der Frauen ist 0.2505.\n"
     ]
    }
   ],
   "source": [
    "korrelation = correlation(women.Groesse,women.Gewicht)\n",
    "# YOUR CODE HERE\n",
    "#raise NotImplementedError()\n",
    "\n",
    "print(f'Der Korrelationskoeffizient für die Größe und das Gewicht der Frauen ist {korrelation:.4f}.')"
   ]
  },
  {
   "cell_type": "code",
   "execution_count": null,
   "metadata": {
    "deletable": false,
    "editable": false,
    "nbgrader": {
     "cell_type": "code",
     "checksum": "ee6c02461ed2ecb7cd437662c12fd80a",
     "grade": true,
     "grade_id": "test_Gewicht_K0",
     "locked": true,
     "points": 5,
     "schema_version": 3,
     "solution": false,
     "task": false
    }
   },
   "outputs": [],
   "source": []
  },
  {
   "cell_type": "markdown",
   "metadata": {
    "deletable": false,
    "editable": false,
    "nbgrader": {
     "cell_type": "markdown",
     "checksum": "c10d34bbc70d9760c580c0f2f85db0b6",
     "grade": false,
     "grade_id": "Gewicht_L_Description0",
     "locked": true,
     "schema_version": 3,
     "solution": false
    }
   },
   "source": [
    "## Gewicht / Größe l) [12 Punkte]\n",
    "\n",
    "Wir wollen nun eine Normalverteilung an die Daten anpassen. In Aufgabenteil e) haben wir bereits die charakteristischen Parameter für die Merkmale **Gewicht** und **Größe** der Frauen und Männer berechnet.\n",
    "\n",
    "Plotten Sie pro Geschlecht und Merkmal ein Histogramm (mit aktiviertem Parameter ```density=True```). Dies ergibt **4** Plots.\n",
    "\n",
    "Zeichnen Sie in jeden Plot eine Normalverteilung auf Basis der charakteristischen Parameter.\n",
    "\n",
    "*Hinweis:* Benutzen Sie die Dichtefunktion pdf aus dem Modul ```stats.norm```."
   ]
  },
  {
   "cell_type": "code",
   "execution_count": 25,
   "metadata": {
    "deletable": false,
    "nbgrader": {
     "cell_type": "code",
     "checksum": "00ff090da75510c3114732acc348ae62",
     "grade": true,
     "grade_id": "Gewicht_L",
     "locked": false,
     "points": 12,
     "schema_version": 3,
     "solution": true
    }
   },
   "outputs": [
    {
     "data": {
      "image/png": "[encoded data removed]",
      "text/plain": [
       "<Figure size 864x864 with 4 Axes>"
      ]
     },
     "metadata": {
      "needs_background": "light"
     },
     "output_type": "display_data"
    }
   ],
   "source": [
    "import matplotlib.pyplot as plt\n",
    "from scipy.stats import norm\n",
    "import numpy as np\n",
    "fig, axs = plt.subplots(2,2,sharey=\"row\",figsize=(12,12))\n",
    "\n",
    "c, bins1,l = axs[0,0].hist(men.Gewicht,80,density=True,label=\"Gewicht Verteilung Männer\")\n",
    "pdf1 = stats.norm.pdf(bins1,loc = men.Gewicht.mean(),scale = men.Gewicht.std())\n",
    "axs[0,0].plot(bins1, pdf1,label=\"Normalverteilung\")\n",
    "axs[0,0].grid()\n",
    "axs[0,0].legend(loc='upper right', shadow=True,)\n",
    "axs[0,0].set_xlabel(\"Gewicht\")\n",
    "\n",
    "c, bins2,l = axs[1,0].hist(men.Groesse,80,density=True,label=\"Größen Verteilung Männer\")\n",
    "pdf2 = stats.norm.pdf(bins2,loc = men.Groesse.mean(),scale = men.Groesse.std())\n",
    "axs[1,0].plot(bins2, pdf2,label=\"Normalverteilung\")\n",
    "axs[1,0].grid()\n",
    "axs[1,0].legend(loc='upper right', shadow=True,)\n",
    "axs[1,0].set_xlabel(\"Größe\")\n",
    "\n",
    "c, bins3,l = axs[0,1].hist(women.Gewicht,80,density=True,label=\"Gewicht Verteilung Frauen\")\n",
    "pdf3 = stats.norm.pdf(bins3,loc = women.Gewicht.mean(),scale = women.Gewicht.std())\n",
    "axs[0,1].plot(bins3, pdf3,label=\"Normalverteilung\")\n",
    "axs[0,1].grid()\n",
    "axs[0,1].legend(loc='upper right', shadow=True,)\n",
    "axs[0,1].set_xlabel(\"Gewicht\")\n",
    "\n",
    "c, bins4,l = axs[1,1].hist(women.Groesse,80,density=True,label=\"Größen Verteilung Frauen\")\n",
    "pdf4 = stats.norm.pdf(bins4,loc = women.Groesse.mean(),scale = women.Groesse.std())\n",
    "axs[1,1].plot(bins4, pdf4,label=\"Normalverteilung\")\n",
    "axs[1,1].grid()\n",
    "axs[1,1].legend(loc='upper left', shadow=True,fontsize=\"small\")\n",
    "axs[1,1].set_xlabel(\"Größe\")\n",
    "\n",
    "plt.subplots_adjust(wspace=0.2, hspace=0.2)\n",
    "plt.show()\n",
    "# YOUR CODE HERE\n",
    "# raise NotImplementedError()"
   ]
  },
  {
   "cell_type": "markdown",
   "metadata": {
    "deletable": false,
    "editable": false,
    "nbgrader": {
     "cell_type": "markdown",
     "checksum": "955e2fc38a3e95ee2ba86c4d61e0ee9b",
     "grade": false,
     "grade_id": "Gewicht_M_Description0",
     "locked": true,
     "schema_version": 3,
     "solution": false
    }
   },
   "source": [
    "## Gewicht / Größe m) [12 Punkte]\n",
    "\n",
    "Bei näherer Betrachtung fällt auf, dass die Histogramme nicht symmetrisch sondern leicht schief sind.\n",
    "\n",
    "Eine Verteilung kann linksschief oder rechtsschief sein (vgl. https://de.wikipedia.org/wiki/Schiefe_(Statistik)).\n",
    "\n",
    "Wir wollen nun eine schiefe Normalverteilung an unsere Daten anpassen. Dazu gibt es das Modul ```stats.skewnorm```. Da die Berechnung der Parameter nicht so einfach ist, können Sie die Funktion ```stats.skewnorm.fit``` nutzen um die charakteristischen Parameter für diese Verteilung zu finden.\n",
    "\n",
    "Plotten Sie für jedes Merkmal und Geschlecht ein Histogramm, die Normalverteilung aus dem vorigen Aufgabenteil und die schiefe Normalverteilung."
   ]
  },
  {
   "cell_type": "code",
   "execution_count": 36,
   "metadata": {
    "deletable": false,
    "nbgrader": {
     "cell_type": "code",
     "checksum": "7f22290e0b7ccd2ac753c5fc3eaa5b53",
     "grade": true,
     "grade_id": "Gewicht_M",
     "locked": false,
     "points": 12,
     "schema_version": 3,
     "solution": true
    }
   },
   "outputs": [
    {
     "data": {
      "image/png": "[encoded data removed]",
      "text/plain": [
       "<Figure size 864x864 with 4 Axes>"
      ]
     },
     "metadata": {
      "needs_background": "light"
     },
     "output_type": "display_data"
    }
   ],
   "source": [
    "import matplotlib.pyplot as plt\n",
    "from scipy.stats import norm, skewnorm\n",
    "import numpy as np\n",
    "\n",
    "\n",
    "fig, axs = plt.subplots(2,2,sharey=\"row\",figsize=(12,12))\n",
    "\n",
    "c, bins1,l = axs[0,0].hist(men.Gewicht,80,density=True,label=\"Gewicht Verteilung Männer\")\n",
    "pdf1 = stats.norm.pdf(bins1,loc = men.Gewicht.mean(),scale = men.Gewicht.std())\n",
    "p1 = stats.skewnorm.fit(men.Gewicht)\n",
    "pdf1 = stats.skewnorm.pdf(bins1, *p1 )\n",
    "axs[0,0].plot(bins1, pdf1,label=\"Normalverteilung\")\n",
    "axs[0,0].grid()\n",
    "axs[0,0].legend(loc='upper right', shadow=True,)\n",
    "axs[0,0].set_xlabel(\"Gewicht\")\n",
    "\n",
    "c, bins2,l = axs[1,0].hist(men.Groesse,80,density=True,label=\"Größen Verteilung Männer\")\n",
    "pdf2 = stats.norm.pdf(bins2,loc = men.Groesse.mean(),scale = men.Groesse.std())\n",
    "p2 = stats.skewnorm.fit(men.Groesse)\n",
    "pdf2 = stats.skewnorm.pdf(bins2, *p2 )\n",
    "axs[1,0].plot(bins2, pdf2,label=\"Normalverteilung\")\n",
    "axs[1,0].grid()\n",
    "axs[1,0].legend(loc='upper right', shadow=True,)\n",
    "axs[1,0].set_xlabel(\"Größe\")\n",
    "\n",
    "c, bins3,l = axs[0,1].hist(women.Gewicht,80,density=True,label=\"Gewicht Verteilung Frauen\")\n",
    "pdf3 = stats.norm.pdf(bins3,loc = women.Gewicht.mean(),scale = women.Gewicht.std())\n",
    "p3 = stats.skewnorm.fit(women.Gewicht)\n",
    "pdf3 = stats.skewnorm.pdf(bins3, *p3 )\n",
    "axs[0,1].plot(bins3, pdf3,label=\"Normalverteilung\")\n",
    "axs[0,1].grid()\n",
    "axs[0,1].legend(loc='upper right', shadow=True,)\n",
    "axs[0,1].set_xlabel(\"Gewicht\")\n",
    "\n",
    "c, bins4,l = axs[1,1].hist(women.Groesse,80,density=True,label=\"Größen Verteilung Frauen\")\n",
    "pdf4 = stats.norm.pdf(bins4,loc = women.Groesse.mean(),scale = women.Groesse.std())\n",
    "p4 = stats.skewnorm.fit(women.Groesse)\n",
    "pdf4 = stats.skewnorm.pdf(bins4, *p4 )\n",
    "axs[1,1].plot(bins4, pdf4,label=\"Normalverteilung\")\n",
    "axs[1,1].grid()\n",
    "axs[1,1].legend(loc='upper left', shadow=True,fontsize=\"small\")\n",
    "axs[1,1].set_xlabel(\"Größe\")\n",
    "\n",
    "plt.subplots_adjust(wspace=0.2, hspace=0.2)\n",
    "plt.show()\n",
    "\"\"\"\n",
    "# YOUR CODE HERE\n",
    "fig, axs = plt.subplots(2,2,sharey=True)\n",
    "\n",
    "c, bins1,l = axs[0,0].hist(men.Gewicht,50,density=True)\n",
    "pdf1 = stats.skewnorm.pdf(bins1,stats.norm.pdf(men.Gewicht.mean(),scale = men.Gewicht.std()))\n",
    "axs[0,0].plot(bins1, pdf1)\n",
    "\n",
    "c, bins2,l = axs[1,0].hist(men.Groesse,50,density=True)\n",
    "pdf2 = stats.norm.pdf(bins2,loc = men.Groesse.mean(),scale = men.Groesse.std())\n",
    "axs[1,0].plot(bins2, pdf2)\n",
    "\n",
    "c, bins3,l = axs[0,1].hist(women.Gewicht,50,density=True)\n",
    "pdf3 = stats.norm.pdf(bins3,loc = women.Gewicht.mean(),scale = women.Gewicht.std())\n",
    "axs[0,1].plot(bins3, pdf3)\n",
    "\n",
    "c, bins4,l = axs[1,1].hist(women.Groesse,50,density=True)\n",
    "pdf4 = stats.norm.pdf(bins4,loc = women.Groesse.mean(),scale = women.Groesse.std())\n",
    "axs[1,1].plot(bins4, pdf4)\n",
    "\n",
    "plt.show()\n",
    "\"\"\"\n",
    "None\n",
    "#raise NotImplementedError()"
   ]
  },
  {
   "cell_type": "markdown",
   "metadata": {
    "deletable": false,
    "editable": false,
    "nbgrader": {
     "cell_type": "markdown",
     "checksum": "85925eea8ced79abe3d27c288b20fb2a",
     "grade": false,
     "grade_id": "baum_description",
     "locked": true,
     "schema_version": 3,
     "solution": false,
     "task": false
    }
   },
   "source": [
    "## Frohe Weihnachten\n",
    "\n",
    "Führen Sie die folgende Zelle aus."
   ]
  },
  {
   "cell_type": "code",
   "execution_count": null,
   "metadata": {
    "deletable": false,
    "editable": false,
    "nbgrader": {
     "cell_type": "code",
     "checksum": "3c3141685b7a44971aa7c416551c4e8a",
     "grade": false,
     "grade_id": "baum",
     "locked": true,
     "schema_version": 3,
     "solution": false,
     "task": false
    }
   },
   "outputs": [],
   "source": [
    "from data import Tree\n",
    "        \n",
    "Tree().draw()"
   ]
  },
  {
   "cell_type": "code",
   "execution_count": null,
   "metadata": {},
   "outputs": [],
   "source": []
  }
 ],
 "metadata": {
  "kernelspec": {
   "display_name": "ExamKernel",
   "language": "python",
   "name": "exam_kernel"
  },
  "language_info": {
   "extension": ".py",
   "mimetype": "text/plain",
   "name": "python"
  }
 },
 "nbformat": 4,
 "nbformat_minor": 4
}
