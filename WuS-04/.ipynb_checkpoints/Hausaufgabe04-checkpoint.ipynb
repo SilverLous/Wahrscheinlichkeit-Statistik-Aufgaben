{
 "cells": [
  {
   "cell_type": "markdown",
   "metadata": {
    "deletable": false,
    "editable": false,
    "nbassignment": {
     "type": "header"
    },
    "nbgrader": {
     "cell_type": "markdown",
     "checksum": "b4515dda7e4f3adf0b2dc682ef545b43",
     "grade": false,
     "grade_id": "template_01e63c03_0",
     "locked": true,
     "schema_version": 3,
     "solution": false,
     "task": false
    }
   },
   "source": [
    "<div class=\"alert alert-block alert-info\">\n",
    "    <h1>Wahrscheinlichkeitstheorie und Statistik</h1>\n",
    "    <h2>WS 2020 / 2021</h2>\n",
    "    <h2>Übung 4</h2>\n",
    "    <h3>Allgemeine Informationen:</h3>\n",
    "    <p>Schreiben Sie Ihre Antwort an die Stelle <i>YOUR ANSWER HERE</i>.</p>\n",
    "    <p>Wenn Sie eine Zelle bearbeiten, löschen Sie die Zeile <i>raise NotImplementedError()</i>.</p>\n",
    "    <p>Fügen Sie keine neuen Zellen hinzu oder löschen Zellen.</p>\n",
    "    <h3>Abgabetermin</h3>\n",
    "    <p>Die Abgabe der Hausaufgabe ist am 5.01.2021 um <strong>12:00 Uhr mittags</strong>! Vergessen Sie nicht Ihre Übung abzugeben.</p>\n",
    "    <h2>Viel Erfolg!</h2>   \n",
    "</div>"
   ]
  },
  {
   "cell_type": "markdown",
   "metadata": {
    "deletable": false,
    "editable": false,
    "nbassignment": {
     "type": "header"
    },
    "nbgrader": {
     "cell_type": "markdown",
     "checksum": "d168e673227861de0755d36f6fbe5c4f",
     "grade": false,
     "grade_id": "template_1c702a0c_0",
     "locked": true,
     "schema_version": 3,
     "solution": false,
     "task": false
    }
   },
   "source": [
    "<div class=\"alert alert-block alert-warning\">\n",
    "    <h2>Hinweise zur Bearbeitung der Übung</h2>\n",
    "    <h3>Angabe von Ergebnissen</h3>\n",
    "    <ul>\n",
    "        <li>Sie müssen nicht runden. Wir testen ob Ihr Ergebnis um maximal $5\\%$ vom exaktem Wert abweicht. $f_{rel }= \\frac{|x_{exakt} - x_{Studi}|}{x_{exakt}} \\leq 0.05$</li>\n",
    "        <li>Prozentzahlen werden immer als Zahl zwischen 0 und 1 angegeben. 30% wird somit als 0.3 angegeben.</li>\n",
    "        <li>Fließkommazahlen werden mit einem Dezimalpunkt angegeben, nicht mit einem Komma. $\\frac{1}{4} \\rightarrow 0.25$.</li>\n",
    "    </ul>\n",
    "    <h3>Programmcode</h3>\n",
    "    <ul>\n",
    "        <li>Benutzen Sie nur die in der nächsten Zelle angegebenen Bibliotheken mit den dort benutzten Namen. Wenn Sie also etwas aus der Bibliothek <i>random</i> nutzen wollen, verwenden Sie den Namen <i>rd</i>.</li>\n",
    "        <li>Das Ergebnis einer Funktion muss mittels <i>return</i> zurückgegeben werden. Ein <i>print</i> Statement ist keine gültige Rückgabe.</li>\n",
    "        <li>Stellen Sie sicher, dass sich Ihr Code ausführen lässt. Code der nicht läuft kann nicht automatisch bewertet werden.</li>\n",
    "        <li><strong>Bevor Sie abgeben:</strong> Klicken Sie im Menü auf Kernel > Restart & Run All. Damit führen Sie das Notebook von oben nach unten aus. Alle Fehler die dann auftreten, treten auch beim Bewerten auf.</li>\n",
    "        <li>Entfernen Sie die Zeilen <i>raise NotImplementedError()</i> wenn Sie eine Aufgabe bearbeiten. Ansonsten wird beim Bewerten eine Exception ausgelöst die uns sagt, dass Sie die Aufgabe nicht bearbeitet haben!</li>\n",
    "    </ul>\n",
    "    <h3>Plots</h3>\n",
    "    <ul>\n",
    "        <li>Jeder Plot soll eine Achsenbeschriftung, einen Titel, eine Legende und ein Grid haben.</li>\n",
    "    </ul>\n",
    "    \n",
    "</div>"
   ]
  },
  {
   "cell_type": "code",
   "execution_count": null,
   "metadata": {
    "deletable": false,
    "editable": false,
    "nbassignment": {
     "type": "header"
    },
    "nbgrader": {
     "cell_type": "code",
     "checksum": "f5edb8833af4775e55993dc3a8c3fc53",
     "grade": false,
     "grade_id": "template_8864c0f3_0",
     "locked": true,
     "schema_version": 3,
     "solution": false,
     "task": false
    }
   },
   "outputs": [],
   "source": [
    "import math\n",
    "import collections\n",
    "import itertools        \n",
    "import glob\n",
    "import numpy as np\n",
    "import random as rd\n",
    "import pandas as pd        \n",
    "import matplotlib.pyplot as plt\n",
    "from scipy import stats"
   ]
  },
  {
   "cell_type": "markdown",
   "metadata": {
    "deletable": false,
    "editable": false,
    "nbgrader": {
     "cell_type": "markdown",
     "checksum": "21f3adab61c49d9608cb98c8b7223e05",
     "grade": false,
     "grade_id": "pandas",
     "locked": true,
     "schema_version": 3,
     "solution": false,
     "task": false
    }
   },
   "source": [
    "# Pandas\n",
    "\n",
    "In dieser Übung benutzen wir die Python Bibliothek ```pandas```. Eine kurze Einführung dazu finden Sie hier im Jupyterhub im Ordner ```Materials/01-Pandas/Intro-to-Pandas```. Dieser Ordner befindet sich im Hauptverzeichnis des Jupyterhubs."
   ]
  },
  {
   "cell_type": "markdown",
   "metadata": {
    "deletable": false,
    "editable": false,
    "nbgrader": {
     "cell_type": "markdown",
     "checksum": "6270123e45cf327e58f25bf057280632",
     "grade": false,
     "grade_id": "Gewicht_AGewicht_BGewicht_CGewicht_DGewicht_EGewicht_FGewicht_GGewicht_HGewicht_IGewicht_JGewicht_KGewicht_LGewicht_MGewicht_NGewicht_OGewicht_P_Header",
     "locked": true,
     "schema_version": 3,
     "solution": false
    }
   },
   "source": [
    "# Gewicht / Größe\n",
    "\n",
    "Zusätzlich zu diesem Notebook wurde Ihnen die Datei ```health.csv``` im Ordner ```data``` zur Verfügung gestellt.\n",
    "\n",
    "Dieser Datensatz enthält Umfrageergebnisse einer Gesundheitsumfrage unter Jugendlichen und jungen Erwachsenen aus den USA (https://www.icpsr.umich.edu/icpsrweb/DSDR/studies/21600).\n",
    "\n",
    "Im Rahmen der National Longitudinal Study of Adolescent to Adult Health wurden 20000 Teilnehmer zu verschiedensten Themen rund um die Gesundheit befragt. Der Datensatz ```health.csv``` enthält einen Auszug der Fragen und Antworten von ca. 5000 Teilnehmern.\n",
    "\n",
    "Der Datensatz enthält folgende Werte:\n",
    "\n",
    "- AID - Pseudonym für jeden Teilnehmer\n",
    "- H4WGT - Gewicht der Teilnehmer\n",
    "- H4HGT - Größe der Teilnehmer\n",
    "- BIO_SEX4 - Geschlecht der Teilnehmer\n",
    "- H4OD1Y - Das Geburtsjahr der Teilnehmer"
   ]
  },
  {
   "cell_type": "markdown",
   "metadata": {
    "deletable": false,
    "editable": false,
    "nbgrader": {
     "cell_type": "markdown",
     "checksum": "c54b30a1361bf52aa8ccbf1608f6a469",
     "grade": false,
     "grade_id": "Gewicht_A_Description0",
     "locked": true,
     "schema_version": 3,
     "solution": false
    }
   },
   "source": [
    "## Gewicht / Größe a) [5 Punkte]\n",
    "\n",
    "Laden Sie die Daten in einen pandas *DataFrame* und benennen Sie die Spalten wie folgt um:\n",
    "\n",
    "- H4WGT - Gewicht\n",
    "- H4HGT - Groesse\n",
    "- BIO_SEX4 - Geschlecht\n",
    "- H4OD1Y - Geburtsjahr\n",
    "\n",
    "Nennen Sie den neuen *DataFrame* ```health```"
   ]
  },
  {
   "cell_type": "code",
   "execution_count": null,
   "metadata": {
    "deletable": false,
    "nbgrader": {
     "cell_type": "code",
     "checksum": "cad961f8a0a45ab9abb67045bf14d214",
     "grade": false,
     "grade_id": "Gewicht_A",
     "locked": false,
     "schema_version": 3,
     "solution": true
    }
   },
   "outputs": [],
   "source": [
    "health = None\n",
    "# YOUR CODE HERE\n",
    "raise NotImplementedError()"
   ]
  },
  {
   "cell_type": "code",
   "execution_count": null,
   "metadata": {
    "deletable": false,
    "editable": false,
    "nbgrader": {
     "cell_type": "code",
     "checksum": "31611838bff6fa4c0b7bc8829c7394ea",
     "grade": true,
     "grade_id": "test_Gewicht_A0",
     "locked": true,
     "points": 5,
     "schema_version": 3,
     "solution": false
    }
   },
   "outputs": [],
   "source": []
  },
  {
   "cell_type": "markdown",
   "metadata": {
    "deletable": false,
    "editable": false,
    "nbgrader": {
     "cell_type": "markdown",
     "checksum": "1598a7396c05f4d676ba494d4a1b03bc",
     "grade": false,
     "grade_id": "Gewicht_B_Description0",
     "locked": true,
     "schema_version": 3,
     "solution": false
    }
   },
   "source": [
    "## Gewicht / Größe b) [5 Punkte]\n",
    "\n",
    "Plotten Sie Gewicht (x-Achse) und Größe (y-Achse) der Teilnehmer in einem Scatterplot. "
   ]
  },
  {
   "cell_type": "code",
   "execution_count": null,
   "metadata": {
    "deletable": false,
    "nbgrader": {
     "cell_type": "code",
     "checksum": "953e77d096717496b79926344faa2ee2",
     "grade": true,
     "grade_id": "Gewicht_B",
     "locked": false,
     "points": 5,
     "schema_version": 3,
     "solution": true
    }
   },
   "outputs": [],
   "source": [
    "# YOUR CODE HERE\n",
    "raise NotImplementedError()"
   ]
  },
  {
   "cell_type": "markdown",
   "metadata": {
    "deletable": false,
    "editable": false,
    "nbgrader": {
     "cell_type": "markdown",
     "checksum": "d3350e2cd7d13c5b4be5809e0bef406e",
     "grade": false,
     "grade_id": "Gewicht_C_Description0",
     "locked": true,
     "schema_version": 3,
     "solution": false
    }
   },
   "source": [
    "## Gewicht / Größe c) [10 Punkte]\n",
    "\n",
    "Anscheinend haben einige Teilnehmer Fantasieangaben zu Größe und Gewicht gemacht. Entfernen Sie alle Einträge die keinen Sinn ergeben (Gewicht > 250kg und Größe > 300cm). Speichern Sie Ihr Ergebnis wieder in der Variablen ```health_cleaned```.\n",
    "\n",
    "Plotten Sie das Ergebnis erneut."
   ]
  },
  {
   "cell_type": "code",
   "execution_count": null,
   "metadata": {
    "deletable": false,
    "nbgrader": {
     "cell_type": "code",
     "checksum": "2961546bebe0064fe926e7796781657e",
     "grade": true,
     "grade_id": "Gewicht_C",
     "locked": false,
     "points": 5,
     "schema_version": 3,
     "solution": true
    }
   },
   "outputs": [],
   "source": [
    "health_cleaned = None\n",
    "# YOUR CODE HERE\n",
    "raise NotImplementedError()"
   ]
  },
  {
   "cell_type": "code",
   "execution_count": null,
   "metadata": {
    "deletable": false,
    "editable": false,
    "nbgrader": {
     "cell_type": "code",
     "checksum": "907d14891302f44641aa5754621f8e05",
     "grade": true,
     "grade_id": "test_Gewicht_C0",
     "locked": true,
     "points": 5,
     "schema_version": 3,
     "solution": false
    }
   },
   "outputs": [],
   "source": []
  },
  {
   "cell_type": "markdown",
   "metadata": {
    "deletable": false,
    "editable": false,
    "nbgrader": {
     "cell_type": "markdown",
     "checksum": "67e4aee68e45a92fb08e9f9c332f7489",
     "grade": false,
     "grade_id": "Gewicht_D_Description0",
     "locked": true,
     "schema_version": 3,
     "solution": false
    }
   },
   "source": [
    "## Gewicht / Größe d) [10 Punkte]\n",
    "\n",
    "Teilen Sie die Daten auf in Frauen und Männer. Plotten Sie für beide das Gewicht und die Größe in dem selben Plot mit verschiedenen Farben.\n",
    "\n",
    "Speichern Sie die Daten für die Männer im DataFrame ```men```.\n",
    "\n",
    "Speichern Sie die Daten für die Frauen im DataFrame ```women```."
   ]
  },
  {
   "cell_type": "code",
   "execution_count": null,
   "metadata": {
    "deletable": false,
    "nbgrader": {
     "cell_type": "code",
     "checksum": "39cf20f479245c0d924b74cf2e263951",
     "grade": true,
     "grade_id": "Gewicht_D",
     "locked": false,
     "points": 5,
     "schema_version": 3,
     "solution": true
    }
   },
   "outputs": [],
   "source": [
    "men = None\n",
    "women = None\n",
    "# YOUR CODE HERE\n",
    "raise NotImplementedError()"
   ]
  },
  {
   "cell_type": "code",
   "execution_count": null,
   "metadata": {
    "deletable": false,
    "editable": false,
    "nbgrader": {
     "cell_type": "code",
     "checksum": "1140bf397d79e5b6f0b838c1b0bce90c",
     "grade": true,
     "grade_id": "test_Gewicht_D0",
     "locked": true,
     "points": 5,
     "schema_version": 3,
     "solution": false
    }
   },
   "outputs": [],
   "source": []
  },
  {
   "cell_type": "markdown",
   "metadata": {
    "deletable": false,
    "editable": false,
    "nbgrader": {
     "cell_type": "markdown",
     "checksum": "80689ea154cff336286e63406a8aa9c1",
     "grade": false,
     "grade_id": "Gewicht_E_Description0",
     "locked": true,
     "schema_version": 3,
     "solution": false
    }
   },
   "source": [
    "## Gewicht / Größe e) [12 Punkte]\n",
    "\n",
    "Erstellen Sie einen neuen Pandas *DataFrame* (analog zu untenstehender Tabelle) der die charakteristischen Werte der Verteilungen angibt. Nennen Sie Ihren *DateFrame* ```verteilungen```.\n",
    "\n",
    "| Merkmal | Geschlecht | Mittelwert | Median | Standardabweichung | Varianz |\n",
    "|---------|------------|------------|--------|--------------------|---------|\n",
    "| Gewicht | Male       |            |        |                    |         |\n",
    "| Gewicht | Female     |            |        |                    |         |\n",
    "| Gewicht | beide      |            |        |                    |         |\n",
    "| Groesse | Male       |            |        |                    |         |\n",
    "| Groesse | Female     |            |        |                    |         |\n",
    "| Groesse | beide      |            |        |                    |         |"
   ]
  },
  {
   "cell_type": "code",
   "execution_count": null,
   "metadata": {
    "deletable": false,
    "nbgrader": {
     "cell_type": "code",
     "checksum": "198bf3773b69d622cc405d618f40674e",
     "grade": false,
     "grade_id": "Gewicht_E",
     "locked": false,
     "schema_version": 3,
     "solution": true
    }
   },
   "outputs": [],
   "source": [
    "import numpy as np\n",
    "\n",
    "# Füllen Sie folgendes Dictionary mit Werten auf\n",
    "data = dict({\n",
    "    'Merkmal': ['Gewicht', 'Gewicht', 'Gewicht', 'Groesse', 'Groesse', 'Groesse'],\n",
    "    'Geschlecht': ['Male', 'Female', 'beide', 'Male', 'Female', 'beide'],\n",
    "    'Mittelwert': [],\n",
    "    'Median': [],\n",
    "    'Standardabweichung': [],\n",
    "    'Varianz': []\n",
    "})\n",
    "\n",
    "# YOUR CODE HERE\n",
    "raise NotImplementedError()\n",
    "\n",
    "# Erstelle DataFrame aus data\n",
    "verteilungen = pd.DataFrame(data)\n",
    "verteilungen"
   ]
  },
  {
   "cell_type": "code",
   "execution_count": null,
   "metadata": {
    "deletable": false,
    "editable": false,
    "nbgrader": {
     "cell_type": "code",
     "checksum": "425ba8da6b762d4729665f0b76889caf",
     "grade": true,
     "grade_id": "test_Gewicht_E0",
     "locked": true,
     "points": 12,
     "schema_version": 3,
     "solution": false
    }
   },
   "outputs": [],
   "source": [
    "# Dies ist eine Testzelle, bitte ignorieren Sie diese!"
   ]
  },
  {
   "cell_type": "markdown",
   "metadata": {
    "deletable": false,
    "editable": false,
    "nbgrader": {
     "cell_type": "markdown",
     "checksum": "6985dcaf6bdcc0b125e5aeb6c1c6f146",
     "grade": false,
     "grade_id": "Gewicht_F_Description0",
     "locked": true,
     "schema_version": 3,
     "solution": false
    }
   },
   "source": [
    "## Gewicht / Größe f) [10 Punkte]\n",
    "\n",
    "Beantworten Sie folgende Fragen:\n",
    "\n",
    "1. Wieviel Prozent der Männer sind schwerer als der Durchschnitt der Männer?\n",
    "\n",
    "   Speichern Sie Ihre Lösung in ```maenner_schwerer_als_Durchschnitt```\n",
    "   \n",
    "   \n",
    "2. Wieviel Prozent der Frauen sind schwerer als der Durchschnitt der Frauen?\n",
    "\n",
    "   Speichern Sie Ihre Lösung in ```frauen_schwerer_als_Durchschnitt```\n",
    "   \n",
    "   \n",
    "3. Wieviel Prozent der Frauen sind schwerer als der durchschnittliche Mann?\n",
    "\n",
    "   Speichern Sie Ihre Lösung in ```frauen_schwerer_als_Durchschnittsmann```\n",
    "   \n",
    "   \n",
    "4. Wieviel Prozent der Frauen sind größer als 50% der Männer?\n",
    "\n",
    "   Speichern Sie Ihre Lösung in ```frauen_groesser_als_Maenner```\n",
    "   \n",
    "   \n",
    "5. Wieviel Prozent der Männer sind größer als 50% der Frauen?\n",
    "\n",
    "   Speichern Sie Ihre Lösung in ```maenner_groesser_als_Frauen```\n",
    "   \n",
    "   \n",
    "*Hinweis:* Wenn die Lösung 30% lautet, speichern Sie den Wert als Fließkommazahl 0.3\n"
   ]
  },
  {
   "cell_type": "code",
   "execution_count": null,
   "metadata": {
    "deletable": false,
    "nbgrader": {
     "cell_type": "code",
     "checksum": "7c2ca6ff81e82d0c35f8dc0b7c6e0c27",
     "grade": false,
     "grade_id": "Gewicht_F",
     "locked": false,
     "schema_version": 3,
     "solution": true
    }
   },
   "outputs": [],
   "source": [
    "maenner_schwerer_als_Durchschnitt = 0\n",
    "frauen_schwerer_als_Durchschnitt = 0\n",
    "frauen_schwerer_als_Durchschnittsmann = 0\n",
    "frauen_groesser_als_Maenner = 0\n",
    "maenner_groesser_als_Frauen = 0\n",
    "\n",
    "# YOUR CODE HERE\n",
    "raise NotImplementedError()"
   ]
  },
  {
   "cell_type": "code",
   "execution_count": null,
   "metadata": {
    "deletable": false,
    "editable": false,
    "nbgrader": {
     "cell_type": "code",
     "checksum": "b77b37a11ffcc0aaef62b93ca3130445",
     "grade": true,
     "grade_id": "test_Gewicht_F0",
     "locked": true,
     "points": 10,
     "schema_version": 3,
     "solution": false
    }
   },
   "outputs": [],
   "source": []
  },
  {
   "attachments": {
    "ausgleichsgerade2.png": {
     "image/png": "[encoded data removed]"
    }
   },
   "cell_type": "markdown",
   "metadata": {
    "deletable": false,
    "editable": false,
    "nbgrader": {
     "cell_type": "markdown",
     "checksum": "6e29cf6c41ec6c2018d30daae780368d",
     "grade": false,
     "grade_id": "Gewicht_G_Description0",
     "locked": true,
     "schema_version": 3,
     "solution": false
    }
   },
   "source": [
    "## Gewicht / Größe g) [15 Punkte]\n",
    "\n",
    "Wir möchten versuchen das Gewicht einer Person in Abhängigkeit seiner Größe vorherzusagen. Dazu können wir eine Ausgleichsgerade durch die Punkte legen. \n",
    "\n",
    "Eine Ausgleichsgerade ist eine Gerade die den mittleren quadratischen Abstand (das Quadrat der Residuen) zwischen der Gerade und den realen Datenpunkten minimiert. \n",
    "\n",
    "![ausgleichsgerade2.png](attachment:ausgleichsgerade2.png)\n",
    "\n",
    "Implementieren Sie die Funktion ```fitLine(x_observed, y_observed)``` die für beobachtete X und Y Werte eine Ausgleichsgerade berechnet. Die Rückgabe der Funktion ist die Steigung und der Y-Achsenabschnitt der Geraden als Tupel.\n",
    "\n",
    "*Hinweis:* Benutzen Sie keine bereits implementierten Funktionen für die Bestimmung der Ausgleichsgerade. Sie brauchen nur den Mittelwert (numpy.mean)."
   ]
  },
  {
   "cell_type": "code",
   "execution_count": null,
   "metadata": {
    "deletable": false,
    "nbgrader": {
     "cell_type": "code",
     "checksum": "2c052424c7ae7ff3c0eb3a46ee299c7a",
     "grade": false,
     "grade_id": "Gewicht_G",
     "locked": false,
     "schema_version": 3,
     "solution": true
    }
   },
   "outputs": [],
   "source": [
    "def fitLine(x_observed: [float], y_observed: [float]) -> (float, float):\n",
    "    '''\n",
    "    Berechne eine Ausgleichsgerade der Form:\n",
    "    f(x) = m * x + b\n",
    "    \n",
    "    Arguments:\n",
    "        x_observed -- x Werte\n",
    "        y_observed -- y Werte\n",
    "    Returns:\n",
    "        m          -- Steigung\n",
    "        b          -- Achsenabschnitt\n",
    "    '''\n",
    "    # YOUR CODE HERE\n",
    "    raise NotImplementedError()"
   ]
  },
  {
   "cell_type": "code",
   "execution_count": null,
   "metadata": {
    "deletable": false,
    "editable": false,
    "nbgrader": {
     "cell_type": "code",
     "checksum": "0b5fe6785b6ca1d9d5ec34fa66ad0b09",
     "grade": true,
     "grade_id": "test_Gewicht_G0",
     "locked": true,
     "points": 15,
     "schema_version": 3,
     "solution": false
    }
   },
   "outputs": [],
   "source": []
  },
  {
   "cell_type": "markdown",
   "metadata": {
    "deletable": false,
    "editable": false,
    "nbgrader": {
     "cell_type": "markdown",
     "checksum": "f363bd12292258d3ef63bab5512e2bf1",
     "grade": false,
     "grade_id": "Gewicht_H_Description0",
     "locked": true,
     "schema_version": 3,
     "solution": false
    }
   },
   "source": [
    "## Gewicht / Größe h) [5 Punkte]\n",
    "\n",
    "Berechnen Sie folgende Ausgleichsgeraden für die Frauen:\n",
    "\n",
    "1. Vorhersage des Gewichts mittels der Größe\n",
    "2. Vorhersage der Größe mittels des Gewichts\n",
    "\n",
    "Speichern Sie Ihre Lösung in den Variablen ```steigung1, achsenabschnitt1``` sowie ```steigung2, achsenabschnitt2```."
   ]
  },
  {
   "cell_type": "code",
   "execution_count": null,
   "metadata": {
    "deletable": false,
    "nbgrader": {
     "cell_type": "code",
     "checksum": "f919d92341554cdee195d0697aad9150",
     "grade": false,
     "grade_id": "Gewicht_H",
     "locked": false,
     "schema_version": 3,
     "solution": true
    }
   },
   "outputs": [],
   "source": [
    "steigung1 = 0\n",
    "achsenabschnitt1 = 0\n",
    "steigung2 = 0\n",
    "achsenabschnitt2 = 0\n",
    "# YOUR CODE HERE\n",
    "raise NotImplementedError()\n",
    "\n",
    "steigung2, achsenabschnitt2"
   ]
  },
  {
   "cell_type": "code",
   "execution_count": null,
   "metadata": {
    "deletable": false,
    "editable": false,
    "nbgrader": {
     "cell_type": "code",
     "checksum": "beefc6a4fd31ee2dae02d70529932529",
     "grade": true,
     "grade_id": "test_Gewicht_H0",
     "locked": true,
     "points": 5,
     "schema_version": 3,
     "solution": false
    }
   },
   "outputs": [],
   "source": []
  },
  {
   "cell_type": "markdown",
   "metadata": {
    "deletable": false,
    "editable": false,
    "nbgrader": {
     "cell_type": "markdown",
     "checksum": "9e17c315d2d04432318982dfbd2893e4",
     "grade": false,
     "grade_id": "Gewicht_I_Description0",
     "locked": true,
     "schema_version": 3,
     "solution": false
    }
   },
   "source": [
    "## Gewicht / Größe i) [10 Punkte]\n",
    "\n",
    "Plotten Sie die Verteilung der Größe vs Gewicht für die Frauen und zeichnen die oben berechneten Geraden ein."
   ]
  },
  {
   "cell_type": "code",
   "execution_count": null,
   "metadata": {
    "deletable": false,
    "nbgrader": {
     "cell_type": "code",
     "checksum": "594a9d2187d51bbc50cd355cc17cb95b",
     "grade": true,
     "grade_id": "Gewicht_I",
     "locked": false,
     "points": 10,
     "schema_version": 3,
     "solution": true
    }
   },
   "outputs": [],
   "source": [
    "import matplotlib.pyplot as plt\n",
    "\n",
    "# YOUR CODE HERE\n",
    "raise NotImplementedError()"
   ]
  },
  {
   "cell_type": "markdown",
   "metadata": {
    "deletable": false,
    "editable": false,
    "nbgrader": {
     "cell_type": "markdown",
     "checksum": "54f1cf4f6c8bf6416d2f97e3bbe0fdc9",
     "grade": false,
     "grade_id": "Gewicht_J_Description0",
     "locked": true,
     "schema_version": 3,
     "solution": false
    }
   },
   "source": [
    "## Gewicht / Größe j) [10 Punkte]\n",
    "\n",
    "Implementieren Sie die Funktion ```correlation(x, y)``` welche den Korrelationskoeffizienten zwischen den Datenpunkten ```x``` und ```y``` berechnet.\n",
    "\n",
    "*Hinweis:* Benutzen Sie keine vordefinierten Funktionen wie ```scipy.stats.pearsonr``` sondern implementieren Sie die Funktion selbst. Sie können selbstverständlich Funktionen wie ```numpy.mean``` oder ```numpy.sqrt``` benutzen.\n",
    "\n",
    "Sollten Sie diese Teilaufgabe nicht lösen, können Sie im Folgenden mit der Funktion ```scipy.stats.pearsonr``` arbeiten."
   ]
  },
  {
   "cell_type": "code",
   "execution_count": null,
   "metadata": {
    "deletable": false,
    "nbgrader": {
     "cell_type": "code",
     "checksum": "27833b3c524d82c546a86ce0a94d958b",
     "grade": false,
     "grade_id": "Gewicht_J",
     "locked": false,
     "schema_version": 3,
     "solution": true
    }
   },
   "outputs": [],
   "source": [
    "def correlation(x: [float], y: [float]) -> float:\n",
    "    '''\n",
    "    Berechne den Pearson Korrelationskoeffizienten\n",
    "    \n",
    "    Args:\n",
    "        x    -- Eine Liste mit x Werten\n",
    "        y    -- Eine Liste mit y Werten\n",
    "    Returns:\n",
    "        corr -- Korrelationskoeffizient\n",
    "    '''\n",
    "    # YOUR CODE HERE\n",
    "    raise NotImplementedError()"
   ]
  },
  {
   "cell_type": "code",
   "execution_count": null,
   "metadata": {
    "deletable": false,
    "editable": false,
    "nbgrader": {
     "cell_type": "code",
     "checksum": "96c6e0bc0d48ab87cbe6459a85506fdc",
     "grade": true,
     "grade_id": "test_Gewicht_J0",
     "locked": true,
     "points": 10,
     "schema_version": 3,
     "solution": false
    }
   },
   "outputs": [],
   "source": []
  },
  {
   "cell_type": "markdown",
   "metadata": {
    "deletable": false,
    "editable": false,
    "nbgrader": {
     "cell_type": "markdown",
     "checksum": "9049b820c3b9e2e1acbc4568d549923d",
     "grade": false,
     "grade_id": "Gewicht_K_Description0",
     "locked": true,
     "schema_version": 3,
     "solution": false,
     "task": false
    }
   },
   "source": [
    "## Gewicht / Größe k) [5 Punkte]\n",
    "\n",
    "Berechnen Sie den Korrelationskoeffizienten für Größe und Gewicht der Frauen und speichern Sie Ihre Lösung in der Variablen ```korrelation```. "
   ]
  },
  {
   "cell_type": "code",
   "execution_count": null,
   "metadata": {
    "deletable": false,
    "nbgrader": {
     "cell_type": "code",
     "checksum": "3aabd7bd51c0053f495e5d6740c8f549",
     "grade": false,
     "grade_id": "Gewicht_K",
     "locked": false,
     "schema_version": 3,
     "solution": true,
     "task": false
    }
   },
   "outputs": [],
   "source": [
    "korrelation = 0\n",
    "# YOUR CODE HERE\n",
    "raise NotImplementedError()\n",
    "\n",
    "print(f'Der Korrelationskoeffizient für die Größe und das Gewicht der Frauen ist {korrelation:.4f}.')"
   ]
  },
  {
   "cell_type": "code",
   "execution_count": null,
   "metadata": {
    "deletable": false,
    "editable": false,
    "nbgrader": {
     "cell_type": "code",
     "checksum": "ee6c02461ed2ecb7cd437662c12fd80a",
     "grade": true,
     "grade_id": "test_Gewicht_K0",
     "locked": true,
     "points": 5,
     "schema_version": 3,
     "solution": false,
     "task": false
    }
   },
   "outputs": [],
   "source": []
  },
  {
   "cell_type": "markdown",
   "metadata": {
    "deletable": false,
    "editable": false,
    "nbgrader": {
     "cell_type": "markdown",
     "checksum": "c10d34bbc70d9760c580c0f2f85db0b6",
     "grade": false,
     "grade_id": "Gewicht_L_Description0",
     "locked": true,
     "schema_version": 3,
     "solution": false
    }
   },
   "source": [
    "## Gewicht / Größe l) [12 Punkte]\n",
    "\n",
    "Wir wollen nun eine Normalverteilung an die Daten anpassen. In Aufgabenteil e) haben wir bereits die charakteristischen Parameter für die Merkmale **Gewicht** und **Größe** der Frauen und Männer berechnet.\n",
    "\n",
    "Plotten Sie pro Geschlecht und Merkmal ein Histogramm (mit aktiviertem Parameter ```density=True```). Dies ergibt **4** Plots.\n",
    "\n",
    "Zeichnen Sie in jeden Plot eine Normalverteilung auf Basis der charakteristischen Parameter.\n",
    "\n",
    "*Hinweis:* Benutzen Sie die Dichtefunktion pdf aus dem Modul ```stats.norm```."
   ]
  },
  {
   "cell_type": "code",
   "execution_count": null,
   "metadata": {
    "deletable": false,
    "nbgrader": {
     "cell_type": "code",
     "checksum": "00ff090da75510c3114732acc348ae62",
     "grade": true,
     "grade_id": "Gewicht_L",
     "locked": false,
     "points": 12,
     "schema_version": 3,
     "solution": true
    }
   },
   "outputs": [],
   "source": [
    "import matplotlib.pyplot as plt\n",
    "from scipy.stats import norm\n",
    "import numpy as np\n",
    "\n",
    "# YOUR CODE HERE\n",
    "raise NotImplementedError()"
   ]
  },
  {
   "cell_type": "markdown",
   "metadata": {
    "deletable": false,
    "editable": false,
    "nbgrader": {
     "cell_type": "markdown",
     "checksum": "955e2fc38a3e95ee2ba86c4d61e0ee9b",
     "grade": false,
     "grade_id": "Gewicht_M_Description0",
     "locked": true,
     "schema_version": 3,
     "solution": false
    }
   },
   "source": [
    "## Gewicht / Größe m) [12 Punkte]\n",
    "\n",
    "Bei näherer Betrachtung fällt auf, dass die Histogramme nicht symmetrisch sondern leicht schief sind.\n",
    "\n",
    "Eine Verteilung kann linksschief oder rechtsschief sein (vgl. https://de.wikipedia.org/wiki/Schiefe_(Statistik)).\n",
    "\n",
    "Wir wollen nun eine schiefe Normalverteilung an unsere Daten anpassen. Dazu gibt es das Modul ```stats.skewnorm```. Da die Berechnung der Parameter nicht so einfach ist, können Sie die Funktion ```stats.skewnorm.fit``` nutzen um die charakteristischen Parameter für diese Verteilung zu finden.\n",
    "\n",
    "Plotten Sie für jedes Merkmal und Geschlecht ein Histogramm, die Normalverteilung aus dem vorigen Aufgabenteil und die schiefe Normalverteilung."
   ]
  },
  {
   "cell_type": "code",
   "execution_count": null,
   "metadata": {
    "deletable": false,
    "nbgrader": {
     "cell_type": "code",
     "checksum": "7f22290e0b7ccd2ac753c5fc3eaa5b53",
     "grade": true,
     "grade_id": "Gewicht_M",
     "locked": false,
     "points": 12,
     "schema_version": 3,
     "solution": true
    }
   },
   "outputs": [],
   "source": [
    "import matplotlib.pyplot as plt\n",
    "from scipy.stats import norm, skewnorm\n",
    "import numpy as np\n",
    "\n",
    "# YOUR CODE HERE\n",
    "raise NotImplementedError()"
   ]
  },
  {
   "cell_type": "markdown",
   "metadata": {
    "deletable": false,
    "editable": false,
    "nbgrader": {
     "cell_type": "markdown",
     "checksum": "85925eea8ced79abe3d27c288b20fb2a",
     "grade": false,
     "grade_id": "baum_description",
     "locked": true,
     "schema_version": 3,
     "solution": false,
     "task": false
    }
   },
   "source": [
    "## Frohe Weihnachten\n",
    "\n",
    "Führen Sie die folgende Zelle aus."
   ]
  },
  {
   "cell_type": "code",
   "execution_count": 2,
   "metadata": {
    "deletable": false,
    "editable": false,
    "nbgrader": {
     "cell_type": "code",
     "checksum": "3c3141685b7a44971aa7c416551c4e8a",
     "grade": false,
     "grade_id": "baum",
     "locked": true,
     "schema_version": 3,
     "solution": false,
     "task": false
    }
   },
   "outputs": [
    {
     "data": {
      "image/png": "[encoded data removed]",
      "text/plain": [
       "<Figure size 576x576 with 1 Axes>"
      ]
     },
     "metadata": {
      "needs_background": "light"
     },
     "output_type": "display_data"
    }
   ],
   "source": [
    "from data import Tree\n",
    "        \n",
    "Tree().draw()"
   ]
  },
  {
   "cell_type": "code",
   "execution_count": null,
   "metadata": {},
   "outputs": [],
   "source": []
  }
 ],
 "metadata": {
  "kernelspec": {
   "display_name": "ExamKernel",
   "language": "python",
   "name": "exam_kernel"
  },
  "language_info": {
   "extension": ".py",
   "mimetype": "text/plain",
   "name": "python"
  }
 },
 "nbformat": 4,
 "nbformat_minor": 4
}
