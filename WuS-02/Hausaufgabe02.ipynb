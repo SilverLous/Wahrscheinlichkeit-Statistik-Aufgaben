{
 "cells": [
  {
   "cell_type": "markdown",
   "metadata": {
    "deletable": false,
    "editable": false,
    "nbassignment": {
     "type": "header"
    },
    "nbgrader": {
     "cell_type": "markdown",
     "checksum": "7abffcb1786070a97ccebbfde03f7de1",
     "grade": false,
     "grade_id": "template_01e63c03_0",
     "locked": true,
     "schema_version": 3,
     "solution": false,
     "task": false
    }
   },
   "source": [
    "<div class=\"alert alert-block alert-info\">\n",
    "    <h1>Wahrscheinlichkeitstheorie und Statistik</h1>\n",
    "    <h2>WS 2020 / 2021</h2>\n",
    "    <h2>Satz von Bayes</h2>\n",
    "    <h3>Allgemeine Informationen:</h3>\n",
    "    <p>Schreiben Sie Ihre Antwort an die Stelle <i>YOUR ANSWER HERE</i>.</p>\n",
    "    <p>Wenn Sie eine Zelle bearbeiten, löschen Sie die Zeile <i>raise NotImplementedError()</i>.</p>\n",
    "    <p>Fügen Sie keine neuen Zellen hinzu oder löschen Zellen.</p>\n",
    "    <h3>Abgabetermin</h3>\n",
    "    <p>Die Abgabe der Hausaufgabe ist immer Dienstags um <strong>12:00 Uhr mittags</strong>!</p>\n",
    "    <h2>Viel Erfolg!</h2>   \n",
    "</div>"
   ]
  },
  {
   "cell_type": "code",
   "execution_count": 1,
   "metadata": {
    "deletable": false,
    "editable": false,
    "nbassignment": {
     "type": "header"
    },
    "nbgrader": {
     "cell_type": "code",
     "checksum": "7183ec3be9e57509132edb3775ec4fea",
     "grade": false,
     "grade_id": "template_8864c0f3_0",
     "locked": true,
     "schema_version": 3,
     "solution": false,
     "task": false
    }
   },
   "outputs": [],
   "source": [
    "import math\n",
    "import collections\n",
    "import itertools        \n",
    "import glob\n",
    "import numpy as np\n",
    "import random as rd\n",
    "import pandas as pd        \n",
    "import matplotlib.pyplot as plt\n",
    "from scipy import stats        "
   ]
  },
  {
   "cell_type": "markdown",
   "metadata": {
    "deletable": false,
    "editable": false,
    "nbgrader": {
     "cell_type": "markdown",
     "checksum": "fbd39c45b92484a34ac2618a9c1fcf68",
     "grade": false,
     "grade_id": "Kolmogorov_-_Genies_und_Schokolade_AKolmogorov_-_Genies_und_Schokolade_B_Header",
     "locked": true,
     "schema_version": 3,
     "solution": false,
     "task": false
    }
   },
   "source": [
    "## Genies und Schokolade [10 Punkte]\n",
    "\n",
    "Angenommen die folgenden Wahrscheinlichkeiten gelten für die Studierenden dieses Kurses:\n",
    "\n",
    "- 60 % sind Genies\n",
    "- 70 % essen gerne Schokolade\n",
    "- 40 % gehören beiden Kategorien an (Genies, Schokolade)"
   ]
  },
  {
   "cell_type": "markdown",
   "metadata": {
    "deletable": false,
    "editable": false,
    "nbgrader": {
     "cell_type": "markdown",
     "checksum": "900b457c2c1131ca4da6d3a35ca37c48",
     "grade": false,
     "grade_id": "Kolmogorov_-_Genies_und_Schokolade_A_Description0",
     "locked": true,
     "schema_version": 3,
     "solution": false,
     "task": false
    }
   },
   "source": [
    "### Genies und Schokolade a) [4 Punkte]\n",
    "\n",
    "Berechnen Sie die Wahrscheinlichkeit dafür, dass ein Studierender weder gerne Schokolade ist, noch ein Genie ist.\n",
    "Weisen Sie der Variable ```wederGenieNochSchokolade``` den entsprechenden Wert zu."
   ]
  },
  {
   "cell_type": "code",
   "execution_count": 2,
   "metadata": {
    "deletable": false,
    "nbgrader": {
     "cell_type": "code",
     "checksum": "a6bc37511848cf437f4a5933f88efb70",
     "grade": false,
     "grade_id": "Kolmogorov_-_Genies_und_Schokolade_A",
     "locked": false,
     "schema_version": 3,
     "solution": true,
     "task": false
    }
   },
   "outputs": [],
   "source": [
    "wederGenieNochSchokolade = 0.1"
   ]
  },
  {
   "cell_type": "code",
   "execution_count": null,
   "metadata": {
    "deletable": false,
    "editable": false,
    "nbgrader": {
     "cell_type": "code",
     "checksum": "e2a80eeef961a9f842cb14aee47331f3",
     "grade": true,
     "grade_id": "test_Kolmogorov_-_Genies_und_Schokolade_A0",
     "locked": true,
     "points": 4,
     "schema_version": 3,
     "solution": false,
     "task": false
    }
   },
   "outputs": [],
   "source": []
  },
  {
   "cell_type": "markdown",
   "metadata": {
    "deletable": false,
    "editable": false,
    "nbgrader": {
     "cell_type": "markdown",
     "checksum": "250ceb8ce506bd5ca7c07565da54d1a7",
     "grade": false,
     "grade_id": "Kolmogorov_-_Genies_und_Schokolade_B_Description0",
     "locked": true,
     "schema_version": 3,
     "solution": false,
     "task": false
    }
   },
   "source": [
    "### Genies und Schokolade b) [6 Punkte]\n",
    "\n",
    "Vervollständigen Sie die Funktion ```wederNoch(P_genie, P_schoko, P_beides)``` in der nächsten Zelle. Die Funktion soll die Wahrscheinlichkeit aus der vorigen Aufgabe allgemein berechnen.\n",
    "\n",
    "Bei dem Aufruf ```wederNoch(0.6, 0.7, 0.4)``` sollte daher das in 2.1 berechnete Ergebis herauskommen."
   ]
  },
  {
   "cell_type": "code",
   "execution_count": 3,
   "metadata": {
    "deletable": false,
    "nbgrader": {
     "cell_type": "code",
     "checksum": "23e143f46fc5b49e4a91a9cf16d29df6",
     "grade": false,
     "grade_id": "Kolmogorov_-_Genies_und_Schokolade_B",
     "locked": false,
     "schema_version": 3,
     "solution": true,
     "task": false
    }
   },
   "outputs": [],
   "source": [
    "def wederNoch(P_genie: float, P_schoko: float, P_beides: float) -> float:\r\n",
    "    \"\"\"\r\n",
    "    Wahrscheinlichkeit dafuer, dass ein Studierender weder ein Genie ist,\r\n",
    "    noch Schokolade isst.\r\n",
    "    \r\n",
    "    Arguments:\r\n",
    "        P_genie  -- Wahrscheinlichkeit das ein Studierender ein Genie ist\r\n",
    "        P_schoko -- Wahrscheinlichkeit das ein Studierender Schokolade isst\r\n",
    "        P_beides -- Wahrscheinlichkeit ein Genie zu sein und Schokolade zu essen\r\n",
    "    Returns:\r\n",
    "        P_xor    -- Wahrscheinlichkeit weder ein Genie zu sein noch Schokolade zu essen\r\n",
    "    \"\"\"\r\n",
    "\r\n",
    "    nG = P_schoko - P_beides\r\n",
    "\r\n",
    "    nS = (1 - P_genie) - nG\r\n",
    "    return nS\r\n",
    "\r\n",
    "#wederNoch(0.6, 0.7, 0.4)"
   ]
  },
  {
   "cell_type": "code",
   "execution_count": null,
   "metadata": {
    "deletable": false,
    "editable": false,
    "nbgrader": {
     "cell_type": "code",
     "checksum": "14fc16b16a0e6a72ddc84aeeaef699f7",
     "grade": true,
     "grade_id": "test_Kolmogorov_-_Genies_und_Schokolade_B0",
     "locked": true,
     "points": 6,
     "schema_version": 3,
     "solution": false,
     "task": false
    }
   },
   "outputs": [],
   "source": []
  },
  {
   "cell_type": "markdown",
   "metadata": {
    "deletable": false,
    "editable": false,
    "nbgrader": {
     "cell_type": "markdown",
     "checksum": "6651b2a576a9aa92b45667efdd017e22",
     "grade": false,
     "grade_id": "Rauchmelder_A_Header",
     "locked": true,
     "schema_version": 3,
     "solution": false,
     "task": false
    }
   },
   "source": [
    "### Rauchmelder [14 Punkte]\n",
    "\n",
    "Sie möchten neue Rauchmelder für Ihr Schlafzimmer kaufen.\n",
    "\n",
    "Im Internet finden Sie folgende Angebote:\n",
    "\n",
    "Rauchmelder $A$ für EUR 25 und Rauchmelder $B$ für EUR 4,50. \n",
    "\n",
    "Zu beiden Rauchmeldern finden Sie einen unabhängigen Test der angibt mit welcher Wahrscheinlichkeit ein Rauchmelder bei einem Feuer anschlägt.\n",
    "\n",
    "| Rauchmelder | Kosten    | Wahrscheinlichkeit ein Feuer zu erkennen |\n",
    "|-------------|-----------|------------------------------------------|\n",
    "| Typ A       | EUR 25    | 95 %                                     |\n",
    "| Typ B       | EUR 4,50  | 50 %                                     |\n",
    "\n",
    "\n"
   ]
  },
  {
   "cell_type": "markdown",
   "metadata": {
    "deletable": false,
    "editable": false,
    "nbgrader": {
     "cell_type": "markdown",
     "checksum": "e8a9a56be0530043fd4237d9bcef3459",
     "grade": false,
     "grade_id": "Rauchmelder_A_Description0",
     "locked": true,
     "schema_version": 3,
     "solution": false,
     "task": false
    }
   },
   "source": [
    "Sie wollen ein Feuer mit 99 prozentiger Wahrscheinlichkeit erkennen. Wieviele Rauchmelder welchen Typs kaufen Sie um die Kosten zu minimieren? Wie hoch ist die Wahrscheinlichkeit ein Feuer zu erkennen?\n",
    "\n",
    "Speichern Sie Ihre Antwort in den Variablen ```anzahlTypA``` und ```anzahlTypB``` in der nächsten Zelle. Geben Sie die Wahrscheinlichkeit ein Feuer zu erkennen in der Variable ```wahrscheinlichkeitFeuer``` an.\n",
    "\n",
    "*Hinweis:*\n",
    "\n",
    "Vernachlässigen Sie alle Folgekosten."
   ]
  },
  {
   "cell_type": "code",
   "execution_count": 4,
   "metadata": {
    "deletable": false,
    "nbgrader": {
     "cell_type": "code",
     "checksum": "498c64992c306b28a6df3bfced5410eb",
     "grade": false,
     "grade_id": "Rauchmelder_A",
     "locked": false,
     "schema_version": 3,
     "solution": true,
     "task": false
    }
   },
   "outputs": [],
   "source": [
    "#anzahlTypA = 2 # 50\r\n",
    "anzahlTypA = 0\r\n",
    "anzahlTypB = 7 # 31,5€ = 99.21875\r\n",
    "#1 + 3 = 38,5€ = 99.375\r\n",
    "wahrscheinlichkeitFeuer = 1 - (0.5 ** 7)\r\n"
   ]
  },
  {
   "cell_type": "code",
   "execution_count": null,
   "metadata": {
    "deletable": false,
    "editable": false,
    "nbgrader": {
     "cell_type": "code",
     "checksum": "fc6edd2c6251b1325fc5d6afdd1c4694",
     "grade": true,
     "grade_id": "test_Rauchmelder_A0",
     "locked": true,
     "points": 14,
     "schema_version": 3,
     "solution": false,
     "task": false
    }
   },
   "outputs": [],
   "source": []
  },
  {
   "cell_type": "markdown",
   "metadata": {
    "deletable": false,
    "editable": false,
    "nbgrader": {
     "cell_type": "markdown",
     "checksum": "54879a2ca3cd53c24c2b10c2d5597e82",
     "grade": false,
     "grade_id": "Bayesian_Networks_Konzertkarten_ABayesian_Networks_Konzertkarten_BBayesian_Networks_Konzertkarten_C_Header",
     "locked": true,
     "schema_version": 3,
     "solution": false,
     "task": false
    }
   },
   "source": [
    "### Konzertkarten [26 Punkte]\n",
    "\n",
    "Ihre Lieblingsband kommt in die Stadt und Sie wollen unbedingt eine Karte kaufen.\n",
    "\n",
    "Zum Erwerb der Karten haben Sie folgenden Möglichkeiten:\n",
    "\n",
    "- per Telefon\n",
    "- über das Internet\n",
    "- über einen Freund der in der Nähe eines Ticketshops wohnt\n",
    "\n",
    "Es gibt folgende Ereignisse:\n",
    "\n",
    "- $T \\rightarrow$ Telefon funktioniert\n",
    "- $KT \\rightarrow$ Es sind noch Karten über das Telefon verfügbar\n",
    "- $I \\rightarrow$ Ihr Internet funktioniert\n",
    "- $KI \\rightarrow$ Es sind noch Karten über das Internet verfügbar\n",
    "- $F \\rightarrow$ Ihr Freund verschläft nicht\n",
    "- $KF \\rightarrow$ Es sind noch Karten über den Ticketshop verfügbar\n",
    "\n",
    "Es gelten folgende Wahrscheinlichkeiten:\n",
    "\n",
    "<style type=\"text/css\">\n",
    ".tg  {border-collapse:collapse;border-spacing:0;}\n",
    ".tg td{font-family:Arial, sans-serif;font-size:14px;padding:10px 5px;border-style:solid;border-width:1px;overflow:hidden;word-break:normal;border-color:black;}\n",
    ".tg th{font-family:Arial, sans-serif;font-size:14px;font-weight:normal;padding:10px 5px;border-style:solid;border-width:1px;overflow:hidden;word-break:normal;border-color:black;}\n",
    ".tg .tg-lboi{border-color:inherit;text-align:left;vertical-align:middle}\n",
    ".tg .tg-0pky{border-color:inherit;text-align:left;vertical-align:top}\n",
    "</style>\n",
    "<table class=\"tg\">\n",
    "  <tr>\n",
    "    <th class=\"tg-lboi\">P(T)</th>\n",
    "    <th class=\"tg-lboi\">P(KT)</th>\n",
    "    <th class=\"tg-0pky\">P(I)</th>\n",
    "    <th class=\"tg-0pky\">P(KI)</th>\n",
    "    <th class=\"tg-0pky\">P(F)</th>\n",
    "    <th class=\"tg-0pky\">P(KF)<br></th>\n",
    "  </tr>\n",
    "  <tr>\n",
    "    <td class=\"tg-lboi\">0.95</td>\n",
    "    <td class=\"tg-lboi\">0.75</td>\n",
    "    <td class=\"tg-0pky\">0.9</td>\n",
    "    <td class=\"tg-0pky\">0.85</td>\n",
    "    <td class=\"tg-0pky\">0.6</td>\n",
    "    <td class=\"tg-0pky\">0.95</td>\n",
    "  </tr>\n",
    "</table>\n",
    "\n",
    "Der Weg an Karten zu kommen ist in der folgenden Abbildung schematisch dargestellt\n",
    "![konzertkarten.png](Hausaufgabe02_files/img/konzertkarten.png)"
   ]
  },
  {
   "cell_type": "markdown",
   "metadata": {
    "deletable": false,
    "editable": false,
    "nbgrader": {
     "cell_type": "markdown",
     "checksum": "cda0ab6c7b41f554eb6c6d6dfa20787b",
     "grade": false,
     "grade_id": "Bayesian_Networks_Konzertkarten_A_Description0",
     "locked": true,
     "schema_version": 3,
     "solution": false,
     "task": false
    }
   },
   "source": [
    "### Konzertkarten a) [8 Punkte]\n",
    "\n",
    "Wenn Sie alle drei Möglichkeiten probieren um Karten zu bekommen, wie hoch ist die Wahrscheinlichkeit dafür das mindestens eine Möglichkeit funktioniert?"
   ]
  },
  {
   "cell_type": "code",
   "execution_count": 5,
   "metadata": {
    "deletable": false,
    "nbgrader": {
     "cell_type": "code",
     "checksum": "8c04f9467333b3467fd3c4d40c40a4ab",
     "grade": false,
     "grade_id": "Bayesian_Networks_Konzertkarten_A",
     "locked": false,
     "schema_version": 3,
     "solution": true,
     "task": false
    }
   },
   "outputs": [
    {
     "data": {
      "text/plain": "0.9709481249999999"
     },
     "execution_count": 5,
     "metadata": {},
     "output_type": "execute_result"
    }
   ],
   "source": [
    "T = 0.95\r\n",
    "KT = 0.75\r\n",
    "I = 0.9\r\n",
    "KI = 0.85\r\n",
    "F = 0.6\r\n",
    "KF = 0.95\r\n",
    "\r\n",
    "nixT =  (1 - T) + (T * (1- KT))\r\n",
    "nixI =  (1 - I) + (I * (1- KI))\r\n",
    "nixF =  (1 - F) + (F * (1- KF))\r\n",
    "\r\n",
    "\r\n",
    "P_mindestens_eine_Karte = 1 - (nixT * nixI * nixF)"
   ]
  },
  {
   "cell_type": "code",
   "execution_count": null,
   "metadata": {
    "deletable": false,
    "editable": false,
    "nbgrader": {
     "cell_type": "code",
     "checksum": "f0a901c38566b545e35bf7cdbe844498",
     "grade": true,
     "grade_id": "test_Bayesian_Networks_Konzertkarten_A0",
     "locked": true,
     "points": 8,
     "schema_version": 3,
     "solution": false,
     "task": false
    }
   },
   "outputs": [],
   "source": []
  },
  {
   "cell_type": "markdown",
   "metadata": {
    "deletable": false,
    "editable": false,
    "nbgrader": {
     "cell_type": "markdown",
     "checksum": "e131df21113b4ba8cdf993176fcd3335",
     "grade": false,
     "grade_id": "Bayesian_Networks_Konzertkarten_B_Description0",
     "locked": true,
     "schema_version": 3,
     "solution": false,
     "task": false
    }
   },
   "source": [
    "### Konzertkarten b) [8 Punkte]\n",
    "\n",
    "Wie hoch ist die Wahrscheinlichkeit dafür das Sie Karten über das Internet **und** das Telefon erhalten aber nicht über Ihren Freund?"
   ]
  },
  {
   "cell_type": "code",
   "execution_count": 6,
   "metadata": {
    "deletable": false,
    "nbgrader": {
     "cell_type": "code",
     "checksum": "7b65124e955b739c936537ac7f10c506",
     "grade": false,
     "grade_id": "Bayesian_Networks_Konzertkarten_B",
     "locked": false,
     "schema_version": 3,
     "solution": true,
     "task": false
    }
   },
   "outputs": [],
   "source": [
    "T = 0.95\r\n",
    "KT = 0.75\r\n",
    "I = 0.9\r\n",
    "KI = 0.85\r\n",
    "F = 0.6\r\n",
    "KF = 0.95\r\n",
    "\r\n",
    "nixT =  (1 - T) + (T * (1- KT))\r\n",
    "nixI =  (1 - I) + (I * (1- KI))\r\n",
    "nixF =  (1 - F) + (F * (1- KF))\r\n",
    "\r\n",
    "\r\n",
    "P_Telefon_und_Internet = T * KT * I * KI * nixF\r\n",
    "\r\n"
   ]
  },
  {
   "cell_type": "code",
   "execution_count": null,
   "metadata": {
    "deletable": false,
    "editable": false,
    "nbgrader": {
     "cell_type": "code",
     "checksum": "d249fa1f37b4b9ab9dc751b4f39d6cfd",
     "grade": true,
     "grade_id": "test_Bayesian_Networks_Konzertkarten_B0",
     "locked": true,
     "points": 8,
     "schema_version": 3,
     "solution": false,
     "task": false
    }
   },
   "outputs": [],
   "source": []
  },
  {
   "cell_type": "markdown",
   "metadata": {
    "deletable": false,
    "editable": false,
    "nbgrader": {
     "cell_type": "markdown",
     "checksum": "bd6abb13cfe9468f22d715513c93f128",
     "grade": false,
     "grade_id": "Bayesian_Networks_Konzertkarten_C_Description0",
     "locked": true,
     "schema_version": 3,
     "solution": false,
     "task": false
    }
   },
   "source": [
    "### Konzertkarten c) [10 Punkte]\n",
    "\n",
    "Wie hoch ist die Wahrscheinlichkeit dafür über alle drei Kanäle Karten zu erhalten?"
   ]
  },
  {
   "cell_type": "code",
   "execution_count": 7,
   "metadata": {
    "deletable": false,
    "nbgrader": {
     "cell_type": "code",
     "checksum": "1294fef131982c7237faae03cfdf3b93",
     "grade": false,
     "grade_id": "Bayesian_Networks_Konzertkarten_C",
     "locked": false,
     "schema_version": 3,
     "solution": true,
     "task": false
    }
   },
   "outputs": [
    {
     "data": {
      "text/plain": "0.3106856249999999"
     },
     "execution_count": 7,
     "metadata": {},
     "output_type": "execute_result"
    }
   ],
   "source": [
    "T = 0.95\r\n",
    "KT = 0.75\r\n",
    "I = 0.9\r\n",
    "KI = 0.85\r\n",
    "F = 0.6\r\n",
    "KF = 0.95\r\n",
    "\r\n",
    "nixT =  (1 - T) + (T * (1- KT))\r\n",
    "nixI =  (1 - I) + (I * (1- KI))\r\n",
    "nixF =  (1 - F) + (F * (1- KF))\r\n",
    "\r\n",
    "P_alle_drei = (1 - nixT) * (1 - nixI) * (1 - nixF)\r\n"
   ]
  },
  {
   "cell_type": "code",
   "execution_count": null,
   "metadata": {
    "deletable": false,
    "editable": false,
    "nbgrader": {
     "cell_type": "code",
     "checksum": "61e359bd9c4f9b27ec1899db22465910",
     "grade": true,
     "grade_id": "test_Bayesian_Networks_Konzertkarten_C0",
     "locked": true,
     "points": 10,
     "schema_version": 3,
     "solution": false,
     "task": false
    }
   },
   "outputs": [],
   "source": []
  },
  {
   "cell_type": "markdown",
   "metadata": {
    "deletable": false,
    "editable": false,
    "nbgrader": {
     "cell_type": "markdown",
     "checksum": "9768cd687c69f32bf27f8876f63bdece",
     "grade": false,
     "grade_id": "Bayes_Wuerfelwelten_ABayes_Wuerfelwelten_BBayes_Wuerfelwelten_C_Header",
     "locked": true,
     "schema_version": 3,
     "solution": false,
     "task": false
    }
   },
   "source": [
    "\n",
    "# Bayes - Würfelwelten [50 Punkte]\n",
    "\n",
    "Sie haben einen fairen Würfel $A$ und einen unfairen Würfel $B$ und eine lange Sequenz $S$ von Beobachtungen.\n",
    "\n",
    "Wie können Sie unter der Anwendung des Satzes von Bayes herausfinden, ob die Sequenz von Würfel $A$ oder von Würfel $B$ generiert wurde?"
   ]
  },
  {
   "cell_type": "markdown",
   "metadata": {
    "deletable": false,
    "editable": false,
    "nbgrader": {
     "cell_type": "markdown",
     "checksum": "1b7e4b4254526747d05f094b588b017a",
     "grade": false,
     "grade_id": "Bayes_Wuerfelwelten_A_Description0",
     "locked": true,
     "schema_version": 3,
     "solution": false,
     "task": false
    }
   },
   "source": [
    "### Bayes - Würfelwelten a) [10 Punkte]\n",
    "#### Würfel und Würfelresultate\n",
    "\n",
    "Gegeben seien folgende Würfel:\n",
    "\n",
    "Würfel A:\n",
    "\n",
    "$P_A(\\{w_i\\}) = \\frac{1}{6}, \\forall i \\in \\{1, 2, 3, 4, 5, 6\\}$\n",
    "\n",
    "Würfel B:\n",
    "\n",
    "$P_B(\\{w_i\\}) = \\frac{1}{6} + \\frac{1}{12}, \\forall i \\in \\{2, 4, 6\\}$\n",
    "\n",
    "$P_B(\\{w_i\\}) = \\frac{1}{6} - \\frac{1}{12}, \\forall i \\in \\{1, 3, 5\\}$\n",
    "\n",
    "Vervollständigen Sie die Funktionen ```fairerWuerfel``` und ```unfairerWuerfel```."
   ]
  },
  {
   "cell_type": "code",
   "execution_count": 8,
   "metadata": {
    "deletable": false,
    "nbgrader": {
     "cell_type": "code",
     "checksum": "95a17cb1c1c2fa7f39e4358a3d025ecf",
     "grade": false,
     "grade_id": "Bayes_Wuerfelwelten_A",
     "locked": false,
     "schema_version": 3,
     "solution": true,
     "task": false
    }
   },
   "outputs": [],
   "source": [
    "\r\n",
    "def fairerWuerfel(wuerfe: int) -> [int]:\r\n",
    "    '''\r\n",
    "    Werfe den fairen Würfel A mehrmals\r\n",
    "    \r\n",
    "    Args:\r\n",
    "        wuerfe     -- Anzahl der Würfe\r\n",
    "    Returns:\r\n",
    "        ergebnisse -- Liste mit Würfelergebnissen\r\n",
    "    '''\r\n",
    "    # YOUR CODE HERE\r\n",
    "    # return [ np.random.randint(1,7, size=wuerfe)]\r\n",
    "    return list(np.random.randint(1,7, size=wuerfe))\r\n",
    "\r\n",
    "    \r\n",
    "def unfairerWuerfel(wuerfe: int) -> [int]:\r\n",
    "    '''\r\n",
    "    Werfe den unfairen Würfel B mehrmals\r\n",
    "    \r\n",
    "    Args:\r\n",
    "        wuerfe     -- Anzahl der Würfe\r\n",
    "    Returns:\r\n",
    "        ergebnisse -- Liste mit Würfelergebnissen\r\n",
    "    '''\r\n",
    "    # YOUR CODE HERE\r\n",
    "\r\n",
    "    P_G = 1/6 + 1/12\r\n",
    "    P_U = 1/6 - 1/12\r\n",
    "\r\n",
    "    r = np.random.choice( range(1,7), wuerfe, p=[P_U,P_G,P_U,P_G,P_U,P_G])\r\n",
    "    return list(r)\r\n"
   ]
  },
  {
   "cell_type": "code",
   "execution_count": null,
   "metadata": {
    "deletable": false,
    "editable": false,
    "nbgrader": {
     "cell_type": "code",
     "checksum": "9bfeca86ab6146c332c541d20b6f3c96",
     "grade": true,
     "grade_id": "test_Bayes_Wuerfelwelten_A0",
     "locked": true,
     "points": 10,
     "schema_version": 3,
     "solution": false,
     "task": false
    }
   },
   "outputs": [],
   "source": []
  },
  {
   "cell_type": "markdown",
   "metadata": {
    "deletable": false,
    "editable": false,
    "nbgrader": {
     "cell_type": "markdown",
     "checksum": "02a378c03eb07ebcc3ccc09cf7c211a4",
     "grade": false,
     "grade_id": "Bayes_Wuerfelwelten_B_Description0",
     "locked": true,
     "schema_version": 3,
     "solution": false,
     "task": false
    }
   },
   "source": [
    "### Bayes - Würfelwelten b) [25 Punkte]\n",
    "#### Testen auf $A$ oder $B$ mit dem Satz von Bayes\n",
    "\n",
    "Implementieren Sie die Funktion ```bayesSchritt``` (siehe Folie \"Ansammlung von Wissen\"), die für einen Würfelwurf, die Wahrscheinlichkeitsverteilungen der beiden Würfel und die vorige Wahrscheinlichkeit für Würfel $A$ bzw $B$ die neuen Wahrscheinlichkeiten für Würfel $A$ und $B$ berechnet.\n",
    "\n",
    "*Beispiel:*\n",
    "\n",
    "```\n",
    "'''\n",
    "Berechne einen Bayes Schritt mit dem aktuellen Würfelwurf\n",
    "wurf=3, einem fairen Würfel A und einem Würfel B bei dem \n",
    "die Seite 6 fünf Mal so häufig ist wie die anderen Seiten.\n",
    "Nehme als Vorwissen an, dass beide Würfel bisher gleich-\n",
    "wahrscheinlich sind.\n",
    "'''\n",
    "posterior = bayesSchritt(\n",
    "    wurf=3, \n",
    "    wahrscheinlichkeitenA=[1/6, 1/6, 1/6, 1/6, 1/6, 1/6], \n",
    "    wahrscheinlichkeitenB=[0.1, 0.1, 0.1, 0.1, 0.1, 0.5],\n",
    "    prior=(0.5, 0.5)\n",
    ")\n",
    "\n",
    "# Gibt (0.625, 0.375) aus\n",
    "print(posterior)\n",
    "```"
   ]
  },
  {
   "cell_type": "code",
   "execution_count": 9,
   "metadata": {
    "deletable": false,
    "nbgrader": {
     "cell_type": "code",
     "checksum": "b82641d3c7b60ce0e72a87ceb7b39b07",
     "grade": false,
     "grade_id": "Bayes_Wuerfelwelten_B",
     "locked": false,
     "schema_version": 3,
     "solution": true,
     "task": false
    }
   },
   "outputs": [],
   "source": [
    "def bayesSchritt(\r\n",
    "        wurf: int, \r\n",
    "        wahrscheinlichkeitenA: [float],\r\n",
    "        wahrscheinlichkeitenB: [float],\r\n",
    "        prior: (float, float)\r\n",
    "    ) -> (float, float):\r\n",
    "    '''\r\n",
    "    Berechne die Wahrscheinlichkeit dafür, dass ein Wurf aus der Sequenz\r\n",
    "    von Würfel A oder Würfel B kommt\r\n",
    "    \r\n",
    "    Args:\r\n",
    "        wurf                  -- der aktuelle Wert des Würfels in der Sequenz\r\n",
    "        wahrscheinlichkeitenA -- die Wahrscheinlichkeiten für die Seiten des Würfels A\r\n",
    "        wahrscheinlichkeitenB -- die Wahrscheinlichkeiten für die Seiten des Würfels A\r\n",
    "        prior                 -- die vorige Wahrscheinlichkeit für Würfel A und Würfel B \r\n",
    "                                 als Tupel: (pA, pB)\r\n",
    "    Returns:\r\n",
    "        posterior             -- die Wahrscheinlichkeit für Würfel A und Würfel B\r\n",
    "                                 als Tupel nach Beobachtung des aktuellen Wurfs: (pA, pB)\r\n",
    "    '''\r\n",
    "    # YOUR CODE HERE\r\n",
    "\r\n",
    "    P_wurf_A__P_A = wahrscheinlichkeitenA[wurf - 1 ] * prior[0]\r\n",
    "    P_wurf_B__P_B = wahrscheinlichkeitenB[wurf - 1 ] * prior[1]\r\n",
    "\r\n",
    "    Pos_a = P_wurf_A__P_A / (P_wurf_A__P_A + P_wurf_B__P_B)\r\n",
    "    Pos_b = P_wurf_B__P_B / (P_wurf_A__P_A + P_wurf_B__P_B)\r\n",
    "\r\n",
    "    return (Pos_a, Pos_b)\r\n",
    "    \r\n",
    "\r\n",
    "#bayesSchritt(\r\n",
    "#    wurf=3, \r\n",
    "#    wahrscheinlichkeitenA=[1/6, 1/6, 1/6, 1/6, 1/6, 1/6], \r\n",
    "#    wahrscheinlichkeitenB=[0.1, 0.1, 0.1, 0.1, 0.1, 0.5],\r\n",
    "#    prior=(0.5, 0.5)\r\n",
    "#)"
   ]
  },
  {
   "cell_type": "code",
   "execution_count": null,
   "metadata": {
    "deletable": false,
    "editable": false,
    "nbgrader": {
     "cell_type": "code",
     "checksum": "e51a6324156fa5d333a3226e89e71ba8",
     "grade": true,
     "grade_id": "test_Bayes_Wuerfelwelten_B0",
     "locked": true,
     "points": 25,
     "schema_version": 3,
     "solution": false,
     "task": false
    }
   },
   "outputs": [],
   "source": []
  },
  {
   "cell_type": "markdown",
   "metadata": {
    "deletable": false,
    "editable": false,
    "nbgrader": {
     "cell_type": "markdown",
     "checksum": "c95bab99cb06f581c64e3054c5de0541",
     "grade": false,
     "grade_id": "Bayes_Wuerfelwelten_C_Description0",
     "locked": true,
     "schema_version": 3,
     "solution": false,
     "task": false
    }
   },
   "source": [
    "### Bayes - Würfelwelten c) [15 Punkte]\n",
    "#### Visualisierung\n",
    "\n",
    "Gegeben sei folgende Sequenz von Würfelwürfen des fairen Würfels:\n",
    "\n",
    "$S_{\\mathrm{unfair}} = [1, 1, \\dots, 2, 2, \\dots, 3, 3, \\dots, 4, 4, \\dots, 5, 5, \\dots, 6, 6 ]$ \n",
    "\n",
    "Die Sequenz besteht aus der Folge $10$ mal eine $1$, $10$ mal eine $2$, $10$ mal eine $3$, $10$ mal eine $4$, $10$ mal eine $5$ und $10$ mal eine $6$.\n",
    "\n",
    "Iterieren Sie diese Sequenz mit der Funktion ```bayesSchritt``` aus Teilaufgabe b) für die Würfel $A$ und $B$ und bestimmen Sie die Wahrscheinlichkeit dafür, dass $A$ oder $B$ vorliegt.\n",
    "\n",
    "Plotten Sie das Ergebnis nach jedem Wurf für Würfel $A$ und $B$ in einem Plot. Der Plot soll zwei Kurven enthalten, jeweils eine für die Wahrscheinlichkeit dafür, dass die bisherige Sequenz durch Würfel $A$ erzeugt wurde und eine für die Wahrscheinlichkeit dafür, dass die bisherige Sequenz durch Würfel $B$ erzeugt wurde."
   ]
  },
  {
   "cell_type": "code",
   "execution_count": 10,
   "metadata": {
    "deletable": false,
    "nbgrader": {
     "cell_type": "code",
     "checksum": "e5f8be752013d945aaa73ae180ee9500",
     "grade": true,
     "grade_id": "Bayes_Wuerfelwelten_C",
     "locked": false,
     "points": 15,
     "schema_version": 3,
     "solution": true,
     "task": false
    }
   },
   "outputs": [
    {
     "data": {
      "image/png": "[encoded data removed]",
      "image/svg+xml": "<?xml version=\"1.0\" encoding=\"utf-8\" standalone=\"no\"?>\r\n<!DOCTYPE svg PUBLIC \"-//W3C//DTD SVG 1.1//EN\"\r\n  \"http://www.w3.org/Graphics/SVG/1.1/DTD/svg11.dtd\">\r\n<!-- Created with matplotlib (https://matplotlib.org/) -->\r\n<svg height=\"277.314375pt\" version=\"1.1\" viewBox=\"0 0 385.78125 277.314375\" width=\"385.78125pt\" xmlns=\"http://www.w3.org/2000/svg\" xmlns:xlink=\"http://www.w3.org/1999/xlink\">\r\n <defs>\r\n  <style type=\"text/css\">\r\n*{stroke-linecap:butt;stroke-linejoin:round;}\r\n  </style>\r\n </defs>\r\n <g id=\"figure_1\">\r\n  <g id=\"patch_1\">\r\n   <path d=\"M 0 277.314375 \r\nL 385.78125 277.314375 \r\nL 385.78125 0 \r\nL 0 0 \r\nz\r\n\" style=\"fill:none;\"/>\r\n  </g>\r\n  <g id=\"axes_1\">\r\n   <g id=\"patch_2\">\r\n    <path d=\"M 43.78125 239.758125 \r\nL 378.58125 239.758125 \r\nL 378.58125 22.318125 \r\nL 43.78125 22.318125 \r\nz\r\n\" style=\"fill:#ffffff;\"/>\r\n   </g>\r\n   <g id=\"matplotlib.axis_1\">\r\n    <g id=\"xtick_1\">\r\n     <g id=\"line2d_1\">\r\n      <path clip-path=\"url(#pe0f5a965f1)\" d=\"M 58.999432 239.758125 \r\nL 58.999432 22.318125 \r\n\" style=\"fill:none;stroke:#b0b0b0;stroke-linecap:square;stroke-width:0.8;\"/>\r\n     </g>\r\n     <g id=\"line2d_2\">\r\n      <defs>\r\n       <path d=\"M 0 0 \r\nL 0 3.5 \r\n\" id=\"m37e1424749\" style=\"stroke:#000000;stroke-width:0.8;\"/>\r\n      </defs>\r\n      <g>\r\n       <use style=\"stroke:#000000;stroke-width:0.8;\" x=\"58.999432\" xlink:href=\"#m37e1424749\" y=\"239.758125\"/>\r\n      </g>\r\n     </g>\r\n     <g id=\"text_1\">\r\n      <!-- 0 -->\r\n      <defs>\r\n       <path d=\"M 31.78125 66.40625 \r\nQ 24.171875 66.40625 20.328125 58.90625 \r\nQ 16.5 51.421875 16.5 36.375 \r\nQ 16.5 21.390625 20.328125 13.890625 \r\nQ 24.171875 6.390625 31.78125 6.390625 \r\nQ 39.453125 6.390625 43.28125 13.890625 \r\nQ 47.125 21.390625 47.125 36.375 \r\nQ 47.125 51.421875 43.28125 58.90625 \r\nQ 39.453125 66.40625 31.78125 66.40625 \r\nz\r\nM 31.78125 74.21875 \r\nQ 44.046875 74.21875 50.515625 64.515625 \r\nQ 56.984375 54.828125 56.984375 36.375 \r\nQ 56.984375 17.96875 50.515625 8.265625 \r\nQ 44.046875 -1.421875 31.78125 -1.421875 \r\nQ 19.53125 -1.421875 13.0625 8.265625 \r\nQ 6.59375 17.96875 6.59375 36.375 \r\nQ 6.59375 54.828125 13.0625 64.515625 \r\nQ 19.53125 74.21875 31.78125 74.21875 \r\nz\r\n\" id=\"DejaVuSans-48\"/>\r\n      </defs>\r\n      <g transform=\"translate(55.818182 254.356562)scale(0.1 -0.1)\">\r\n       <use xlink:href=\"#DejaVuSans-48\"/>\r\n      </g>\r\n     </g>\r\n    </g>\r\n    <g id=\"xtick_2\">\r\n     <g id=\"line2d_3\">\r\n      <path clip-path=\"url(#pe0f5a965f1)\" d=\"M 109.726705 239.758125 \r\nL 109.726705 22.318125 \r\n\" style=\"fill:none;stroke:#b0b0b0;stroke-linecap:square;stroke-width:0.8;\"/>\r\n     </g>\r\n     <g id=\"line2d_4\">\r\n      <g>\r\n       <use style=\"stroke:#000000;stroke-width:0.8;\" x=\"109.726705\" xlink:href=\"#m37e1424749\" y=\"239.758125\"/>\r\n      </g>\r\n     </g>\r\n     <g id=\"text_2\">\r\n      <!-- 10 -->\r\n      <defs>\r\n       <path d=\"M 12.40625 8.296875 \r\nL 28.515625 8.296875 \r\nL 28.515625 63.921875 \r\nL 10.984375 60.40625 \r\nL 10.984375 69.390625 \r\nL 28.421875 72.90625 \r\nL 38.28125 72.90625 \r\nL 38.28125 8.296875 \r\nL 54.390625 8.296875 \r\nL 54.390625 0 \r\nL 12.40625 0 \r\nz\r\n\" id=\"DejaVuSans-49\"/>\r\n      </defs>\r\n      <g transform=\"translate(103.364205 254.356562)scale(0.1 -0.1)\">\r\n       <use xlink:href=\"#DejaVuSans-49\"/>\r\n       <use x=\"63.623047\" xlink:href=\"#DejaVuSans-48\"/>\r\n      </g>\r\n     </g>\r\n    </g>\r\n    <g id=\"xtick_3\">\r\n     <g id=\"line2d_5\">\r\n      <path clip-path=\"url(#pe0f5a965f1)\" d=\"M 160.453977 239.758125 \r\nL 160.453977 22.318125 \r\n\" style=\"fill:none;stroke:#b0b0b0;stroke-linecap:square;stroke-width:0.8;\"/>\r\n     </g>\r\n     <g id=\"line2d_6\">\r\n      <g>\r\n       <use style=\"stroke:#000000;stroke-width:0.8;\" x=\"160.453977\" xlink:href=\"#m37e1424749\" y=\"239.758125\"/>\r\n      </g>\r\n     </g>\r\n     <g id=\"text_3\">\r\n      <!-- 20 -->\r\n      <defs>\r\n       <path d=\"M 19.1875 8.296875 \r\nL 53.609375 8.296875 \r\nL 53.609375 0 \r\nL 7.328125 0 \r\nL 7.328125 8.296875 \r\nQ 12.9375 14.109375 22.625 23.890625 \r\nQ 32.328125 33.6875 34.8125 36.53125 \r\nQ 39.546875 41.84375 41.421875 45.53125 \r\nQ 43.3125 49.21875 43.3125 52.78125 \r\nQ 43.3125 58.59375 39.234375 62.25 \r\nQ 35.15625 65.921875 28.609375 65.921875 \r\nQ 23.96875 65.921875 18.8125 64.3125 \r\nQ 13.671875 62.703125 7.8125 59.421875 \r\nL 7.8125 69.390625 \r\nQ 13.765625 71.78125 18.9375 73 \r\nQ 24.125 74.21875 28.421875 74.21875 \r\nQ 39.75 74.21875 46.484375 68.546875 \r\nQ 53.21875 62.890625 53.21875 53.421875 \r\nQ 53.21875 48.921875 51.53125 44.890625 \r\nQ 49.859375 40.875 45.40625 35.40625 \r\nQ 44.1875 33.984375 37.640625 27.21875 \r\nQ 31.109375 20.453125 19.1875 8.296875 \r\nz\r\n\" id=\"DejaVuSans-50\"/>\r\n      </defs>\r\n      <g transform=\"translate(154.091477 254.356562)scale(0.1 -0.1)\">\r\n       <use xlink:href=\"#DejaVuSans-50\"/>\r\n       <use x=\"63.623047\" xlink:href=\"#DejaVuSans-48\"/>\r\n      </g>\r\n     </g>\r\n    </g>\r\n    <g id=\"xtick_4\">\r\n     <g id=\"line2d_7\">\r\n      <path clip-path=\"url(#pe0f5a965f1)\" d=\"M 211.18125 239.758125 \r\nL 211.18125 22.318125 \r\n\" style=\"fill:none;stroke:#b0b0b0;stroke-linecap:square;stroke-width:0.8;\"/>\r\n     </g>\r\n     <g id=\"line2d_8\">\r\n      <g>\r\n       <use style=\"stroke:#000000;stroke-width:0.8;\" x=\"211.18125\" xlink:href=\"#m37e1424749\" y=\"239.758125\"/>\r\n      </g>\r\n     </g>\r\n     <g id=\"text_4\">\r\n      <!-- 30 -->\r\n      <defs>\r\n       <path d=\"M 40.578125 39.3125 \r\nQ 47.65625 37.796875 51.625 33 \r\nQ 55.609375 28.21875 55.609375 21.1875 \r\nQ 55.609375 10.40625 48.1875 4.484375 \r\nQ 40.765625 -1.421875 27.09375 -1.421875 \r\nQ 22.515625 -1.421875 17.65625 -0.515625 \r\nQ 12.796875 0.390625 7.625 2.203125 \r\nL 7.625 11.71875 \r\nQ 11.71875 9.328125 16.59375 8.109375 \r\nQ 21.484375 6.890625 26.8125 6.890625 \r\nQ 36.078125 6.890625 40.9375 10.546875 \r\nQ 45.796875 14.203125 45.796875 21.1875 \r\nQ 45.796875 27.640625 41.28125 31.265625 \r\nQ 36.765625 34.90625 28.71875 34.90625 \r\nL 20.21875 34.90625 \r\nL 20.21875 43.015625 \r\nL 29.109375 43.015625 \r\nQ 36.375 43.015625 40.234375 45.921875 \r\nQ 44.09375 48.828125 44.09375 54.296875 \r\nQ 44.09375 59.90625 40.109375 62.90625 \r\nQ 36.140625 65.921875 28.71875 65.921875 \r\nQ 24.65625 65.921875 20.015625 65.03125 \r\nQ 15.375 64.15625 9.8125 62.3125 \r\nL 9.8125 71.09375 \r\nQ 15.4375 72.65625 20.34375 73.4375 \r\nQ 25.25 74.21875 29.59375 74.21875 \r\nQ 40.828125 74.21875 47.359375 69.109375 \r\nQ 53.90625 64.015625 53.90625 55.328125 \r\nQ 53.90625 49.265625 50.4375 45.09375 \r\nQ 46.96875 40.921875 40.578125 39.3125 \r\nz\r\n\" id=\"DejaVuSans-51\"/>\r\n      </defs>\r\n      <g transform=\"translate(204.81875 254.356562)scale(0.1 -0.1)\">\r\n       <use xlink:href=\"#DejaVuSans-51\"/>\r\n       <use x=\"63.623047\" xlink:href=\"#DejaVuSans-48\"/>\r\n      </g>\r\n     </g>\r\n    </g>\r\n    <g id=\"xtick_5\">\r\n     <g id=\"line2d_9\">\r\n      <path clip-path=\"url(#pe0f5a965f1)\" d=\"M 261.908523 239.758125 \r\nL 261.908523 22.318125 \r\n\" style=\"fill:none;stroke:#b0b0b0;stroke-linecap:square;stroke-width:0.8;\"/>\r\n     </g>\r\n     <g id=\"line2d_10\">\r\n      <g>\r\n       <use style=\"stroke:#000000;stroke-width:0.8;\" x=\"261.908523\" xlink:href=\"#m37e1424749\" y=\"239.758125\"/>\r\n      </g>\r\n     </g>\r\n     <g id=\"text_5\">\r\n      <!-- 40 -->\r\n      <defs>\r\n       <path d=\"M 37.796875 64.3125 \r\nL 12.890625 25.390625 \r\nL 37.796875 25.390625 \r\nz\r\nM 35.203125 72.90625 \r\nL 47.609375 72.90625 \r\nL 47.609375 25.390625 \r\nL 58.015625 25.390625 \r\nL 58.015625 17.1875 \r\nL 47.609375 17.1875 \r\nL 47.609375 0 \r\nL 37.796875 0 \r\nL 37.796875 17.1875 \r\nL 4.890625 17.1875 \r\nL 4.890625 26.703125 \r\nz\r\n\" id=\"DejaVuSans-52\"/>\r\n      </defs>\r\n      <g transform=\"translate(255.546023 254.356562)scale(0.1 -0.1)\">\r\n       <use xlink:href=\"#DejaVuSans-52\"/>\r\n       <use x=\"63.623047\" xlink:href=\"#DejaVuSans-48\"/>\r\n      </g>\r\n     </g>\r\n    </g>\r\n    <g id=\"xtick_6\">\r\n     <g id=\"line2d_11\">\r\n      <path clip-path=\"url(#pe0f5a965f1)\" d=\"M 312.635795 239.758125 \r\nL 312.635795 22.318125 \r\n\" style=\"fill:none;stroke:#b0b0b0;stroke-linecap:square;stroke-width:0.8;\"/>\r\n     </g>\r\n     <g id=\"line2d_12\">\r\n      <g>\r\n       <use style=\"stroke:#000000;stroke-width:0.8;\" x=\"312.635795\" xlink:href=\"#m37e1424749\" y=\"239.758125\"/>\r\n      </g>\r\n     </g>\r\n     <g id=\"text_6\">\r\n      <!-- 50 -->\r\n      <defs>\r\n       <path d=\"M 10.796875 72.90625 \r\nL 49.515625 72.90625 \r\nL 49.515625 64.59375 \r\nL 19.828125 64.59375 \r\nL 19.828125 46.734375 \r\nQ 21.96875 47.46875 24.109375 47.828125 \r\nQ 26.265625 48.1875 28.421875 48.1875 \r\nQ 40.625 48.1875 47.75 41.5 \r\nQ 54.890625 34.8125 54.890625 23.390625 \r\nQ 54.890625 11.625 47.5625 5.09375 \r\nQ 40.234375 -1.421875 26.90625 -1.421875 \r\nQ 22.3125 -1.421875 17.546875 -0.640625 \r\nQ 12.796875 0.140625 7.71875 1.703125 \r\nL 7.71875 11.625 \r\nQ 12.109375 9.234375 16.796875 8.0625 \r\nQ 21.484375 6.890625 26.703125 6.890625 \r\nQ 35.15625 6.890625 40.078125 11.328125 \r\nQ 45.015625 15.765625 45.015625 23.390625 \r\nQ 45.015625 31 40.078125 35.4375 \r\nQ 35.15625 39.890625 26.703125 39.890625 \r\nQ 22.75 39.890625 18.8125 39.015625 \r\nQ 14.890625 38.140625 10.796875 36.28125 \r\nz\r\n\" id=\"DejaVuSans-53\"/>\r\n      </defs>\r\n      <g transform=\"translate(306.273295 254.356562)scale(0.1 -0.1)\">\r\n       <use xlink:href=\"#DejaVuSans-53\"/>\r\n       <use x=\"63.623047\" xlink:href=\"#DejaVuSans-48\"/>\r\n      </g>\r\n     </g>\r\n    </g>\r\n    <g id=\"xtick_7\">\r\n     <g id=\"line2d_13\">\r\n      <path clip-path=\"url(#pe0f5a965f1)\" d=\"M 363.363068 239.758125 \r\nL 363.363068 22.318125 \r\n\" style=\"fill:none;stroke:#b0b0b0;stroke-linecap:square;stroke-width:0.8;\"/>\r\n     </g>\r\n     <g id=\"line2d_14\">\r\n      <g>\r\n       <use style=\"stroke:#000000;stroke-width:0.8;\" x=\"363.363068\" xlink:href=\"#m37e1424749\" y=\"239.758125\"/>\r\n      </g>\r\n     </g>\r\n     <g id=\"text_7\">\r\n      <!-- 60 -->\r\n      <defs>\r\n       <path d=\"M 33.015625 40.375 \r\nQ 26.375 40.375 22.484375 35.828125 \r\nQ 18.609375 31.296875 18.609375 23.390625 \r\nQ 18.609375 15.53125 22.484375 10.953125 \r\nQ 26.375 6.390625 33.015625 6.390625 \r\nQ 39.65625 6.390625 43.53125 10.953125 \r\nQ 47.40625 15.53125 47.40625 23.390625 \r\nQ 47.40625 31.296875 43.53125 35.828125 \r\nQ 39.65625 40.375 33.015625 40.375 \r\nz\r\nM 52.59375 71.296875 \r\nL 52.59375 62.3125 \r\nQ 48.875 64.0625 45.09375 64.984375 \r\nQ 41.3125 65.921875 37.59375 65.921875 \r\nQ 27.828125 65.921875 22.671875 59.328125 \r\nQ 17.53125 52.734375 16.796875 39.40625 \r\nQ 19.671875 43.65625 24.015625 45.921875 \r\nQ 28.375 48.1875 33.59375 48.1875 \r\nQ 44.578125 48.1875 50.953125 41.515625 \r\nQ 57.328125 34.859375 57.328125 23.390625 \r\nQ 57.328125 12.15625 50.6875 5.359375 \r\nQ 44.046875 -1.421875 33.015625 -1.421875 \r\nQ 20.359375 -1.421875 13.671875 8.265625 \r\nQ 6.984375 17.96875 6.984375 36.375 \r\nQ 6.984375 53.65625 15.1875 63.9375 \r\nQ 23.390625 74.21875 37.203125 74.21875 \r\nQ 40.921875 74.21875 44.703125 73.484375 \r\nQ 48.484375 72.75 52.59375 71.296875 \r\nz\r\n\" id=\"DejaVuSans-54\"/>\r\n      </defs>\r\n      <g transform=\"translate(357.000568 254.356562)scale(0.1 -0.1)\">\r\n       <use xlink:href=\"#DejaVuSans-54\"/>\r\n       <use x=\"63.623047\" xlink:href=\"#DejaVuSans-48\"/>\r\n      </g>\r\n     </g>\r\n    </g>\r\n    <g id=\"text_8\">\r\n     <!-- Anzahl Würfe -->\r\n     <defs>\r\n      <path d=\"M 34.1875 63.1875 \r\nL 20.796875 26.90625 \r\nL 47.609375 26.90625 \r\nz\r\nM 28.609375 72.90625 \r\nL 39.796875 72.90625 \r\nL 67.578125 0 \r\nL 57.328125 0 \r\nL 50.6875 18.703125 \r\nL 17.828125 18.703125 \r\nL 11.1875 0 \r\nL 0.78125 0 \r\nz\r\n\" id=\"DejaVuSans-65\"/>\r\n      <path d=\"M 54.890625 33.015625 \r\nL 54.890625 0 \r\nL 45.90625 0 \r\nL 45.90625 32.71875 \r\nQ 45.90625 40.484375 42.875 44.328125 \r\nQ 39.84375 48.1875 33.796875 48.1875 \r\nQ 26.515625 48.1875 22.3125 43.546875 \r\nQ 18.109375 38.921875 18.109375 30.90625 \r\nL 18.109375 0 \r\nL 9.078125 0 \r\nL 9.078125 54.6875 \r\nL 18.109375 54.6875 \r\nL 18.109375 46.1875 \r\nQ 21.34375 51.125 25.703125 53.5625 \r\nQ 30.078125 56 35.796875 56 \r\nQ 45.21875 56 50.046875 50.171875 \r\nQ 54.890625 44.34375 54.890625 33.015625 \r\nz\r\n\" id=\"DejaVuSans-110\"/>\r\n      <path d=\"M 5.515625 54.6875 \r\nL 48.1875 54.6875 \r\nL 48.1875 46.484375 \r\nL 14.40625 7.171875 \r\nL 48.1875 7.171875 \r\nL 48.1875 0 \r\nL 4.296875 0 \r\nL 4.296875 8.203125 \r\nL 38.09375 47.515625 \r\nL 5.515625 47.515625 \r\nz\r\n\" id=\"DejaVuSans-122\"/>\r\n      <path d=\"M 34.28125 27.484375 \r\nQ 23.390625 27.484375 19.1875 25 \r\nQ 14.984375 22.515625 14.984375 16.5 \r\nQ 14.984375 11.71875 18.140625 8.90625 \r\nQ 21.296875 6.109375 26.703125 6.109375 \r\nQ 34.1875 6.109375 38.703125 11.40625 \r\nQ 43.21875 16.703125 43.21875 25.484375 \r\nL 43.21875 27.484375 \r\nz\r\nM 52.203125 31.203125 \r\nL 52.203125 0 \r\nL 43.21875 0 \r\nL 43.21875 8.296875 \r\nQ 40.140625 3.328125 35.546875 0.953125 \r\nQ 30.953125 -1.421875 24.3125 -1.421875 \r\nQ 15.921875 -1.421875 10.953125 3.296875 \r\nQ 6 8.015625 6 15.921875 \r\nQ 6 25.140625 12.171875 29.828125 \r\nQ 18.359375 34.515625 30.609375 34.515625 \r\nL 43.21875 34.515625 \r\nL 43.21875 35.40625 \r\nQ 43.21875 41.609375 39.140625 45 \r\nQ 35.0625 48.390625 27.6875 48.390625 \r\nQ 23 48.390625 18.546875 47.265625 \r\nQ 14.109375 46.140625 10.015625 43.890625 \r\nL 10.015625 52.203125 \r\nQ 14.9375 54.109375 19.578125 55.046875 \r\nQ 24.21875 56 28.609375 56 \r\nQ 40.484375 56 46.34375 49.84375 \r\nQ 52.203125 43.703125 52.203125 31.203125 \r\nz\r\n\" id=\"DejaVuSans-97\"/>\r\n      <path d=\"M 54.890625 33.015625 \r\nL 54.890625 0 \r\nL 45.90625 0 \r\nL 45.90625 32.71875 \r\nQ 45.90625 40.484375 42.875 44.328125 \r\nQ 39.84375 48.1875 33.796875 48.1875 \r\nQ 26.515625 48.1875 22.3125 43.546875 \r\nQ 18.109375 38.921875 18.109375 30.90625 \r\nL 18.109375 0 \r\nL 9.078125 0 \r\nL 9.078125 75.984375 \r\nL 18.109375 75.984375 \r\nL 18.109375 46.1875 \r\nQ 21.34375 51.125 25.703125 53.5625 \r\nQ 30.078125 56 35.796875 56 \r\nQ 45.21875 56 50.046875 50.171875 \r\nQ 54.890625 44.34375 54.890625 33.015625 \r\nz\r\n\" id=\"DejaVuSans-104\"/>\r\n      <path d=\"M 9.421875 75.984375 \r\nL 18.40625 75.984375 \r\nL 18.40625 0 \r\nL 9.421875 0 \r\nz\r\n\" id=\"DejaVuSans-108\"/>\r\n      <path id=\"DejaVuSans-32\"/>\r\n      <path d=\"M 3.328125 72.90625 \r\nL 13.28125 72.90625 \r\nL 28.609375 11.28125 \r\nL 43.890625 72.90625 \r\nL 54.984375 72.90625 \r\nL 70.3125 11.28125 \r\nL 85.59375 72.90625 \r\nL 95.609375 72.90625 \r\nL 77.296875 0 \r\nL 64.890625 0 \r\nL 49.515625 63.28125 \r\nL 33.984375 0 \r\nL 21.578125 0 \r\nz\r\n\" id=\"DejaVuSans-87\"/>\r\n      <path d=\"M 8.5 21.578125 \r\nL 8.5 54.6875 \r\nL 17.484375 54.6875 \r\nL 17.484375 21.921875 \r\nQ 17.484375 14.15625 20.5 10.265625 \r\nQ 23.53125 6.390625 29.59375 6.390625 \r\nQ 36.859375 6.390625 41.078125 11.03125 \r\nQ 45.3125 15.671875 45.3125 23.6875 \r\nL 45.3125 54.6875 \r\nL 54.296875 54.6875 \r\nL 54.296875 0 \r\nL 45.3125 0 \r\nL 45.3125 8.40625 \r\nQ 42.046875 3.421875 37.71875 1 \r\nQ 33.40625 -1.421875 27.6875 -1.421875 \r\nQ 18.265625 -1.421875 13.375 4.4375 \r\nQ 8.5 10.296875 8.5 21.578125 \r\nz\r\nM 31.109375 56 \r\nz\r\nM 35.59375 75.78125 \r\nL 45.515625 75.78125 \r\nL 45.515625 65.921875 \r\nL 35.59375 65.921875 \r\nz\r\nM 16.5 75.78125 \r\nL 26.421875 75.78125 \r\nL 26.421875 65.921875 \r\nL 16.5 65.921875 \r\nz\r\n\" id=\"DejaVuSans-252\"/>\r\n      <path d=\"M 41.109375 46.296875 \r\nQ 39.59375 47.171875 37.8125 47.578125 \r\nQ 36.03125 48 33.890625 48 \r\nQ 26.265625 48 22.1875 43.046875 \r\nQ 18.109375 38.09375 18.109375 28.8125 \r\nL 18.109375 0 \r\nL 9.078125 0 \r\nL 9.078125 54.6875 \r\nL 18.109375 54.6875 \r\nL 18.109375 46.1875 \r\nQ 20.953125 51.171875 25.484375 53.578125 \r\nQ 30.03125 56 36.53125 56 \r\nQ 37.453125 56 38.578125 55.875 \r\nQ 39.703125 55.765625 41.0625 55.515625 \r\nz\r\n\" id=\"DejaVuSans-114\"/>\r\n      <path d=\"M 37.109375 75.984375 \r\nL 37.109375 68.5 \r\nL 28.515625 68.5 \r\nQ 23.6875 68.5 21.796875 66.546875 \r\nQ 19.921875 64.59375 19.921875 59.515625 \r\nL 19.921875 54.6875 \r\nL 34.71875 54.6875 \r\nL 34.71875 47.703125 \r\nL 19.921875 47.703125 \r\nL 19.921875 0 \r\nL 10.890625 0 \r\nL 10.890625 47.703125 \r\nL 2.296875 47.703125 \r\nL 2.296875 54.6875 \r\nL 10.890625 54.6875 \r\nL 10.890625 58.5 \r\nQ 10.890625 67.625 15.140625 71.796875 \r\nQ 19.390625 75.984375 28.609375 75.984375 \r\nz\r\n\" id=\"DejaVuSans-102\"/>\r\n      <path d=\"M 56.203125 29.59375 \r\nL 56.203125 25.203125 \r\nL 14.890625 25.203125 \r\nQ 15.484375 15.921875 20.484375 11.0625 \r\nQ 25.484375 6.203125 34.421875 6.203125 \r\nQ 39.59375 6.203125 44.453125 7.46875 \r\nQ 49.3125 8.734375 54.109375 11.28125 \r\nL 54.109375 2.78125 \r\nQ 49.265625 0.734375 44.1875 -0.34375 \r\nQ 39.109375 -1.421875 33.890625 -1.421875 \r\nQ 20.796875 -1.421875 13.15625 6.1875 \r\nQ 5.515625 13.8125 5.515625 26.8125 \r\nQ 5.515625 40.234375 12.765625 48.109375 \r\nQ 20.015625 56 32.328125 56 \r\nQ 43.359375 56 49.78125 48.890625 \r\nQ 56.203125 41.796875 56.203125 29.59375 \r\nz\r\nM 47.21875 32.234375 \r\nQ 47.125 39.59375 43.09375 43.984375 \r\nQ 39.0625 48.390625 32.421875 48.390625 \r\nQ 24.90625 48.390625 20.390625 44.140625 \r\nQ 15.875 39.890625 15.1875 32.171875 \r\nz\r\n\" id=\"DejaVuSans-101\"/>\r\n     </defs>\r\n     <g transform=\"translate(177.933594 268.034687)scale(0.1 -0.1)\">\r\n      <use xlink:href=\"#DejaVuSans-65\"/>\r\n      <use x=\"68.408203\" xlink:href=\"#DejaVuSans-110\"/>\r\n      <use x=\"131.787109\" xlink:href=\"#DejaVuSans-122\"/>\r\n      <use x=\"184.277344\" xlink:href=\"#DejaVuSans-97\"/>\r\n      <use x=\"245.556641\" xlink:href=\"#DejaVuSans-104\"/>\r\n      <use x=\"308.935547\" xlink:href=\"#DejaVuSans-108\"/>\r\n      <use x=\"336.71875\" xlink:href=\"#DejaVuSans-32\"/>\r\n      <use x=\"368.505859\" xlink:href=\"#DejaVuSans-87\"/>\r\n      <use x=\"463.757812\" xlink:href=\"#DejaVuSans-252\"/>\r\n      <use x=\"527.136719\" xlink:href=\"#DejaVuSans-114\"/>\r\n      <use x=\"568.25\" xlink:href=\"#DejaVuSans-102\"/>\r\n      <use x=\"603.455078\" xlink:href=\"#DejaVuSans-101\"/>\r\n     </g>\r\n    </g>\r\n   </g>\r\n   <g id=\"matplotlib.axis_2\">\r\n    <g id=\"ytick_1\">\r\n     <g id=\"line2d_15\">\r\n      <path clip-path=\"url(#pe0f5a965f1)\" d=\"M 43.78125 229.875101 \r\nL 378.58125 229.875101 \r\n\" style=\"fill:none;stroke:#b0b0b0;stroke-linecap:square;stroke-width:0.8;\"/>\r\n     </g>\r\n     <g id=\"line2d_16\">\r\n      <defs>\r\n       <path d=\"M 0 0 \r\nL -3.5 0 \r\n\" id=\"mdc997c15fe\" style=\"stroke:#000000;stroke-width:0.8;\"/>\r\n      </defs>\r\n      <g>\r\n       <use style=\"stroke:#000000;stroke-width:0.8;\" x=\"43.78125\" xlink:href=\"#mdc997c15fe\" y=\"229.875101\"/>\r\n      </g>\r\n     </g>\r\n     <g id=\"text_9\">\r\n      <!-- 0.0 -->\r\n      <defs>\r\n       <path d=\"M 10.6875 12.40625 \r\nL 21 12.40625 \r\nL 21 0 \r\nL 10.6875 0 \r\nz\r\n\" id=\"DejaVuSans-46\"/>\r\n      </defs>\r\n      <g transform=\"translate(20.878125 233.67432)scale(0.1 -0.1)\">\r\n       <use xlink:href=\"#DejaVuSans-48\"/>\r\n       <use x=\"63.623047\" xlink:href=\"#DejaVuSans-46\"/>\r\n       <use x=\"95.410156\" xlink:href=\"#DejaVuSans-48\"/>\r\n      </g>\r\n     </g>\r\n    </g>\r\n    <g id=\"ytick_2\">\r\n     <g id=\"line2d_17\">\r\n      <path clip-path=\"url(#pe0f5a965f1)\" d=\"M 43.78125 190.34031 \r\nL 378.58125 190.34031 \r\n\" style=\"fill:none;stroke:#b0b0b0;stroke-linecap:square;stroke-width:0.8;\"/>\r\n     </g>\r\n     <g id=\"line2d_18\">\r\n      <g>\r\n       <use style=\"stroke:#000000;stroke-width:0.8;\" x=\"43.78125\" xlink:href=\"#mdc997c15fe\" y=\"190.34031\"/>\r\n      </g>\r\n     </g>\r\n     <g id=\"text_10\">\r\n      <!-- 0.2 -->\r\n      <g transform=\"translate(20.878125 194.139529)scale(0.1 -0.1)\">\r\n       <use xlink:href=\"#DejaVuSans-48\"/>\r\n       <use x=\"63.623047\" xlink:href=\"#DejaVuSans-46\"/>\r\n       <use x=\"95.410156\" xlink:href=\"#DejaVuSans-50\"/>\r\n      </g>\r\n     </g>\r\n    </g>\r\n    <g id=\"ytick_3\">\r\n     <g id=\"line2d_19\">\r\n      <path clip-path=\"url(#pe0f5a965f1)\" d=\"M 43.78125 150.80552 \r\nL 378.58125 150.80552 \r\n\" style=\"fill:none;stroke:#b0b0b0;stroke-linecap:square;stroke-width:0.8;\"/>\r\n     </g>\r\n     <g id=\"line2d_20\">\r\n      <g>\r\n       <use style=\"stroke:#000000;stroke-width:0.8;\" x=\"43.78125\" xlink:href=\"#mdc997c15fe\" y=\"150.80552\"/>\r\n      </g>\r\n     </g>\r\n     <g id=\"text_11\">\r\n      <!-- 0.4 -->\r\n      <g transform=\"translate(20.878125 154.604739)scale(0.1 -0.1)\">\r\n       <use xlink:href=\"#DejaVuSans-48\"/>\r\n       <use x=\"63.623047\" xlink:href=\"#DejaVuSans-46\"/>\r\n       <use x=\"95.410156\" xlink:href=\"#DejaVuSans-52\"/>\r\n      </g>\r\n     </g>\r\n    </g>\r\n    <g id=\"ytick_4\">\r\n     <g id=\"line2d_21\">\r\n      <path clip-path=\"url(#pe0f5a965f1)\" d=\"M 43.78125 111.27073 \r\nL 378.58125 111.27073 \r\n\" style=\"fill:none;stroke:#b0b0b0;stroke-linecap:square;stroke-width:0.8;\"/>\r\n     </g>\r\n     <g id=\"line2d_22\">\r\n      <g>\r\n       <use style=\"stroke:#000000;stroke-width:0.8;\" x=\"43.78125\" xlink:href=\"#mdc997c15fe\" y=\"111.27073\"/>\r\n      </g>\r\n     </g>\r\n     <g id=\"text_12\">\r\n      <!-- 0.6 -->\r\n      <g transform=\"translate(20.878125 115.069949)scale(0.1 -0.1)\">\r\n       <use xlink:href=\"#DejaVuSans-48\"/>\r\n       <use x=\"63.623047\" xlink:href=\"#DejaVuSans-46\"/>\r\n       <use x=\"95.410156\" xlink:href=\"#DejaVuSans-54\"/>\r\n      </g>\r\n     </g>\r\n    </g>\r\n    <g id=\"ytick_5\">\r\n     <g id=\"line2d_23\">\r\n      <path clip-path=\"url(#pe0f5a965f1)\" d=\"M 43.78125 71.73594 \r\nL 378.58125 71.73594 \r\n\" style=\"fill:none;stroke:#b0b0b0;stroke-linecap:square;stroke-width:0.8;\"/>\r\n     </g>\r\n     <g id=\"line2d_24\">\r\n      <g>\r\n       <use style=\"stroke:#000000;stroke-width:0.8;\" x=\"43.78125\" xlink:href=\"#mdc997c15fe\" y=\"71.73594\"/>\r\n      </g>\r\n     </g>\r\n     <g id=\"text_13\">\r\n      <!-- 0.8 -->\r\n      <defs>\r\n       <path d=\"M 31.78125 34.625 \r\nQ 24.75 34.625 20.71875 30.859375 \r\nQ 16.703125 27.09375 16.703125 20.515625 \r\nQ 16.703125 13.921875 20.71875 10.15625 \r\nQ 24.75 6.390625 31.78125 6.390625 \r\nQ 38.8125 6.390625 42.859375 10.171875 \r\nQ 46.921875 13.96875 46.921875 20.515625 \r\nQ 46.921875 27.09375 42.890625 30.859375 \r\nQ 38.875 34.625 31.78125 34.625 \r\nz\r\nM 21.921875 38.8125 \r\nQ 15.578125 40.375 12.03125 44.71875 \r\nQ 8.5 49.078125 8.5 55.328125 \r\nQ 8.5 64.0625 14.71875 69.140625 \r\nQ 20.953125 74.21875 31.78125 74.21875 \r\nQ 42.671875 74.21875 48.875 69.140625 \r\nQ 55.078125 64.0625 55.078125 55.328125 \r\nQ 55.078125 49.078125 51.53125 44.71875 \r\nQ 48 40.375 41.703125 38.8125 \r\nQ 48.828125 37.15625 52.796875 32.3125 \r\nQ 56.78125 27.484375 56.78125 20.515625 \r\nQ 56.78125 9.90625 50.3125 4.234375 \r\nQ 43.84375 -1.421875 31.78125 -1.421875 \r\nQ 19.734375 -1.421875 13.25 4.234375 \r\nQ 6.78125 9.90625 6.78125 20.515625 \r\nQ 6.78125 27.484375 10.78125 32.3125 \r\nQ 14.796875 37.15625 21.921875 38.8125 \r\nz\r\nM 18.3125 54.390625 \r\nQ 18.3125 48.734375 21.84375 45.5625 \r\nQ 25.390625 42.390625 31.78125 42.390625 \r\nQ 38.140625 42.390625 41.71875 45.5625 \r\nQ 45.3125 48.734375 45.3125 54.390625 \r\nQ 45.3125 60.0625 41.71875 63.234375 \r\nQ 38.140625 66.40625 31.78125 66.40625 \r\nQ 25.390625 66.40625 21.84375 63.234375 \r\nQ 18.3125 60.0625 18.3125 54.390625 \r\nz\r\n\" id=\"DejaVuSans-56\"/>\r\n      </defs>\r\n      <g transform=\"translate(20.878125 75.535158)scale(0.1 -0.1)\">\r\n       <use xlink:href=\"#DejaVuSans-48\"/>\r\n       <use x=\"63.623047\" xlink:href=\"#DejaVuSans-46\"/>\r\n       <use x=\"95.410156\" xlink:href=\"#DejaVuSans-56\"/>\r\n      </g>\r\n     </g>\r\n    </g>\r\n    <g id=\"ytick_6\">\r\n     <g id=\"line2d_25\">\r\n      <path clip-path=\"url(#pe0f5a965f1)\" d=\"M 43.78125 32.201149 \r\nL 378.58125 32.201149 \r\n\" style=\"fill:none;stroke:#b0b0b0;stroke-linecap:square;stroke-width:0.8;\"/>\r\n     </g>\r\n     <g id=\"line2d_26\">\r\n      <g>\r\n       <use style=\"stroke:#000000;stroke-width:0.8;\" x=\"43.78125\" xlink:href=\"#mdc997c15fe\" y=\"32.201149\"/>\r\n      </g>\r\n     </g>\r\n     <g id=\"text_14\">\r\n      <!-- 1.0 -->\r\n      <g transform=\"translate(20.878125 36.000368)scale(0.1 -0.1)\">\r\n       <use xlink:href=\"#DejaVuSans-49\"/>\r\n       <use x=\"63.623047\" xlink:href=\"#DejaVuSans-46\"/>\r\n       <use x=\"95.410156\" xlink:href=\"#DejaVuSans-48\"/>\r\n      </g>\r\n     </g>\r\n    </g>\r\n    <g id=\"text_15\">\r\n     <!-- Wahrscheinlichkeit -->\r\n     <defs>\r\n      <path d=\"M 44.28125 53.078125 \r\nL 44.28125 44.578125 \r\nQ 40.484375 46.53125 36.375 47.5 \r\nQ 32.28125 48.484375 27.875 48.484375 \r\nQ 21.1875 48.484375 17.84375 46.4375 \r\nQ 14.5 44.390625 14.5 40.28125 \r\nQ 14.5 37.15625 16.890625 35.375 \r\nQ 19.28125 33.59375 26.515625 31.984375 \r\nL 29.59375 31.296875 \r\nQ 39.15625 29.25 43.1875 25.515625 \r\nQ 47.21875 21.78125 47.21875 15.09375 \r\nQ 47.21875 7.46875 41.1875 3.015625 \r\nQ 35.15625 -1.421875 24.609375 -1.421875 \r\nQ 20.21875 -1.421875 15.453125 -0.5625 \r\nQ 10.6875 0.296875 5.421875 2 \r\nL 5.421875 11.28125 \r\nQ 10.40625 8.6875 15.234375 7.390625 \r\nQ 20.0625 6.109375 24.8125 6.109375 \r\nQ 31.15625 6.109375 34.5625 8.28125 \r\nQ 37.984375 10.453125 37.984375 14.40625 \r\nQ 37.984375 18.0625 35.515625 20.015625 \r\nQ 33.0625 21.96875 24.703125 23.78125 \r\nL 21.578125 24.515625 \r\nQ 13.234375 26.265625 9.515625 29.90625 \r\nQ 5.8125 33.546875 5.8125 39.890625 \r\nQ 5.8125 47.609375 11.28125 51.796875 \r\nQ 16.75 56 26.8125 56 \r\nQ 31.78125 56 36.171875 55.265625 \r\nQ 40.578125 54.546875 44.28125 53.078125 \r\nz\r\n\" id=\"DejaVuSans-115\"/>\r\n      <path d=\"M 48.78125 52.59375 \r\nL 48.78125 44.1875 \r\nQ 44.96875 46.296875 41.140625 47.34375 \r\nQ 37.3125 48.390625 33.40625 48.390625 \r\nQ 24.65625 48.390625 19.8125 42.84375 \r\nQ 14.984375 37.3125 14.984375 27.296875 \r\nQ 14.984375 17.28125 19.8125 11.734375 \r\nQ 24.65625 6.203125 33.40625 6.203125 \r\nQ 37.3125 6.203125 41.140625 7.25 \r\nQ 44.96875 8.296875 48.78125 10.40625 \r\nL 48.78125 2.09375 \r\nQ 45.015625 0.34375 40.984375 -0.53125 \r\nQ 36.96875 -1.421875 32.421875 -1.421875 \r\nQ 20.0625 -1.421875 12.78125 6.34375 \r\nQ 5.515625 14.109375 5.515625 27.296875 \r\nQ 5.515625 40.671875 12.859375 48.328125 \r\nQ 20.21875 56 33.015625 56 \r\nQ 37.15625 56 41.109375 55.140625 \r\nQ 45.0625 54.296875 48.78125 52.59375 \r\nz\r\n\" id=\"DejaVuSans-99\"/>\r\n      <path d=\"M 9.421875 54.6875 \r\nL 18.40625 54.6875 \r\nL 18.40625 0 \r\nL 9.421875 0 \r\nz\r\nM 9.421875 75.984375 \r\nL 18.40625 75.984375 \r\nL 18.40625 64.59375 \r\nL 9.421875 64.59375 \r\nz\r\n\" id=\"DejaVuSans-105\"/>\r\n      <path d=\"M 9.078125 75.984375 \r\nL 18.109375 75.984375 \r\nL 18.109375 31.109375 \r\nL 44.921875 54.6875 \r\nL 56.390625 54.6875 \r\nL 27.390625 29.109375 \r\nL 57.625 0 \r\nL 45.90625 0 \r\nL 18.109375 26.703125 \r\nL 18.109375 0 \r\nL 9.078125 0 \r\nz\r\n\" id=\"DejaVuSans-107\"/>\r\n      <path d=\"M 18.3125 70.21875 \r\nL 18.3125 54.6875 \r\nL 36.8125 54.6875 \r\nL 36.8125 47.703125 \r\nL 18.3125 47.703125 \r\nL 18.3125 18.015625 \r\nQ 18.3125 11.328125 20.140625 9.421875 \r\nQ 21.96875 7.515625 27.59375 7.515625 \r\nL 36.8125 7.515625 \r\nL 36.8125 0 \r\nL 27.59375 0 \r\nQ 17.1875 0 13.234375 3.875 \r\nQ 9.28125 7.765625 9.28125 18.015625 \r\nL 9.28125 47.703125 \r\nL 2.6875 47.703125 \r\nL 2.6875 54.6875 \r\nL 9.28125 54.6875 \r\nL 9.28125 70.21875 \r\nz\r\n\" id=\"DejaVuSans-116\"/>\r\n     </defs>\r\n     <g transform=\"translate(14.798438 177.944375)rotate(-90)scale(0.1 -0.1)\">\r\n      <use xlink:href=\"#DejaVuSans-87\"/>\r\n      <use x=\"92.501953\" xlink:href=\"#DejaVuSans-97\"/>\r\n      <use x=\"153.78125\" xlink:href=\"#DejaVuSans-104\"/>\r\n      <use x=\"217.160156\" xlink:href=\"#DejaVuSans-114\"/>\r\n      <use x=\"258.273438\" xlink:href=\"#DejaVuSans-115\"/>\r\n      <use x=\"310.373047\" xlink:href=\"#DejaVuSans-99\"/>\r\n      <use x=\"365.353516\" xlink:href=\"#DejaVuSans-104\"/>\r\n      <use x=\"428.732422\" xlink:href=\"#DejaVuSans-101\"/>\r\n      <use x=\"490.255859\" xlink:href=\"#DejaVuSans-105\"/>\r\n      <use x=\"518.039062\" xlink:href=\"#DejaVuSans-110\"/>\r\n      <use x=\"581.417969\" xlink:href=\"#DejaVuSans-108\"/>\r\n      <use x=\"609.201172\" xlink:href=\"#DejaVuSans-105\"/>\r\n      <use x=\"636.984375\" xlink:href=\"#DejaVuSans-99\"/>\r\n      <use x=\"691.964844\" xlink:href=\"#DejaVuSans-104\"/>\r\n      <use x=\"755.34375\" xlink:href=\"#DejaVuSans-107\"/>\r\n      <use x=\"809.628906\" xlink:href=\"#DejaVuSans-101\"/>\r\n      <use x=\"871.152344\" xlink:href=\"#DejaVuSans-105\"/>\r\n      <use x=\"898.935547\" xlink:href=\"#DejaVuSans-116\"/>\r\n     </g>\r\n    </g>\r\n   </g>\r\n   <g id=\"line2d_27\">\r\n    <path clip-path=\"url(#pe0f5a965f1)\" d=\"M 58.999432 131.038125 \r\nL 64.072159 98.092466 \r\nL 69.144886 71.73594 \r\nL 74.217614 54.164922 \r\nL 79.290341 43.829029 \r\nL 84.363068 38.191269 \r\nL 89.435795 35.242287 \r\nL 94.508523 33.733505 \r\nL 99.58125 32.970309 \r\nL 104.653977 32.586479 \r\nL 109.726705 32.394002 \r\nL 114.799432 32.490287 \r\nL 119.872159 32.634539 \r\nL 124.944886 32.850522 \r\nL 130.017614 33.173611 \r\nL 135.090341 33.656263 \r\nL 140.163068 34.375816 \r\nL 145.235795 35.445305 \r\nL 150.308523 37.027776 \r\nL 155.38125 39.353766 \r\nL 160.453977 42.739417 \r\nL 165.526705 37.614582 \r\nL 170.599432 34.945443 \r\nL 175.672159 33.582887 \r\nL 180.744886 32.894441 \r\nL 185.817614 32.548404 \r\nL 190.890341 32.374929 \r\nL 195.963068 32.288077 \r\nL 201.035795 32.244623 \r\nL 206.108523 32.222888 \r\nL 211.18125 32.212019 \r\nL 216.253977 32.217454 \r\nL 221.326705 32.225606 \r\nL 226.399432 32.237831 \r\nL 231.472159 32.256167 \r\nL 236.544886 32.283665 \r\nL 241.617614 32.324897 \r\nL 246.690341 32.386713 \r\nL 251.763068 32.479364 \r\nL 256.835795 32.618178 \r\nL 261.908523 32.826034 \r\nL 266.98125 32.514086 \r\nL 272.053977 32.357742 \r\nL 277.126705 32.279476 \r\nL 282.199432 32.240321 \r\nL 287.272159 32.220737 \r\nL 292.344886 32.210943 \r\nL 297.417614 32.206046 \r\nL 302.490341 32.203598 \r\nL 307.563068 32.202374 \r\nL 312.635795 32.201761 \r\nL 317.708523 32.202067 \r\nL 322.78125 32.202527 \r\nL 327.853977 32.203215 \r\nL 332.926705 32.204248 \r\nL 337.999432 32.205798 \r\nL 343.072159 32.208122 \r\nL 348.144886 32.211608 \r\nL 353.217614 32.216837 \r\nL 358.290341 32.22468 \r\nL 363.363068 32.236444 \r\n\" style=\"fill:none;stroke:#008000;stroke-linecap:square;stroke-width:0.5;\"/>\r\n   </g>\r\n   <g id=\"line2d_28\">\r\n    <path clip-path=\"url(#pe0f5a965f1)\" d=\"M 58.999432 131.038125 \r\nL 64.072159 163.983784 \r\nL 69.144886 190.34031 \r\nL 74.217614 207.911328 \r\nL 79.290341 218.247221 \r\nL 84.363068 223.884981 \r\nL 89.435795 226.833963 \r\nL 94.508523 228.342745 \r\nL 99.58125 229.105941 \r\nL 104.653977 229.489771 \r\nL 109.726705 229.682248 \r\nL 114.799432 229.585963 \r\nL 119.872159 229.441711 \r\nL 124.944886 229.225728 \r\nL 130.017614 228.902639 \r\nL 135.090341 228.419987 \r\nL 140.163068 227.700434 \r\nL 145.235795 226.630945 \r\nL 150.308523 225.048474 \r\nL 155.38125 222.722484 \r\nL 160.453977 219.336833 \r\nL 165.526705 224.461668 \r\nL 170.599432 227.130807 \r\nL 175.672159 228.493363 \r\nL 180.744886 229.181809 \r\nL 185.817614 229.527846 \r\nL 190.890341 229.701321 \r\nL 195.963068 229.788173 \r\nL 201.035795 229.831627 \r\nL 206.108523 229.853362 \r\nL 211.18125 229.864231 \r\nL 216.253977 229.858796 \r\nL 221.326705 229.850644 \r\nL 226.399432 229.838419 \r\nL 231.472159 229.820083 \r\nL 236.544886 229.792585 \r\nL 241.617614 229.751353 \r\nL 246.690341 229.689537 \r\nL 251.763068 229.596886 \r\nL 256.835795 229.458072 \r\nL 261.908523 229.250216 \r\nL 266.98125 229.562164 \r\nL 272.053977 229.718508 \r\nL 277.126705 229.796774 \r\nL 282.199432 229.835929 \r\nL 287.272159 229.855513 \r\nL 292.344886 229.865307 \r\nL 297.417614 229.870204 \r\nL 302.490341 229.872652 \r\nL 307.563068 229.873876 \r\nL 312.635795 229.874489 \r\nL 317.708523 229.874183 \r\nL 322.78125 229.873723 \r\nL 327.853977 229.873035 \r\nL 332.926705 229.872002 \r\nL 337.999432 229.870452 \r\nL 343.072159 229.868128 \r\nL 348.144886 229.864642 \r\nL 353.217614 229.859413 \r\nL 358.290341 229.85157 \r\nL 363.363068 229.839806 \r\n\" style=\"fill:none;stroke:#ff0000;stroke-linecap:square;stroke-width:0.5;\"/>\r\n   </g>\r\n   <g id=\"patch_3\">\r\n    <path d=\"M 43.78125 239.758125 \r\nL 43.78125 22.318125 \r\n\" style=\"fill:none;stroke:#000000;stroke-linecap:square;stroke-linejoin:miter;stroke-width:0.8;\"/>\r\n   </g>\r\n   <g id=\"patch_4\">\r\n    <path d=\"M 378.58125 239.758125 \r\nL 378.58125 22.318125 \r\n\" style=\"fill:none;stroke:#000000;stroke-linecap:square;stroke-linejoin:miter;stroke-width:0.8;\"/>\r\n   </g>\r\n   <g id=\"patch_5\">\r\n    <path d=\"M 43.78125 239.758125 \r\nL 378.58125 239.758125 \r\n\" style=\"fill:none;stroke:#000000;stroke-linecap:square;stroke-linejoin:miter;stroke-width:0.8;\"/>\r\n   </g>\r\n   <g id=\"patch_6\">\r\n    <path d=\"M 43.78125 22.318125 \r\nL 378.58125 22.318125 \r\n\" style=\"fill:none;stroke:#000000;stroke-linecap:square;stroke-linejoin:miter;stroke-width:0.8;\"/>\r\n   </g>\r\n   <g id=\"text_16\">\r\n    <!-- Wahrscheinlichkeit der Würfel -->\r\n    <defs>\r\n     <path d=\"M 45.40625 46.390625 \r\nL 45.40625 75.984375 \r\nL 54.390625 75.984375 \r\nL 54.390625 0 \r\nL 45.40625 0 \r\nL 45.40625 8.203125 \r\nQ 42.578125 3.328125 38.25 0.953125 \r\nQ 33.9375 -1.421875 27.875 -1.421875 \r\nQ 17.96875 -1.421875 11.734375 6.484375 \r\nQ 5.515625 14.40625 5.515625 27.296875 \r\nQ 5.515625 40.1875 11.734375 48.09375 \r\nQ 17.96875 56 27.875 56 \r\nQ 33.9375 56 38.25 53.625 \r\nQ 42.578125 51.265625 45.40625 46.390625 \r\nz\r\nM 14.796875 27.296875 \r\nQ 14.796875 17.390625 18.875 11.75 \r\nQ 22.953125 6.109375 30.078125 6.109375 \r\nQ 37.203125 6.109375 41.296875 11.75 \r\nQ 45.40625 17.390625 45.40625 27.296875 \r\nQ 45.40625 37.203125 41.296875 42.84375 \r\nQ 37.203125 48.484375 30.078125 48.484375 \r\nQ 22.953125 48.484375 18.875 42.84375 \r\nQ 14.796875 37.203125 14.796875 27.296875 \r\nz\r\n\" id=\"DejaVuSans-100\"/>\r\n    </defs>\r\n    <g transform=\"translate(121.6575 16.318125)scale(0.12 -0.12)\">\r\n     <use xlink:href=\"#DejaVuSans-87\"/>\r\n     <use x=\"92.501953\" xlink:href=\"#DejaVuSans-97\"/>\r\n     <use x=\"153.78125\" xlink:href=\"#DejaVuSans-104\"/>\r\n     <use x=\"217.160156\" xlink:href=\"#DejaVuSans-114\"/>\r\n     <use x=\"258.273438\" xlink:href=\"#DejaVuSans-115\"/>\r\n     <use x=\"310.373047\" xlink:href=\"#DejaVuSans-99\"/>\r\n     <use x=\"365.353516\" xlink:href=\"#DejaVuSans-104\"/>\r\n     <use x=\"428.732422\" xlink:href=\"#DejaVuSans-101\"/>\r\n     <use x=\"490.255859\" xlink:href=\"#DejaVuSans-105\"/>\r\n     <use x=\"518.039062\" xlink:href=\"#DejaVuSans-110\"/>\r\n     <use x=\"581.417969\" xlink:href=\"#DejaVuSans-108\"/>\r\n     <use x=\"609.201172\" xlink:href=\"#DejaVuSans-105\"/>\r\n     <use x=\"636.984375\" xlink:href=\"#DejaVuSans-99\"/>\r\n     <use x=\"691.964844\" xlink:href=\"#DejaVuSans-104\"/>\r\n     <use x=\"755.34375\" xlink:href=\"#DejaVuSans-107\"/>\r\n     <use x=\"809.628906\" xlink:href=\"#DejaVuSans-101\"/>\r\n     <use x=\"871.152344\" xlink:href=\"#DejaVuSans-105\"/>\r\n     <use x=\"898.935547\" xlink:href=\"#DejaVuSans-116\"/>\r\n     <use x=\"938.144531\" xlink:href=\"#DejaVuSans-32\"/>\r\n     <use x=\"969.931641\" xlink:href=\"#DejaVuSans-100\"/>\r\n     <use x=\"1033.408203\" xlink:href=\"#DejaVuSans-101\"/>\r\n     <use x=\"1094.931641\" xlink:href=\"#DejaVuSans-114\"/>\r\n     <use x=\"1136.044922\" xlink:href=\"#DejaVuSans-32\"/>\r\n     <use x=\"1167.832031\" xlink:href=\"#DejaVuSans-87\"/>\r\n     <use x=\"1263.083984\" xlink:href=\"#DejaVuSans-252\"/>\r\n     <use x=\"1326.462891\" xlink:href=\"#DejaVuSans-114\"/>\r\n     <use x=\"1367.576172\" xlink:href=\"#DejaVuSans-102\"/>\r\n     <use x=\"1402.78125\" xlink:href=\"#DejaVuSans-101\"/>\r\n     <use x=\"1464.304688\" xlink:href=\"#DejaVuSans-108\"/>\r\n    </g>\r\n   </g>\r\n   <g id=\"legend_1\">\r\n    <g id=\"patch_7\">\r\n     <path d=\"M 159.567125 156.334625 \r\nL 266.795375 156.334625 \r\nQ 269.675375 156.334625 269.675375 153.454625 \r\nL 269.675375 112.621625 \r\nQ 269.675375 109.741625 266.795375 109.741625 \r\nL 159.567125 109.741625 \r\nQ 156.687125 109.741625 156.687125 112.621625 \r\nL 156.687125 153.454625 \r\nQ 156.687125 156.334625 159.567125 156.334625 \r\nz\r\n\" style=\"fill:#4c4c4c;opacity:0.5;stroke:#4c4c4c;stroke-linejoin:miter;\"/>\r\n    </g>\r\n    <g id=\"patch_8\">\r\n     <path d=\"M 157.567125 154.334625 \r\nL 264.795375 154.334625 \r\nQ 267.675375 154.334625 267.675375 151.454625 \r\nL 267.675375 110.621625 \r\nQ 267.675375 107.741625 264.795375 107.741625 \r\nL 157.567125 107.741625 \r\nQ 154.687125 107.741625 154.687125 110.621625 \r\nL 154.687125 151.454625 \r\nQ 154.687125 154.334625 157.567125 154.334625 \r\nz\r\n\" style=\"fill:#ffffff;stroke:#cccccc;stroke-linejoin:miter;\"/>\r\n    </g>\r\n    <g id=\"line2d_29\">\r\n     <path d=\"M 160.447125 119.403375 \r\nL 189.247125 119.403375 \r\n\" style=\"fill:none;stroke:#008000;stroke-linecap:square;stroke-width:0.5;\"/>\r\n    </g>\r\n    <g id=\"line2d_30\"/>\r\n    <g id=\"text_17\">\r\n     <!-- Würfel A -->\r\n     <g transform=\"translate(200.767125 124.443375)scale(0.144 -0.144)\">\r\n      <use xlink:href=\"#DejaVuSans-87\"/>\r\n      <use x=\"95.251953\" xlink:href=\"#DejaVuSans-252\"/>\r\n      <use x=\"158.630859\" xlink:href=\"#DejaVuSans-114\"/>\r\n      <use x=\"199.744141\" xlink:href=\"#DejaVuSans-102\"/>\r\n      <use x=\"234.949219\" xlink:href=\"#DejaVuSans-101\"/>\r\n      <use x=\"296.472656\" xlink:href=\"#DejaVuSans-108\"/>\r\n      <use x=\"324.255859\" xlink:href=\"#DejaVuSans-32\"/>\r\n      <use x=\"356.042969\" xlink:href=\"#DejaVuSans-65\"/>\r\n     </g>\r\n    </g>\r\n    <g id=\"line2d_31\">\r\n     <path d=\"M 160.447125 140.539875 \r\nL 189.247125 140.539875 \r\n\" style=\"fill:none;stroke:#ff0000;stroke-linecap:square;stroke-width:0.5;\"/>\r\n    </g>\r\n    <g id=\"line2d_32\"/>\r\n    <g id=\"text_18\">\r\n     <!-- Würfel B -->\r\n     <defs>\r\n      <path d=\"M 19.671875 34.8125 \r\nL 19.671875 8.109375 \r\nL 35.5 8.109375 \r\nQ 43.453125 8.109375 47.28125 11.40625 \r\nQ 51.125 14.703125 51.125 21.484375 \r\nQ 51.125 28.328125 47.28125 31.5625 \r\nQ 43.453125 34.8125 35.5 34.8125 \r\nz\r\nM 19.671875 64.796875 \r\nL 19.671875 42.828125 \r\nL 34.28125 42.828125 \r\nQ 41.5 42.828125 45.03125 45.53125 \r\nQ 48.578125 48.25 48.578125 53.8125 \r\nQ 48.578125 59.328125 45.03125 62.0625 \r\nQ 41.5 64.796875 34.28125 64.796875 \r\nz\r\nM 9.8125 72.90625 \r\nL 35.015625 72.90625 \r\nQ 46.296875 72.90625 52.390625 68.21875 \r\nQ 58.5 63.53125 58.5 54.890625 \r\nQ 58.5 48.1875 55.375 44.234375 \r\nQ 52.25 40.28125 46.1875 39.3125 \r\nQ 53.46875 37.75 57.5 32.78125 \r\nQ 61.53125 27.828125 61.53125 20.40625 \r\nQ 61.53125 10.640625 54.890625 5.3125 \r\nQ 48.25 0 35.984375 0 \r\nL 9.8125 0 \r\nz\r\n\" id=\"DejaVuSans-66\"/>\r\n     </defs>\r\n     <g transform=\"translate(200.767125 145.579875)scale(0.144 -0.144)\">\r\n      <use xlink:href=\"#DejaVuSans-87\"/>\r\n      <use x=\"95.251953\" xlink:href=\"#DejaVuSans-252\"/>\r\n      <use x=\"158.630859\" xlink:href=\"#DejaVuSans-114\"/>\r\n      <use x=\"199.744141\" xlink:href=\"#DejaVuSans-102\"/>\r\n      <use x=\"234.949219\" xlink:href=\"#DejaVuSans-101\"/>\r\n      <use x=\"296.472656\" xlink:href=\"#DejaVuSans-108\"/>\r\n      <use x=\"324.255859\" xlink:href=\"#DejaVuSans-32\"/>\r\n      <use x=\"356.042969\" xlink:href=\"#DejaVuSans-66\"/>\r\n     </g>\r\n    </g>\r\n   </g>\r\n  </g>\r\n </g>\r\n <defs>\r\n  <clipPath id=\"pe0f5a965f1\">\r\n   <rect height=\"217.44\" width=\"334.8\" x=\"43.78125\" y=\"22.318125\"/>\r\n  </clipPath>\r\n </defs>\r\n</svg>\r\n",
      "text/plain": "<Figure size 432x288 with 1 Axes>"
     },
     "metadata": {
      "needs_background": "light",
      "transient": {}
     },
     "output_type": "display_data"
    }
   ],
   "source": [
    "import matplotlib.pyplot as plt\r\n",
    "\r\n",
    "# Am Anfang gehen wir davon aus, dass beide Würfel gleichwahrscheinlich sind\r\n",
    "prior = (0.5, 0.5)\r\n",
    "# Sequenz der Würfelergebnisse\r\n",
    "sequenz = [1, 1, 1, 1, 1, 1, 1, 1, 1, 1, \r\n",
    "           2, 2, 2, 2, 2, 2, 2, 2, 2, 2, \r\n",
    "           3, 3, 3, 3, 3, 3, 3, 3, 3, 3, \r\n",
    "           4, 4, 4, 4, 4, 4, 4, 4, 4, 4, \r\n",
    "           5, 5, 5, 5, 5, 5, 5, 5, 5, 5, \r\n",
    "           6, 6, 6, 6, 6, 6, 6, 6, 6, 6]\r\n",
    "# Wahrscheinlichkeiten für die Würfelergebnisse\r\n",
    "P_G = 1/6 + 1/12\r\n",
    "P_U = 1/6 - 1/12\r\n",
    "wahrscheinlichkeitenA = [0.5]\r\n",
    "wahrscheinlichkeitenB = [0.5]\r\n",
    "\r\n",
    "\r\n",
    "for i in sequenz:\r\n",
    "    prior = bayesSchritt(\r\n",
    "        wurf=i,\r\n",
    "        wahrscheinlichkeitenA=[1/6, 1/6, 1/6, 1/6, 1/6, 1/6],\r\n",
    "        wahrscheinlichkeitenB=[P_U,P_G,P_U,P_G,P_U,P_G],\r\n",
    "        prior=prior\r\n",
    "    )\r\n",
    "    wahrscheinlichkeitenA.append(prior[0])\r\n",
    "    wahrscheinlichkeitenB.append(prior[1])\r\n",
    "\r\n",
    "\r\n",
    "#wahrscheinlichkeitenA.insert(0,0.5)\r\n",
    "#wahrscheinlichkeitenB.insert(0,0.5)\r\n",
    "plt.plot(range(len(sequenz) + 1), wahrscheinlichkeitenA, color='green', linewidth=0.5, linestyle='solid',\r\n",
    "         label='Würfel A')\r\n",
    "plt.plot(range(len(sequenz) + 1), wahrscheinlichkeitenB, color='red', linewidth=0.5, linestyle='solid',\r\n",
    "         label='Würfel B')\r\n",
    "legend = plt.legend(loc='center', shadow=True, fontsize='x-large')\r\n",
    "plt.xlabel('Anzahl Würfe')\r\n",
    "plt.ylabel('Wahrscheinlichkeit')\r\n",
    "plt.grid(True)\r\n",
    "_ = plt.title(\"Wahrscheinlichkeit der Würfel\")\r\n",
    "plt.show()\r\n",
    "\r\n",
    "\r\n",
    "\r\n"
   ]
  }
 ],
 "metadata": {
  "kernelspec": {
   "display_name": "Python 3.8.5 64-bit",
   "metadata": {
    "interpreter": {
     "hash": "01f2fe9c5779daf73a078ee8821f05c315577c713e94c03d8ba207e2bd5af3bf"
    }
   },
   "name": "python3"
  },
  "language_info": {
   "codemirror_mode": {
    "name": "ipython",
    "version": 3
   },
   "file_extension": ".py",
   "mimetype": "text/x-python",
   "name": "python",
   "nbconvert_exporter": "python",
   "pygments_lexer": "ipython3",
   "version": "3.8.5"
  }
 },
 "nbformat": 4,
 "nbformat_minor": 4
}